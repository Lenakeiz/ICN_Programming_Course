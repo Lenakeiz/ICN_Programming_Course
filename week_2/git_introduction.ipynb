{
 "cells": [
  {
   "cell_type": "markdown",
   "id": "acb8881f",
   "metadata": {},
   "source": [
    "# ICN Programming Course\n",
    "\n",
    "<p align=\"center\">\n",
    "    <img width=\"500\" alt=\"image\" src=\"https://github.com/Lenakeiz/ICN_Programming_Course/blob/main/Images/cog_neuro_logo_blue_png_0.png?raw=true\">\n",
    "</p>\n",
    "\n",
    "---"
   ]
  },
  {
   "cell_type": "markdown",
   "id": "cf1c632f",
   "metadata": {},
   "source": [
    "# **WEEK 2** - Git intro"
   ]
  },
  {
   "cell_type": "markdown",
   "id": "49d69d68",
   "metadata": {},
   "source": [
    "## What is Git?\n",
    "Git is a *distributed* version-control system that records snapshots of your project over time (like Word track changes but more sophisticated).\n",
    "It works best with plain-text files (e.g., `.py`, `.md`, `.txt`).\n",
    "\n",
    "<img width=\"400\" alt=\"image\" src=\"https://github.com/Lenakeiz/ICN_Programming_Course/blob/main/week_2/images/git_logo.png?raw=true\">\n",
    "\n",
    "**Git ≠ GitHub**: GitHub is a hosting platform that stores remote repositories and adds collaboration tools (issues, pull requests, continuou integration (CI), security checks).\n",
    "Other popular platform are GitLab, BitBucket.\n",
    "\n"
   ]
  },
  {
   "cell_type": "markdown",
   "id": "4e7b5a5b",
   "metadata": {},
   "source": [
    "## Why use Git?\n",
    "\n",
    "- Keep track changes of any of your file\n",
    "- Enables you to explore history\n",
    "- Enables you to collaborate safely with others\n",
    "- It s a gold standard in designing good software\n",
    "\n",
    "\n",
    "<img width=\"500\" alt=\"image\" src=\"https://github.com/Lenakeiz/ICN_Programming_Course/blob/main/week_2/images/final_phd.png?raw=true\">\n"
   ]
  },
  {
   "cell_type": "markdown",
   "id": "c65f6a82",
   "metadata": {},
   "source": [
    "## How to install Git\n",
    "\n",
    "- **Windows**: download from https://git-scm.com/download/win (select *Use Git from Windows Command Prompt*).\n",
    "- **macOS**: type `git` in Terminal and follow the prompts to install Xcode command line tools.\n",
    "- **Linux**: using your package manager, for Ubuntu: `sudo apt install git` \n",
    "\n",
    "> 📝**Note:** Remember to also create a github account at https://github.com/\n",
    "\n",
    "To verify the installation open a terminal check with `git --version` to confirm it works."
   ]
  },
  {
   "cell_type": "markdown",
   "id": "369b9c89",
   "metadata": {},
   "source": [
    "## Configuring Git (first-time setup)\n",
    "\n",
    "Before you start using Git, you should tell it *who you are* and set a default editor.  \n",
    "This information is stored once on your computer (global configuration), and will be used in every repository you create.\n",
    "\n",
    "- **`user.name`**: Your full name, used to label each commit you make.  \n",
    "- **`user.email`**: Your email address, also attached to commits (it should match the one you use with GitHub if you want commits linked to your profile).  \n",
    "- **`core.editor`**: The text editor Git opens when it needs you to type a commit message or resolve a merge conflict. You can set this to something simple like `nano` (terminal editor), or to your preferred editor (`code` for VS Code, `subl` for Sublime Text, etc.).  \n",
    "\n",
    "> 📝 **Note:** You only need to do this setup **once per computer**. After that, Git will remember your settings for all repositories on that machine.\n",
    "\n",
    "In Jupyter notebooks (like the current one), you can run terminal commands by prefixing them with `!`. For example:  \n",
    "\n",
    "```python\n",
    "!git --version\n",
    "```\n",
    "\n",
    "runs the same as typing `git --version` in a terminal."
   ]
  },
  {
   "cell_type": "code",
   "execution_count": 5,
   "id": "df481fc8",
   "metadata": {},
   "outputs": [
    {
     "name": "stdout",
     "output_type": "stream",
     "text": [
      "diff.astextplain.textconv=astextplain\n",
      "filter.lfs.clean=git-lfs clean -- %f\n",
      "filter.lfs.smudge=git-lfs smudge -- %f\n",
      "filter.lfs.process=git-lfs filter-process\n",
      "filter.lfs.required=true\n",
      "http.sslbackend=schannel\n",
      "core.autocrlf=true\n",
      "core.fscache=true\n",
      "core.symlinks=false\n",
      "core.editor=\"C:\\\\Program Files\\\\Notepad++\\\\notepad++.exe\" -multiInst -notabbar -nosession -noPlugin\n",
      "pull.rebase=false\n",
      "credential.helper=manager\n",
      "credential.https://dev.azure.com.usehttppath=true\n",
      "init.defaultbranch=main\n",
      "user.name=Lenakeiz\n",
      "user.email=andrea.castegnaro@outlook.com\n",
      "filter.lfs.smudge=git-lfs smudge -- %f\n",
      "filter.lfs.process=git-lfs filter-process\n",
      "filter.lfs.required=true\n",
      "filter.lfs.clean=git-lfs clean -- %f\n",
      "core.editor=nano\n",
      "core.repositoryformatversion=0\n",
      "core.filemode=false\n",
      "core.bare=false\n",
      "core.logallrefupdates=true\n",
      "core.symlinks=false\n",
      "core.ignorecase=true\n",
      "remote.origin.url=https://github.com/Lenakeiz/ICN_Programming_Course.git\n",
      "remote.origin.fetch=+refs/heads/*:refs/remotes/origin/*\n",
      "branch.main.remote=origin\n",
      "branch.main.merge=refs/heads/main\n",
      "branch.main.vscode-merge-base=origin/main\n"
     ]
    }
   ],
   "source": [
    "!git config --global user.name \"Lenakeiz\"\n",
    "!git config --global user.email \"andrea.castegnaro@outlook.com\"\n",
    "\n",
    "# to check the global configuration for git\n",
    "!git config --list"
   ]
  },
  {
   "cell_type": "code",
   "execution_count": null,
   "id": "51baf4f5",
   "metadata": {},
   "outputs": [],
   "source": []
  }
 ],
 "metadata": {
  "kernelspec": {
   "display_name": "ICN_Programming_Course-E5uewI15",
   "language": "python",
   "name": "python3"
  },
  "language_info": {
   "codemirror_mode": {
    "name": "ipython",
    "version": 3
   },
   "file_extension": ".py",
   "mimetype": "text/x-python",
   "name": "python",
   "nbconvert_exporter": "python",
   "pygments_lexer": "ipython3",
   "version": "3.10.11"
  }
 },
 "nbformat": 4,
 "nbformat_minor": 5
}
