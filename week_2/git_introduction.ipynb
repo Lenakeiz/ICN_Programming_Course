{
 "cells": [
  {
   "cell_type": "markdown",
   "id": "acb8881f",
   "metadata": {},
   "source": [
    "# ICN Programming Course\n",
    "\n",
    "<p align=\"center\">\n",
    "    <img width=\"500\" alt=\"image\" src=\"https://github.com/Lenakeiz/ICN_Programming_Course/blob/main/Images/cog_neuro_logo_blue_png_0.png?raw=true\">\n",
    "</p>\n",
    "\n",
    "---"
   ]
  },
  {
   "cell_type": "markdown",
   "id": "cf1c632f",
   "metadata": {},
   "source": [
    "# **WEEK 2** - Git intro"
   ]
  },
  {
   "cell_type": "markdown",
   "id": "49d69d68",
   "metadata": {},
   "source": [
    "## What is Git?\n",
    "Git is a *distributed* version-control system that records snapshots of your project over time (like Word track changes but more sophisticated).\n",
    "It works best with plain-text files (e.g., `.py`, `.md`, `.txt`).\n",
    "\n",
    "<img width=\"400\" alt=\"image\" src=\"https://github.com/Lenakeiz/ICN_Programming_Course/blob/main/week_2/images/git_logo.png?raw=true\">\n",
    "\n",
    "**Git ≠ GitHub**: GitHub is a hosting platform that stores remote repositories and adds collaboration tools (issues, pull requests, continuou integration (CI), security checks).\n",
    "Other popular platform are GitLab, BitBucket.\n",
    "\n"
   ]
  },
  {
   "cell_type": "markdown",
   "id": "4e7b5a5b",
   "metadata": {},
   "source": [
    "## Why use Git?\n",
    "\n",
    "- Keep track changes of any of your file\n",
    "- Enables you to explore history\n",
    "- Enables you to collaborate safely with others\n",
    "- It s a gold standard in designing good software\n",
    "\n",
    "\n",
    "<img width=\"500\" alt=\"image\" src=\"https://github.com/Lenakeiz/ICN_Programming_Course/blob/main/week_2/images/final_phd.png?raw=true\">\n"
   ]
  },
  {
   "cell_type": "markdown",
   "id": "c65f6a82",
   "metadata": {},
   "source": [
    "## How to install Git\n",
    "\n",
    "- **Windows**: download from https://git-scm.com/download/win (select *Use Git from Windows Command Prompt*).\n",
    "- **macOS**: type `git` in Terminal and follow the prompts to install Xcode command line tools.\n",
    "- **Linux**: using your package manager, for Ubuntu: `sudo apt install git` \n",
    "\n",
    "> 📝**Note:** Remember to also create a github account at https://github.com/\n",
    "\n",
    "To verify the installation open a terminal check with `git --version` to confirm it works."
   ]
  },
  {
   "cell_type": "markdown",
   "id": "369b9c89",
   "metadata": {},
   "source": [
    "## Configuring Git (first-time setup)\n",
    "\n",
    "Before you start using Git, you should tell it *who you are* and set a default editor.  \n",
    "This information is stored once on your computer (global configuration), and will be used in every repository you create.\n",
    "\n",
    "- **`user.name`**: Your full name, used to label each commit you make.  \n",
    "- **`user.email`**: Your email address, also attached to commits (it should match the one you use with GitHub if you want commits linked to your profile).  \n",
    "- **`core.editor`**: The text editor Git opens when it needs you to type a commit message or resolve a merge conflict. You can set this to something simple like `nano` (terminal editor), or to your preferred editor (`code` for VS Code, `subl` for Sublime Text, etc.).  \n",
    "\n",
    "> 📝 **Note:** You only need to do this setup **once per computer**. After that, Git will remember your settings for all repositories on that machine.\n",
    "\n",
    "In Jupyter notebooks (like the current one), you can run terminal commands by prefixing them with `!`. For example:  \n",
    "\n",
    "```python\n",
    "!git --version\n",
    "```\n",
    "\n",
    "runs the same as typing `git --version` in a terminal."
   ]
  },
  {
   "cell_type": "code",
   "execution_count": 5,
   "id": "df481fc8",
   "metadata": {},
   "outputs": [
    {
     "name": "stdout",
     "output_type": "stream",
     "text": [
      "diff.astextplain.textconv=astextplain\n",
      "filter.lfs.clean=git-lfs clean -- %f\n",
      "filter.lfs.smudge=git-lfs smudge -- %f\n",
      "filter.lfs.process=git-lfs filter-process\n",
      "filter.lfs.required=true\n",
      "http.sslbackend=schannel\n",
      "core.autocrlf=true\n",
      "core.fscache=true\n",
      "core.symlinks=false\n",
      "core.editor=\"C:\\\\Program Files\\\\Notepad++\\\\notepad++.exe\" -multiInst -notabbar -nosession -noPlugin\n",
      "pull.rebase=false\n",
      "credential.helper=manager\n",
      "credential.https://dev.azure.com.usehttppath=true\n",
      "init.defaultbranch=main\n",
      "user.name=Lenakeiz\n",
      "user.email=andrea.castegnaro@outlook.com\n",
      "filter.lfs.smudge=git-lfs smudge -- %f\n",
      "filter.lfs.process=git-lfs filter-process\n",
      "filter.lfs.required=true\n",
      "filter.lfs.clean=git-lfs clean -- %f\n",
      "core.editor=nano\n",
      "core.repositoryformatversion=0\n",
      "core.filemode=false\n",
      "core.bare=false\n",
      "core.logallrefupdates=true\n",
      "core.symlinks=false\n",
      "core.ignorecase=true\n",
      "remote.origin.url=https://github.com/Lenakeiz/ICN_Programming_Course.git\n",
      "remote.origin.fetch=+refs/heads/*:refs/remotes/origin/*\n",
      "branch.main.remote=origin\n",
      "branch.main.merge=refs/heads/main\n",
      "branch.main.vscode-merge-base=origin/main\n"
     ]
    }
   ],
   "source": [
    "!git config --global user.name \"Lenakeiz\"\n",
    "!git config --global user.email \"andrea.castegnaro@outlook.com\"\n",
    "\n",
    "# to check the global configuration for git\n",
    "!git config --list"
   ]
  },
  {
   "cell_type": "markdown",
   "id": "6c058e99",
   "metadata": {},
   "source": [
    "## Terminology\n",
    "\n",
    "### Distributed version control\n",
    "Git is a distributed version control system.\n",
    "\n",
    "Everyone works on a _copy_ of the repository and there is not a single _source of truth_ server.\n",
    "\n",
    "### Repository\n",
    "\n",
    "A **repository** (or *repo*) is where Git stores the complete revision history of your project.  \n",
    "It usually lives in a hidden directory called `.git` inside your project folder.\n",
    "\n",
    "On **Windows (PowerShell)**:  \n",
    "```powershell\n",
    "ls -Hidden\n",
    "```\n",
    "On **Windows (cmd)**:  \n",
    "```cmd\n",
    "dir /a\n",
    "```\n",
    "\n",
    "\n",
    "> 📝 **Note:** In day-to-day work you normally don’t interact with the `.git` directory directly — Git manages it for you.  \n",
    "\n",
    "<div style=\"border: 2px solid yellow; padding: 0.5em; border-radius: 5px;\">\n",
    "<strong>⚠️ Warning:</strong> Deleting the <code>.git</code> folder will erase all history and will stuck with your local copy only\n",
    "</div>"
   ]
  },
  {
   "cell_type": "code",
   "execution_count": 11,
   "id": "12b57cc3",
   "metadata": {},
   "outputs": [
    {
     "name": "stdout",
     "output_type": "stream",
     "text": [
      " Volume in drive C is Windows\n",
      " Volume Serial Number is 6861-3D27\n",
      "\n",
      " Directory of c:\\Projects\\ICN_Programming_Course\n",
      "\n",
      "22/09/2025  10:47    <DIR>          .\n",
      "26/03/2025  17:37    <DIR>          ..\n",
      "22/09/2025  12:13    <DIR>          .git\n",
      "25/01/2024  19:06             3,271 .gitignore\n",
      "25/01/2024  23:26    <DIR>          datasets\n",
      "26/01/2024  00:58    <DIR>          images\n",
      "17/01/2025  14:27             1,444 indentation_example.py\n",
      "24/01/2024  16:15             1,095 LICENSE\n",
      "31/01/2025  15:38        10,474,591 matplotlib_tutorial.ipynb\n",
      "17/01/2025  14:55             3,496 neuron.py\n",
      "25/01/2024  00:21               238 neuron_example.py\n",
      "24/01/2025  15:54           322,904 pandas_tutorial.ipynb\n",
      "31/01/2025  10:34               225 Pipfile\n",
      "31/01/2025  10:35           125,703 Pipfile.lock\n",
      "17/09/2025  13:49                24 README.md\n",
      "26/01/2024  12:52               763 sigmoid_function.py\n",
      "02/02/2024  12:09               478 solutions_matplotlib.py\n",
      "22/09/2025  09:48    <DIR>          week_1\n",
      "22/09/2025  10:57    <DIR>          week_2\n",
      "26/01/2024  16:33    <DIR>          __pycache__\n",
      "              12 File(s)     10,934,232 bytes\n",
      "               8 Dir(s)  1,054,575,554,560 bytes free\n"
     ]
    }
   ],
   "source": [
    "!cd c:\\Projects\\ICN_Programming_Course && dir /a"
   ]
  },
  {
   "cell_type": "markdown",
   "id": "46208074",
   "metadata": {},
   "source": []
  }
 ],
 "metadata": {
  "kernelspec": {
   "display_name": "ICN_Programming_Course-E5uewI15",
   "language": "python",
   "name": "python3"
  },
  "language_info": {
   "codemirror_mode": {
    "name": "ipython",
    "version": 3
   },
   "file_extension": ".py",
   "mimetype": "text/x-python",
   "name": "python",
   "nbconvert_exporter": "python",
   "pygments_lexer": "ipython3",
   "version": "3.10.11"
  }
 },
 "nbformat": 4,
 "nbformat_minor": 5
}
