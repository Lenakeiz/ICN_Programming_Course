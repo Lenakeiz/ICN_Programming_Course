{
 "cells": [
  {
   "cell_type": "markdown",
   "id": "acb8881f",
   "metadata": {},
   "source": [
    "# ICN Programming Course\n",
    "\n",
    "<p align=\"center\">\n",
    "    <img width=\"500\" alt=\"image\" src=\"https://github.com/Lenakeiz/ICN_Programming_Course/blob/main/Images/cog_neuro_logo_blue_png_0.png?raw=true\">\n",
    "</p>\n",
    "\n",
    "---"
   ]
  },
  {
   "cell_type": "markdown",
   "id": "cf1c632f",
   "metadata": {},
   "source": [
    "# **WEEK 2** - Git intro"
   ]
  },
  {
   "cell_type": "markdown",
   "id": "49d69d68",
   "metadata": {},
   "source": [
    "## What is Git?\n",
    "Git is a *distributed* version-control system that records snapshots of your project over time (like Word track changes but more sophisticated).\n",
    "It works best with plain-text files (e.g., `.py`, `.md`, `.txt`).\n",
    "\n",
    "<img width=\"400\" alt=\"image\" src=\"https://github.com/Lenakeiz/ICN_Programming_Course/blob/main/week_2/images/git_logo.png?raw=true\">\n",
    "\n",
    "**Git ≠ GitHub**: GitHub is a hosting platform that stores remote repositories and adds collaboration tools (issues, pull requests, continuou integration (CI), security checks).\n",
    "Other popular platform are GitLab, BitBucket.\n",
    "\n"
   ]
  },
  {
   "cell_type": "markdown",
   "id": "4e7b5a5b",
   "metadata": {},
   "source": [
    "## Why use Git?\n",
    "\n",
    "- Keep track changes of any of your file\n",
    "- Enables you to explore history\n",
    "- Enables you to collaborate safely with others\n",
    "- It s a gold standard in designing good software\n",
    "\n",
    "\n",
    "<img width=\"500\" alt=\"image\" src=\"https://github.com/Lenakeiz/ICN_Programming_Course/blob/main/week_2/images/final_phd.png?raw=true\">\n"
   ]
  },
  {
   "cell_type": "markdown",
   "id": "c65f6a82",
   "metadata": {},
   "source": [
    "## How to install Git\n",
    "\n",
    "- **Windows**: download from https://git-scm.com/download/win (select *Use Git from Windows Command Prompt*).\n",
    "- **macOS**: type `git` in Terminal and follow the prompts to install Xcode command line tools.\n",
    "- **Linux**: using your package manager, for Ubuntu: `sudo apt install git` \n",
    "\n",
    "> 📝**Note:** Remember to also create a github account at https://github.com/\n",
    "\n",
    "To verify the installation open a terminal check with `git --version` to confirm it works."
   ]
  },
  {
   "cell_type": "markdown",
   "id": "c3ea169d",
   "metadata": {},
   "source": [
    "## "
   ]
  }
 ],
 "metadata": {
  "kernelspec": {
   "display_name": "ICN_Programming_Course-E5uewI15",
   "language": "python",
   "name": "python3"
  },
  "language_info": {
   "name": "python",
   "version": "3.10.11"
  }
 },
 "nbformat": 4,
 "nbformat_minor": 5
}
