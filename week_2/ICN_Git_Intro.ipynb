{
 "cells": [
  {
   "cell_type": "markdown",
   "id": "ac1baa7a",
   "metadata": {},
   "source": [
    "# ICN Programming Course — Short Introduction to Git (for Jupyter users)\n",
    "*Prepared on 2025-09-22*\n",
    "\n",
    "## What you'll learn\n",
    "- What Git is and why to use it\n",
    "- Core concepts: repo, commits, staging area, branches; local vs remote\n",
    "- Essential commands you can run directly from a Jupyter notebook\n",
    "- Working with GitHub: remotes, cloning, pushing, pulling\n",
    "- Handling merge conflicts (guided demo)\n",
    "- Good practices: README, LICENSE, commit messages\n",
    "- Mini-exercises you can do on your own\n",
    "\n",
    "> **Tip:** In Jupyter, prefix shell commands with `!` or use a `%%bash` cell magic.\n"
   ]
  },
  {
   "cell_type": "markdown",
   "id": "69c9da6f",
   "metadata": {},
   "source": [
    "## 1. What is Git (in one paragraph)?\n",
    "Git is a *distributed* version-control system that records snapshots of your project over time. \n",
    "It works best with plain-text files (e.g., `.py`, `.md`, `.txt`) and enables you to explore history, branch safely, and collaborate without overwriting each other.\n",
    "**Git ≠ GitHub**: GitHub is a hosting platform that stores remote repositories and adds collaboration tools (issues, pull requests, CI, security checks).\n"
   ]
  },
  {
   "cell_type": "markdown",
   "id": "4f7e9d65",
   "metadata": {},
   "source": [
    "## 2. Install and configure (once per machine)\n",
    "If you're on a managed lab machine, Git may already be installed. Otherwise:\n",
    "- **Windows**: download from https://git-scm.com/download/win (select *Use Git from Windows Command Prompt*).\n",
    "- **macOS**: type `git` in Terminal and follow the prompts to install Xcode command line tools.\n",
    "- **Linux**: use your package manager (`apt`, `dnf`, etc.).\n",
    "\n",
    "After installing, set your identity and a default editor (done once):\n"
   ]
  },
  {
   "cell_type": "markdown",
   "id": "7f2f7a06",
   "metadata": {},
   "source": [
    "## Configuring Git (first-time setup)\n",
    "\n",
    "Before you start using Git, you should tell it *who you are* and set a default editor.  \n",
    "This information is stored once on your computer (global configuration), and will be used in every repository you create.\n",
    "\n",
    "- **`user.name`**: Your full name, used to label each commit you make.  \n",
    "- **`user.email`**: Your email address, also attached to commits (it should match the one you use with GitHub if you want commits linked to your profile).  \n",
    "- **`core.editor`**: The text editor Git opens when it needs you to type a commit message or resolve a merge conflict. You can set this to something simple like `nano` (terminal editor), or to your preferred editor (`code` for VS Code, `subl` for Sublime Text, etc.).  \n",
    "\n",
    "> 📝 **Note:** You only need to do this setup **once per computer**. After that, Git will remember your settings for all repositories on that machine.\n"
   ]
  },
  {
   "cell_type": "code",
   "execution_count": null,
   "id": "8d6fa0da",
   "metadata": {
    "tags": [
     "bash"
    ]
   },
   "outputs": [
    {
     "name": "stdout",
     "output_type": "stream",
     "text": [
      "diff.astextplain.textconv=astextplain\n",
      "filter.lfs.clean=git-lfs clean -- %f\n",
      "filter.lfs.smudge=git-lfs smudge -- %f\n",
      "filter.lfs.process=git-lfs filter-process\n",
      "filter.lfs.required=true\n",
      "http.sslbackend=schannel\n",
      "core.autocrlf=true\n",
      "core.fscache=true\n",
      "core.symlinks=false\n",
      "core.editor=\"C:\\\\Program Files\\\\Notepad++\\\\notepad++.exe\" -multiInst -notabbar -nosession -noPlugin\n",
      "pull.rebase=false\n",
      "credential.helper=manager\n",
      "credential.https://dev.azure.com.usehttppath=true\n",
      "init.defaultbranch=main\n",
      "user.name=Your Name\n",
      "user.email=your.name@your.domain\n",
      "filter.lfs.smudge=git-lfs smudge -- %f\n",
      "filter.lfs.process=git-lfs filter-process\n",
      "filter.lfs.required=true\n",
      "filter.lfs.clean=git-lfs clean -- %f\n",
      "core.editor=nano\n"
     ]
    }
   ],
   "source": [
    "\n",
    "\n",
    "\n",
    "\n",
    "# Configure with your details (run once)\n",
    "!git config --global user.name \"Your Name\"\n",
    "!git config --global user.email \"your.name@your.domain\"\n",
    "# Choose an editor you are comfortable with (nano, code, subl, etc.)\n",
    "!git config --global core.editor \"nano\"\n",
    "# (Optional) show the current config\n",
    "!git config --list\n"
   ]
  },
  {
   "cell_type": "markdown",
   "id": "7266a7e2",
   "metadata": {},
   "source": [
    "## 3. Create a local repository\n",
    "We'll make a sample folder and initialise Git.\n"
   ]
  },
  {
   "cell_type": "code",
   "execution_count": null,
   "id": "3cd297e9",
   "metadata": {
    "tags": [
     "bash"
    ]
   },
   "outputs": [],
   "source": [
    "\n",
    "%%bash\n",
    "set -e\n",
    "# Create and enter a practice folder (safe to re-run)\n",
    "mkdir -p ~/icn_git_intro && cd ~/icn_git_intro\n",
    "# Initialise a repo (creates a hidden .git directory)\n",
    "git init\n",
    "# Show hidden items; you should now see .git/\n",
    "ls -a\n"
   ]
  },
  {
   "cell_type": "markdown",
   "id": "982a15f5",
   "metadata": {},
   "source": [
    "### 3.1 Add a first file, stage, and commit\n",
    "Git tracks *staged* changes. Use `git add` to stage, then `git commit` to record a snapshot.\n"
   ]
  },
  {
   "cell_type": "code",
   "execution_count": null,
   "id": "f60e0344",
   "metadata": {
    "tags": [
     "bash"
    ]
   },
   "outputs": [],
   "source": [
    "\n",
    "%%bash\n",
    "set -e\n",
    "cd ~/icn_git_intro\n",
    "# Create a README in Markdown\n",
    "echo \"# My First Git Repo\" > README.md\n",
    "echo \"\" >> README.md\n",
    "echo \"This is a demo repository created from a Jupyter notebook.\" >> README.md\n",
    "\n",
    "# See status\n",
    "git status\n",
    "\n",
    "# Stage and commit\n",
    "git add README.md\n",
    "git commit -m \"Add initial README with project description\"\n",
    "\n",
    "# View history\n",
    "git log --oneline\n"
   ]
  },
  {
   "cell_type": "markdown",
   "id": "f47eb3d1",
   "metadata": {},
   "source": [
    "### 3.2 Inspect differences\n",
    "`git diff` shows *unstaged* changes; `git diff --cached` shows staged changes. You can also compare commits.\n"
   ]
  },
  {
   "cell_type": "code",
   "execution_count": null,
   "id": "7aab219b",
   "metadata": {
    "tags": [
     "bash"
    ]
   },
   "outputs": [],
   "source": [
    "\n",
    "%%bash\n",
    "set -e\n",
    "cd ~/icn_git_intro\n",
    "# Make an edit\n",
    "echo \"Second line: more details.\" >> README.md\n",
    "\n",
    "# View unstaged diff\n",
    "git diff | sed -n '1,120p'\n",
    "\n",
    "# Stage and view staged diff\n",
    "git add README.md\n",
    "git diff --cached | sed -n '1,120p'\n",
    "\n",
    "# Commit the change\n",
    "git commit -m \"Append details to README\"\n",
    "git log --oneline\n"
   ]
  },
  {
   "cell_type": "markdown",
   "id": "7c5f4be8",
   "metadata": {},
   "source": [
    "## 4. Branches (safe parallel work)\n",
    "Create a branch to try changes without touching `main`. Merge it back later.\n"
   ]
  },
  {
   "cell_type": "code",
   "execution_count": null,
   "id": "48fbd444",
   "metadata": {
    "tags": [
     "bash"
    ]
   },
   "outputs": [],
   "source": [
    "\n",
    "%%bash\n",
    "set -e\n",
    "cd ~/icn_git_intro\n",
    "\n",
    "# Create and switch to a new branch\n",
    "git checkout -b feature/title-tweak\n",
    "\n",
    "# Change the title\n",
    "sed -i.bak '1s/.*/# My First Git Repository (ICN demo)/' README.md || true\n",
    "# (macOS sed fallback)\n",
    "[ -f README.md.bak ] && mv README.md.bak README.md || true\n",
    "\n",
    "git add README.md\n",
    "git commit -m \"Tweak README title on feature branch\"\n",
    "\n",
    "# Switch back and merge\n",
    "git checkout main\n",
    "git merge feature/title-tweak --no-edit\n",
    "\n",
    "# Show a compact history graph\n",
    "git log --oneline --graph --decorate\n"
   ]
  },
  {
   "cell_type": "markdown",
   "id": "fefba5ff",
   "metadata": {},
   "source": [
    "## 5. Connect to GitHub (remote)\n",
    "1. Create an **empty** repo on GitHub (do **not** initialise with README/LICENCE).\n",
    "2. Copy its HTTPS URL, e.g. `https://github.com/USERNAME/icn_git_intro.git`.\n",
    "3. Add it as a remote and push your local `main` branch.\n",
    "> Authentication: GitHub requires a **Personal Access Token (PAT)** instead of your password for HTTPS pushes. Store it via the credential helper so you are not prompted every time.\n"
   ]
  },
  {
   "cell_type": "code",
   "execution_count": null,
   "id": "bb569207",
   "metadata": {
    "tags": [
     "bash"
    ]
   },
   "outputs": [],
   "source": [
    "\n",
    "%%bash\n",
    "set -e\n",
    "cd ~/icn_git_intro\n",
    "\n",
    "# Replace the URL with your own remote repo URL:\n",
    "REMOTE_URL=\"https://github.com/USERNAME/icn_git_intro.git\"\n",
    "\n",
    "# Add and verify the remote (safe to re-run)\n",
    "git remote remove origin 2>/dev/null || true\n",
    "git remote add origin \"$REMOTE_URL\"\n",
    "git remote -v\n",
    "\n",
    "# (Optional) cache credentials so you don't have to retype the PAT:\n",
    "git config --global credential.helper store\n",
    "\n",
    "# First push; sets upstream\n",
    "git push -u origin main || echo \"Note: This will prompt for GitHub username and PAT if run interactively.\"\n"
   ]
  },
  {
   "cell_type": "markdown",
   "id": "6775bee4",
   "metadata": {},
   "source": [
    "### 5.1 Pull, fetch, and push\n",
    "- `git fetch` downloads changes from the remote but doesn't modify your files.\n",
    "- `git pull` = fetch + merge (integrates remote changes).\n",
    "- `git push` uploads your local commits to the remote.\n"
   ]
  },
  {
   "cell_type": "code",
   "execution_count": null,
   "id": "56504164",
   "metadata": {
    "tags": [
     "bash"
    ]
   },
   "outputs": [],
   "source": [
    "\n",
    "%%bash\n",
    "set -e\n",
    "cd ~/icn_git_intro\n",
    "\n",
    "# Fetch (view remote branches/updates without merging)\n",
    "git fetch\n",
    "\n",
    "# Pull (merge remote changes into your current branch)\n",
    "git pull --ff-only || echo \"If you have divergent history, you may need to resolve or rebase.\"\n",
    "\n",
    "# Push local commits to the remote\n",
    "git push\n"
   ]
  },
  {
   "cell_type": "markdown",
   "id": "609afaa1",
   "metadata": {},
   "source": [
    "## 6. Practice merge conflicts (guided)\n",
    "We'll create a small conflict by editing the same line on two branches in different ways.\n"
   ]
  },
  {
   "cell_type": "code",
   "execution_count": null,
   "id": "b426e727",
   "metadata": {
    "tags": [
     "bash"
    ]
   },
   "outputs": [],
   "source": [
    "\n",
    "%%bash\n",
    "set -e\n",
    "cd ~/icn_git_intro\n",
    "\n",
    "# Ensure we are on main\n",
    "git checkout main\n",
    "\n",
    "# Create an alternate branch and change a line to 'SLC'\n",
    "git checkout -b new_feature\n",
    "sed -i.bak '1s/.*/# Hello, SLC!/' README.md || true\n",
    "[ -f README.md.bak ] && mv README.md.bak README.md || true\n",
    "git commit -am \"Change greeting to SLC on new_feature\"\n",
    "\n",
    "# Switch back and change the same line differently\n",
    "git checkout main\n",
    "sed -i.bak '1s/.*/# Hello, Salt Lake City!/' README.md || true\n",
    "[ -f README.md.bak ] && mv README.md.bak README.md || true\n",
    "git commit -am \"Change greeting to Salt Lake City on main\"\n",
    "\n",
    "# Attempt to merge -> expect a conflict\n",
    "set +e\n",
    "git merge new_feature\n",
    "RET=$?\n",
    "set -e\n",
    "\n",
    "if [ $RET -ne 0 ]; then\n",
    "  echo \">>> Merge conflict created intentionally. Open README.md and resolve the conflict markers.\"\n",
    "fi\n",
    "\n",
    "# Show what conflict markers look like:\n",
    "echo '\n",
    "<<<<<<< HEAD\n",
    "# Hello, Salt Lake City!\n",
    "=======\n",
    "# Hello, SLC!\n",
    ">>>>>>> new_feature\n",
    "' | sed -n '1,120p'\n"
   ]
  },
  {
   "cell_type": "markdown",
   "id": "d7ae60b0",
   "metadata": {},
   "source": [
    "### 6.1 Resolve and conclude the merge\n",
    "Open `README.md`, choose the final text (e.g., `# Hello, Salt Lake City!`), *remove* the conflict markers, then:\n"
   ]
  },
  {
   "cell_type": "code",
   "execution_count": null,
   "id": "63b87db1",
   "metadata": {
    "tags": [
     "bash"
    ]
   },
   "outputs": [],
   "source": [
    "\n",
    "%%bash\n",
    "set -e\n",
    "cd ~/icn_git_intro\n",
    "\n",
    "# Resolve programmatically for the demo (keep the long form)\n",
    "echo \"# Hello, Salt Lake City!\" > README.md\n",
    "\n",
    "git add README.md\n",
    "git commit -m \"Resolve merge conflict in README (choose full city name)\"\n",
    "\n",
    "# Push the resolved merge\n",
    "git push\n"
   ]
  },
  {
   "cell_type": "markdown",
   "id": "a1454bca",
   "metadata": {},
   "source": [
    "## 7. Undo & restore (use carefully)\n",
    "- Discard local file changes: `git restore <file>`\n",
    "- Unstage a staged file: `git restore --staged <file>`\n",
    "- Revert a commit by *adding* an inverse commit: `git revert <COMMIT>`\n",
    "- Forcefully align your local branch with remote (DANGER: destructive): `git reset --hard origin/main`\n"
   ]
  },
  {
   "cell_type": "code",
   "execution_count": null,
   "id": "fa5e82ef",
   "metadata": {
    "tags": [
     "bash"
    ]
   },
   "outputs": [],
   "source": [
    "\n",
    "%%bash\n",
    "set -e\n",
    "cd ~/icn_git_intro\n",
    "\n",
    "# Example: make a quick change, then restore\n",
    "echo \"Temporary line to be discarded.\" >> README.md\n",
    "git status -s\n",
    "git restore README.md\n",
    "git status -s\n"
   ]
  },
  {
   "cell_type": "markdown",
   "id": "3b5f9e13",
   "metadata": {},
   "source": [
    "## 8. Good practice\n",
    "- **Small, focused commits** with meaningful messages\n",
    "- Always start projects with a **README.md**\n",
    "- Include a **LICENSE** file so others know how they can use your work\n",
    "- Keep secrets out of version control; use `.gitignore` for data dumps, caches, etc.\n",
    "- Sync frequently: pull before you push\n"
   ]
  },
  {
   "cell_type": "code",
   "execution_count": null,
   "id": "c2c8cd0a",
   "metadata": {
    "tags": [
     "bash"
    ]
   },
   "outputs": [],
   "source": [
    "\n",
    "%%bash\n",
    "set -e\n",
    "cd ~/icn_git_intro\n",
    "\n",
    "# Add a minimal LICENSE (MIT as example) and a .gitignore\n",
    "cat > LICENSE <<'MIT'\n",
    "MIT License\n",
    "\n",
    "Copyright (c) 2025\n",
    "\n",
    "Permission is hereby granted, free of charge, to any person obtaining a copy\n",
    "of this software and associated documentation files (the \"Software\"), to deal\n",
    "in the Software without restriction, including without limitation the rights\n",
    "to use, copy, modify, merge, publish, distribute, sublicense, and/or sell\n",
    "copies of the Software, and to permit persons to whom the Software is\n",
    "furnished to do so, subject to the following conditions:\n",
    "\n",
    "[...trimmed for brevity in class demo...]\n",
    "MIT\n",
    "\n",
    "cat > .gitignore <<'IGN'\n",
    "# Python\n",
    "__pycache__/\n",
    "*.py[cod]\n",
    ".venv/\n",
    ".env\n",
    "\n",
    "# Jupyter\n",
    ".ipynb_checkpoints/\n",
    "\n",
    "# Data (example)\n",
    "data/\n",
    "IGN\n",
    "\n",
    "git add LICENSE .gitignore\n",
    "git commit -m \"Add LICENSE (MIT, demo) and .gitignore\"\n",
    "git push || true\n"
   ]
  },
  {
   "cell_type": "markdown",
   "id": "40afc2a1",
   "metadata": {},
   "source": [
    "## 9. Mini‑exercises (to try now or later)\n",
    "1. Create a new repo locally, add a couple of files, and commit twice. Use `git log` to inspect history.\n",
    "2. Create and switch to a new branch, make edits, and merge back to `main`.\n",
    "3. Create an empty remote on GitHub for that project, add `origin`, and push `main`.\n",
    "4. On GitHub, edit the README online, then `git fetch` and `git pull` locally to get the change.\n",
    "5. Intentionally create a conflict (as above) and practice resolving it.\n",
    "6. Add a `LICENSE` and `.gitignore`, commit, and push.\n"
   ]
  },
  {
   "cell_type": "markdown",
   "id": "cfe51967",
   "metadata": {},
   "source": [
    "---\n",
    "### Appendix: Useful references\n",
    "- Pro Git (free book): https://git-scm.com/book\n",
    "- Git docs: https://git-scm.com/doc\n",
    "- Software Carpentry Git lesson: https://swcarpentry.github.io/git-novice/\n",
    "- Markdown guide: https://www.markdownguide.org/getting-started/\n",
    "\n",
    "> If you prefer GUIs, try **GitHub Desktop** or the **VS Code Git** panel.\n"
   ]
  }
 ],
 "metadata": {
  "kernelspec": {
   "display_name": "ICN_Programming_Course-E5uewI15",
   "language": "python",
   "name": "python3"
  },
  "language_info": {
   "codemirror_mode": {
    "name": "ipython",
    "version": 3
   },
   "file_extension": ".py",
   "mimetype": "text/x-python",
   "name": "python",
   "nbconvert_exporter": "python",
   "pygments_lexer": "ipython3",
   "version": "3.10.11"
  }
 },
 "nbformat": 4,
 "nbformat_minor": 5
}
