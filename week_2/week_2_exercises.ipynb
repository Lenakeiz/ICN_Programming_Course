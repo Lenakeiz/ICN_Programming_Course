{
 "cells": [
  {
   "cell_type": "markdown",
   "id": "f83de4c6",
   "metadata": {},
   "source": [
    "# ICN Programming Course\n",
    "\n",
    "<p align=\"center\">\n",
    "    <img width=\"500\" alt=\"image\" src=\"https://github.com/Lenakeiz/ICN_Programming_Course/blob/main/Images/cog_neuro_logo_blue_png_0.png?raw=true\">\n",
    "</p>\n",
    "\n",
    "---"
   ]
  },
  {
   "cell_type": "markdown",
   "id": "79e3a318",
   "metadata": {},
   "source": [
    "# **WEEK 2** - Exercises"
   ]
  },
  {
   "cell_type": "markdown",
   "id": "f0d15b95",
   "metadata": {},
   "source": [
    "## [1] Solving a Git merge conflict\n",
    "\n",
    "Try and resolve a merge conflict. For simplicity we are going to do it in a local repository so you will not need \n",
    "\n",
    "1) Create a new repository in an empty folder (by default you will be on main)\n",
    "2) Create a new `merge_example.txt` and add a line of text\n",
    "3) Add any text into the file\n",
    "4) Stage and commit to the `main` branch\n",
    "5) Switch to a new branch `resolving_merge`\n",
    "6) Modify the previously inserted line in `merge_example.txt`\n",
    "7) Stage and commit to the `resolving_merge`\n",
    "8) Checkout back to `main`\n",
    "9) Modify the line in `merge_example.txt`\n",
    "10) Stage and commit to `main`\n",
    "11) Try to merge — expect a conflict\n",
    "12) Inspect the conflict markers\n",
    "- > Open `merge_example.txt`. You’ll see something like:\n",
    "```text\n",
    "<<<<<<< HEAD\n",
    "Some text here\n",
    "=======\n",
    "Some other text here\n",
    ">>>>>>> resolving_merge\n",
    "```\n",
    "- The section under `<<<<<<< HEAD` is your **main** branch version.  \n",
    "- The section under `=======` and above `>>>>>>> resolving_merge` is the **resolving_merge** version.\n",
    "\n",
    "You need to **remove** all conflict markers (`<<<<<<<`, `=======`, `>>>>>>>`) so the file contains **only** the final text.\n",
    "\n",
    "13) Edit the file to your final choice\n",
    "14) Mark as resolved and complete the merge\n",
    "15) Verify the result\n"
   ]
  },
  {
   "cell_type": "markdown",
   "id": "163ae3ef",
   "metadata": {},
   "source": [
    "```bash\n",
    "\n",
    "mkdir merge_conflict_demo\n",
    "cd merge_conflict_demo\n",
    "git init\n",
    "\n",
    "echo \"Greeting: Hello, World!\" > merge_example.txt\n",
    "\n",
    "git add merge_example.txt\n",
    "git commit -m \"Initial commit with greeting\"\n",
    "\n",
    "git checkout -b resolving_merge\n",
    "\n",
    "echo \"Greeting: Hello, ICN!\" > merge_example.txt\n",
    "git add merge_example.txt\n",
    "git commit -m \"Change greeting to ICN on resolving_merge\"\n",
    "\n",
    "git checkout main\n",
    "echo \"Greeting: Hello, Institute of Cognitive Neuroscience!\" > merge_example.txt\n",
    "\n",
    "git add merge_example.txt\n",
    "git commit -m \"Change greeting to full name on main\"\n",
    "```\n",
    "\n",
    "Resolve the conflict manually by opening the file and working on the section under `<<<<<<< HEAD`\n",
    "Make sure to **remove** all of the conflicts markers (`<<<<<<<`, `=======`, `>>>>>>>`)\n",
    "\n",
    "```bash\n",
    "git add merge_example.txt        # stage the resolved file\n",
    "git commit -m \"Resolve merge conflict in merge_example.txt\"\n",
    "git log --oneline --graph --decorate\n",
    "cat merge_example.txt\n",
    "```"
   ]
  },
  {
   "cell_type": "markdown",
   "id": "32c7ee17",
   "metadata": {},
   "source": [
    "## [7] Random Matrices (10×5)\n",
    "- Uniformly distributed in [0, 1]\n",
    "- Normally distributed with mean 0, std 1\n",
    "- Normally distributed with mean 0, std 2"
   ]
  },
  {
   "cell_type": "code",
   "execution_count": null,
   "id": "ae04267c",
   "metadata": {},
   "outputs": [],
   "source": [
    "import numpy as np\n",
    "\n",
    "np.random.seed(42)  # for reproducibility\n",
    "\n",
    "uniform_01 = np.random.rand(10, 5)\n",
    "normal_0_1 = np.random.normal(loc=0, scale=1, size=(10, 5))\n",
    "normal_0_2 = np.random.normal(loc=0, scale=2, size=(10, 5))\n",
    "\n",
    "print(\"uniform_01 shape:\", uniform_01.shape)\n",
    "print(\"normal_0_1 shape:\", normal_0_1.shape)\n",
    "print(\"normal_0_2 shape:\", normal_0_2.shape)\n",
    "\n",
    "# Show first 3 rows of each for a quick peek\n",
    "print(\"\\nFirst 3 rows (uniform [0,1]):\\n\", uniform_01[:3])\n",
    "print(\"\\nFirst 3 rows (normal mean=0, std=1):\\n\", normal_0_1[:3])\n",
    "print(\"\\nFirst 3 rows (normal mean=0, std=2):\\n\", normal_0_2[:3])"
   ]
  }
 ],
 "metadata": {
  "kernelspec": {
   "display_name": "ICN_Programming_Course-E5uewI15",
   "language": "python",
   "name": "python3"
  },
  "language_info": {
   "name": "python",
   "version": "3.10.11"
  }
 },
 "nbformat": 4,
 "nbformat_minor": 5
}
