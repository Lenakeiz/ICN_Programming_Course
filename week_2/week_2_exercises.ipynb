{
 "cells": [
  {
   "cell_type": "markdown",
   "id": "f83de4c6",
   "metadata": {},
   "source": [
    "# ICN Programming Course\n",
    "\n",
    "<p align=\"center\">\n",
    "    <img width=\"500\" alt=\"image\" src=\"https://github.com/Lenakeiz/ICN_Programming_Course/blob/main/Images/cog_neuro_logo_blue_png_0.png?raw=true\">\n",
    "</p>\n",
    "\n",
    "---"
   ]
  },
  {
   "cell_type": "markdown",
   "id": "79e3a318",
   "metadata": {},
   "source": [
    "# **WEEK 1** - Exercises"
   ]
  },
  {
   "cell_type": "markdown",
   "id": "f0d15b95",
   "metadata": {},
   "source": [
    "## [1] Solving a Git merge conflict\n",
    "\n",
    "Try and resolve a merge conflict. For simplicity we are going to do it in a local repository so you will not need \n",
    "\n",
    "1) Create a new repository in an empty folder (by default you will be on main)\n",
    "2) Create a new `merge_example.txt` and add a line of text\n",
    "3) Add any text into the file\n",
    "4) Stage and commit to the `main` branch\n",
    "5) Switch to a new branch `resolving_merge`\n",
    "6) Modify the previously inserted line in `merge_example.txt`\n",
    "7) Stage and commit to the `resolving_merge`\n",
    "8) Checkout back to `main`\n",
    "9) Modify the line in `merge_example.txt`\n",
    "10) Stage and commit to `main`\n",
    "11) Try to merge — expect a conflict\n",
    "12) Inspect the conflict markers\n",
    "- > Open `merge_example.txt`. You’ll see something like:\n",
    "```text\n",
    "<<<<<<< HEAD\n",
    "Some text here\n",
    "=======\n",
    "Some other text here\n",
    ">>>>>>> resolving_merge\n",
    "```\n",
    "- The section under `<<<<<<< HEAD` is your **main** branch version.  \n",
    "- The section under `=======` and above `>>>>>>> resolving_merge` is the **resolving_merge** version.\n",
    "\n",
    "You need to **remove** all conflict markers (`<<<<<<<`, `=======`, `>>>>>>>`) so the file contains **only** the final text.\n",
    "\n",
    "13) Edit the file to your final choice\n",
    "14) Mark as resolved and complete the merge\n",
    "15) Verify the result\n"
   ]
  },
  {
   "cell_type": "markdown",
   "id": "163ae3ef",
   "metadata": {},
   "source": [
    "```bash\n",
    "\n",
    "mkdir merge_conflict_demo\n",
    "cd merge_conflict_demo\n",
    "git init\n",
    "\n",
    "echo \"Greeting: Hello, World!\" > merge_example.txt\n",
    "\n",
    "git add merge_example.txt\n",
    "git commit -m \"Initial commit with greeting\"\n",
    "\n",
    "git checkout -b resolving_merge\n",
    "\n",
    "echo \"Greeting: Hello, ICN!\" > merge_example.txt\n",
    "git add merge_example.txt\n",
    "git commit -m \"Change greeting to ICN on resolving_merge\"\n",
    "\n",
    "git checkout main\n",
    "echo \"Greeting: Hello, Institute of Cognitive Neuroscience!\" > merge_example.txt\n",
    "\n",
    "git add merge_example.txt\n",
    "git commit -m \"Change greeting to full name on main\"\n",
    "```\n",
    "\n",
    "Resolve the conflict manually by opening the file and working on the section under `<<<<<<< HEAD`\n",
    "Make sure to **remove** all of the conflicts markers (`<<<<<<<`, `=======`, `>>>>>>>`)\n",
    "\n",
    "```bash\n",
    "git add merge_example.txt        # stage the resolved file\n",
    "git commit -m \"Resolve merge conflict in merge_example.txt\"\n",
    "git log --oneline --graph --decorate\n",
    "cat merge_example.txt\n",
    "```"
   ]
  }
 ],
 "metadata": {
  "language_info": {
   "name": "python"
  }
 },
 "nbformat": 4,
 "nbformat_minor": 5
}
