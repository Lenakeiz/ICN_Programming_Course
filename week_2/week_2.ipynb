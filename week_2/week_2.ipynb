{
 "cells": [
  {
   "cell_type": "markdown",
   "id": "e0e62bb3",
   "metadata": {},
   "source": [
    "# ICN Programming Course\n",
    "\n",
    "<p align=\"center\">\n",
    "    <img width=\"500\" alt=\"image\" src=\"https://github.com/Lenakeiz/ICN_Programming_Course/blob/main/Images/cog_neuro_logo_blue_png_0.png?raw=true\">\n",
    "</p>\n",
    "\n",
    "---"
   ]
  },
  {
   "cell_type": "markdown",
   "id": "e4cef724",
   "metadata": {},
   "source": [
    "# **WEEK 2** - Numpy mathematical functions, random numbers"
   ]
  },
  {
   "cell_type": "markdown",
   "id": "5140ccd0",
   "metadata": {},
   "source": [
    "## NumPy Mathematical Functions\n",
    "\n",
    "NumPy provides a comprehensive set of mathematical functions.\n",
    "These functions are highly optimized and essential for numerical computations.\n",
    "\n",
    "They cover a wide range of operations, including:\n",
    "\n",
    "*   **Trigonometric functions:** `np.sin()`, `np.cos()`, `np.tan()`\n",
    "*   **Exponential and logarithmic functions:** `np.exp()`, `np.log()`, `np.log10()`\n",
    "*   **Rounding:** `np.round()`, `np.floor()`, `np.ceil()`\n",
    "*   **Powers and roots:** `np.sqrt()`, `np.power()`\n",
    "*   **Statistical functions:** `np.mean()`, `np.std()`, `np.max()`, `np.min()`, `np.sum()`\n",
    "\n",
    "These functions operate element-wise on NumPy arrays, meaning they apply the function to each element of the array independently. \n",
    "\n",
    "⚠️ **Note on NumPy vs the `math` module:**  \n",
    "Many functions exist both in _python_ `math` (e.g., `math.sqrt`, `math.log`) and in NumPy (`np.sqrt`, `np.log`), however:\n",
    "- The `math` versions work only on single numbers (scalars)."
   ]
  },
  {
   "cell_type": "code",
   "execution_count": 2,
   "id": "9a899a8a",
   "metadata": {},
   "outputs": [
    {
     "name": "stdout",
     "output_type": "stream",
     "text": [
      "3.0\n"
     ]
    },
    {
     "ename": "TypeError",
     "evalue": "must be real number, not list",
     "output_type": "error",
     "traceback": [
      "\u001b[1;31m---------------------------------------------------------------------------\u001b[0m",
      "\u001b[1;31mTypeError\u001b[0m                                 Traceback (most recent call last)",
      "Cell \u001b[1;32mIn[2], line 9\u001b[0m\n\u001b[0;32m      5\u001b[0m \u001b[38;5;28mprint\u001b[39m(math\u001b[38;5;241m.\u001b[39msqrt(\u001b[38;5;241m9\u001b[39m))\n\u001b[0;32m      7\u001b[0m \u001b[38;5;66;03m# The following code will return an error\u001b[39;00m\n\u001b[0;32m      8\u001b[0m \u001b[38;5;66;03m# math.sqrt fails on lists or arrays\u001b[39;00m\n\u001b[1;32m----> 9\u001b[0m \u001b[38;5;28mprint\u001b[39m(\u001b[43mmath\u001b[49m\u001b[38;5;241;43m.\u001b[39;49m\u001b[43msqrt\u001b[49m\u001b[43m(\u001b[49m\u001b[43m[\u001b[49m\u001b[38;5;241;43m1\u001b[39;49m\u001b[43m,\u001b[49m\u001b[43m \u001b[49m\u001b[38;5;241;43m4\u001b[39;49m\u001b[43m,\u001b[49m\u001b[43m \u001b[49m\u001b[38;5;241;43m9\u001b[39;49m\u001b[43m]\u001b[49m\u001b[43m)\u001b[49m)\n\u001b[0;32m     11\u001b[0m \u001b[38;5;66;03m# Comment the above line and uncomment the following line to see the correct usage\u001b[39;00m\n\u001b[0;32m     12\u001b[0m \u001b[38;5;66;03m# np.sqrt works element-wise on arrays or lists\u001b[39;00m\n\u001b[0;32m     13\u001b[0m \u001b[38;5;28mprint\u001b[39m(np\u001b[38;5;241m.\u001b[39msqrt([\u001b[38;5;241m1\u001b[39m, \u001b[38;5;241m4\u001b[39m, \u001b[38;5;241m9\u001b[39m]))\n",
      "\u001b[1;31mTypeError\u001b[0m: must be real number, not list"
     ]
    }
   ],
   "source": [
    "import math\n",
    "import numpy as np\n",
    "\n",
    "# math.sqrt works for single numbers\n",
    "print(math.sqrt(9))\n",
    "\n",
    "# The following code will return an error\n",
    "# math.sqrt fails on lists or arrays\n",
    "print(math.sqrt([1, 4, 9]))\n",
    "\n",
    "# Comment the above line and uncomment the following line to see the correct usage\n",
    "# np.sqrt works element-wise on arrays or lists\n",
    "print(np.sqrt([1, 4, 9]))"
   ]
  },
  {
   "cell_type": "markdown",
   "id": "f87a1cbc",
   "metadata": {},
   "source": [
    "## Boolean (Fancy) Indexing Concatenation\n",
    "\n",
    "Boolean indexing in NumPy allows you to select elements based on a boolean array (an array of `True` and `False` values).\n",
    "To combine multiple conditions in boolean indexing, you use NumPy's **element-wise logical operators**:\n",
    "\n",
    "*   **`&` (Element-wise AND):** Returns `True` if *both* conditions for a given element are `True`.\n",
    "*   **`|` (Element-wise OR):** Returns `True` if *at least one* of the conditions for a given element is `True`.\n",
    "*   **`~` (Element-wise NOT):** Inverts the boolean array (True becomes False, and False becomes True).\n"
   ]
  },
  {
   "cell_type": "code",
   "execution_count": 3,
   "id": "e943f6ae",
   "metadata": {},
   "outputs": [
    {
     "name": "stdout",
     "output_type": "stream",
     "text": [
      "Original firing rates vector:\n",
      "[ 5.5  8.1 12.  15.2 18.5 20.3  6.8 25. ]\n",
      "----------------------------------------\n",
      "Boolean array (rates > 7 AND rates < 19):\n",
      "[False  True  True  True  True False False False]\n",
      "Boolean array (rates < 7 OR rates > 20):\n",
      "[ True False False False False  True  True  True]\n",
      "----------------------------------------\n",
      "Boolean array (NOT rates > 10):\n",
      "[ True  True False False False False  True False]\n",
      "----------------------------------------\n"
     ]
    }
   ],
   "source": [
    "import numpy as np\n",
    "\n",
    "firing_rates = np.array([5.5, 8.1, 12.0, 15.2, 18.5, 20.3, 6.8, 25.0])\n",
    "print(\"Original firing rates vector:\")\n",
    "print(firing_rates)\n",
    "print(\"-\" * 40)\n",
    "\n",
    "condition_and = (firing_rates > 7) & (firing_rates < 19)\n",
    "print(\"Boolean array (rates > 7 AND rates < 19):\")\n",
    "print(condition_and)\n",
    "\n",
    "condition_or = (firing_rates < 7) | (firing_rates > 20)\n",
    "print(\"Boolean array (rates < 7 OR rates > 20):\")\n",
    "print(condition_or)\n",
    "print(\"-\" * 40)\n",
    "\n",
    "condition_not = ~(firing_rates > 10)\n",
    "print(\"Boolean array (NOT rates > 10):\")\n",
    "print(condition_not)\n",
    "print(\"-\" * 40)"
   ]
  },
  {
   "cell_type": "markdown",
   "id": "a4ed79a2",
   "metadata": {},
   "source": [
    "# Generating Random Numbers with NumPy\n",
    "\n",
    "Generating random numbers is a common requirement for simulating stochastic processes in neural models, creating randomized experimental designs, or generating synthetic data for testing your own algorithms.\n",
    "\n",
    "NumPy's `random` module provides a variety of functions for generating arrays of random numbers from different distributions.\n",
    "\n",
    "The `numpy.random` module is a sub-module within NumPy that specifically deals with random number generation.\n",
    "\n",
    "Some of its commonly used functions include:\n",
    "\n",
    "*   **`np.random.rand(d0, d1, ..., dn)`:** Creates an array of the given shape filled with random samples from a **uniform distribution** over `[0, 1)`.\n",
    "\n",
    "*   **`np.random.randn(d0, d1, ..., dn)`:** Creates an array of the given shape filled with random samples from the **standard normal distribution** (mean 0, standard deviation 1).\n",
    "\n",
    "*   **`np.random.randint(low, high=None, size=None, dtype=int)`:** Returns random **integers** from `low` (inclusive) to `high` (exclusive).\n",
    "\n",
    "*   **`np.random.normal(loc=0.0, scale=1.0, size=None)`:** Draws random samples from a **normal (Gaussian) distribution** with a specified mean (`loc`) and standard deviation (`scale`).\n",
    "\n",
    "*   **`np.random.poisson(lam=1.0, size=None)`:** Draws random samples from a **Poisson distribution**. `lam` stands for the lambda parameter."
   ]
  },
  {
   "cell_type": "code",
   "execution_count": 7,
   "id": "5c4e803f",
   "metadata": {},
   "outputs": [
    {
     "name": "stdout",
     "output_type": "stream",
     "text": [
      "Random Uniform Weights (1000x1000):\n",
      "[[5.66163082e-01 4.78775378e-01 8.90478295e-01 8.89740629e-02\n",
      "  7.11167347e-01]\n",
      " [5.49136482e-01 9.40234874e-04 5.26461213e-01 1.12110709e-01\n",
      "  4.95031401e-01]\n",
      " [6.22505185e-01 8.19882766e-01 3.96409596e-01 8.26177866e-01\n",
      "  5.51359540e-01]\n",
      " [2.15764048e-01 5.79136586e-01 2.48304689e-01 5.30423251e-01\n",
      "  9.16614035e-01]\n",
      " [1.70224858e-01 3.01393218e-01 4.29430567e-01 7.08011457e-01\n",
      "  9.87666299e-01]] ...\n",
      "----------------------------------------\n",
      "Mean of the uniform weights distribution: 0.4997\n",
      "----------------------------------------\n",
      "Random Standard Normal Noise:\n",
      "[ 1.36466686 -0.2455887   1.93480078 -0.2877742   1.98868775 -0.33245602\n",
      " -1.13964944 -0.76937582 -0.59115831 -0.8865499 ] ...\n",
      "----------------------------------------\n",
      "Mean of the Gaussian noise distribution: 0.1180\n",
      "Standard Deviation of the Gaussian noise distribution: 0.9810\n",
      "----------------------------------------\n",
      "Random Trial Numbers (1-10):\n",
      "[ 2  9 10  5  8]\n",
      "----------------------------------------\n",
      "Simulated Spike Counts (Poisson Dist, lambda=5):\n",
      "[ 5  7  5  5  6  1  8  5  4  4  5  7 10  2  3]\n",
      "----------------------------------------\n"
     ]
    }
   ],
   "source": [
    "import numpy as np\n",
    "\n",
    "uniform_weights = np.random.rand(1000, 1000)\n",
    "print(\"Random Uniform Weights (1000x1000):\")\n",
    "print(uniform_weights[:5, :5], \"...\")\n",
    "print(\"-\" * 40)\n",
    "\n",
    "mean_uniform_weights = np.mean(uniform_weights)\n",
    "print(f\"Mean of the uniform weights distribution: {mean_uniform_weights:.4f}\")\n",
    "print(\"-\" * 40)\n",
    "\n",
    "gaussian_noise = np.random.randn(50) # 1D array of 50 noise values\n",
    "print(\"Random Standard Normal Noise:\")\n",
    "print(gaussian_noise[:10], \"...\")\n",
    "print(\"-\" * 40)\n",
    "\n",
    "mean_gaussian_noise = np.mean(gaussian_noise)\n",
    "std_gaussian_noise = np.std(gaussian_noise)\n",
    "print(f\"Mean of the Gaussian noise distribution: {mean_gaussian_noise:.4f}\")\n",
    "print(f\"Standard Deviation of the Gaussian noise distribution: {std_gaussian_noise:.4f}\")\n",
    "print(\"-\" * 40)\n",
    "\n",
    "random_trial_numbers = np.random.randint(1, 11, size=5) # 5 random integers between 1 and 10\n",
    "print(\"Random Trial Numbers (1-10):\")\n",
    "print(random_trial_numbers)\n",
    "print(\"-\" * 40)\n",
    "\n",
    "avg_events_per_window = 5 # Average spikes per window\n",
    "simulated_event_counts = np.random.poisson(lam=avg_events_per_window, size=15)\n",
    "print(f\"Simulated Spike Counts (Poisson Dist, lambda={avg_events_per_window}):\")\n",
    "print(simulated_event_counts)\n",
    "print(\"-\" * 40)\n"
   ]
  }
 ],
 "metadata": {
  "kernelspec": {
   "display_name": "ICN_Programming_Course-E5uewI15",
   "language": "python",
   "name": "python3"
  },
  "language_info": {
   "codemirror_mode": {
    "name": "ipython",
    "version": 3
   },
   "file_extension": ".py",
   "mimetype": "text/x-python",
   "name": "python",
   "nbconvert_exporter": "python",
   "pygments_lexer": "ipython3",
   "version": "3.10.11"
  }
 },
 "nbformat": 4,
 "nbformat_minor": 5
}
