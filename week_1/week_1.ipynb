{
 "cells": [
  {
   "cell_type": "markdown",
   "id": "a5813712",
   "metadata": {},
   "source": [
    "# ICN Programming Course\n",
    "\n",
    "<p align=\"center\">\n",
    "    <img width=\"500\" alt=\"image\" src=\"https://github.com/Lenakeiz/ICN_Programming_Course/blob/main/Images/cog_neuro_logo_blue_png_0.png?raw=true\">\n",
    "</p>\n",
    "\n",
    "---"
   ]
  },
  {
   "cell_type": "markdown",
   "id": "f4629d29",
   "metadata": {},
   "source": [
    "# **WEEK 1** - Python Intro, first script, variables, arithmetic, lists"
   ]
  },
  {
   "cell_type": "markdown",
   "id": "6a546f79",
   "metadata": {},
   "source": [
    "## How to run this notebook & scripts\n",
    "\n",
    "### In Jupyter Notebooks\n",
    "> **Before you start (VS Code): Select a Python kernel/interpreter**\n",
    "- Run a cell with **⇧+Enter** (or use the **Run** button in the toolbar).\n",
    "- Execution is **top-to-bottom**: if a cell depends on variables defined above, run the earlier cells first.\n",
    "- If you see errors like `NameError: name 'x' is not defined`, it often means a required cell wasn’t run yet.\n",
    "- To restart a stuck session: **Kernel → Restart** (then re-run cells in order).\n",
    "\n",
    "### Our first Python Program (`hello_world.py`)\n",
    "\n",
    "1. **Create a file** named `hello_world.py` in your project folder.\n",
    "2. **Add the code** below to the file:\n",
    "   ```python\n",
    "   print(\"Hello Python world!\")\n",
    "   ```\n",
    "3. **Run it**  \n",
    "   - **VS Code**: *Run → Run Without Debugging* (or press `Ctrl+F5`/`⇧F5` depending on your setup).  \n",
    "   - **Terminal**:  \n",
    "     ```cmd\n",
    "     python hello_world.py\n",
    "     ```"
   ]
  },
  {
   "cell_type": "markdown",
   "id": "0bbfe082",
   "metadata": {},
   "source": [
    "## Variables & reassignment\n",
    "`print(...)` tells Python to display whatever is inside the parentheses. When you bind text to a variable (for example, `welcome_message`) and later **reassign** it, Python will print the variable’s **current** value. Start simple: define a variable, print it, change it, and print again.  \n",
    "*Tip:* If you see a `NameError`, a name is misspelled or used before it’s defined—check the line number in the traceback."
   ]
  },
  {
   "cell_type": "code",
   "execution_count": 1,
   "id": "cb165981",
   "metadata": {},
   "outputs": [
    {
     "name": "stdout",
     "output_type": "stream",
     "text": [
      "Welcome to the ICN programming course\n",
      "Welcome to the ICN programming course, again!\n"
     ]
    }
   ],
   "source": [
    "welcome_message = \"Welcome to the ICN programming course\"\n",
    "print(welcome_message)\n",
    "welcome_message = \"Welcome to the ICN programming course, again!\"\n",
    "print(welcome_message)"
   ]
  },
  {
   "cell_type": "markdown",
   "id": "6f79a7d5",
   "metadata": {},
   "source": [
    "## f-strings (inserting values into text)\n",
    "**f-strings** let you place variable values directly inside a string: put `f` before the opening quote and wrap names in `{}`. Python replaces each name with its value when the string is displayed. You can also call methods inside the braces for nicer formatting, e.g., `{region.title()}`."
   ]
  },
  {
   "cell_type": "code",
   "execution_count": 2,
   "id": "c62c0ee8",
   "metadata": {},
   "outputs": [
    {
     "name": "stdout",
     "output_type": "stream",
     "text": [
      "Subject 12: region = Hippocampus\n"
     ]
    }
   ],
   "source": [
    "region = \"hippocampus\"; subj = 12\n",
    "print(f\"Subject {subj}: region = {region.title()}\")"
   ]
  },
  {
   "cell_type": "markdown",
   "id": "a6944a09",
   "metadata": {},
   "source": [
    "## Concatenation (`+`)\n",
    "You can build messages by **concatenating** strings with `+` (for example, `task + \" - \" + modality`). As messages grow or need formatting, **f-strings** are clearer and less error‑prone because they interpolate values directly and read like the final output."
   ]
  },
  {
   "cell_type": "code",
   "execution_count": 3,
   "id": "242620a9",
   "metadata": {},
   "outputs": [],
   "source": [
    "#concatenation\n",
    "task, modality = \"n-back\", \"fMRI\"\n",
    "label = task + \" - \" + modality  # \"n-back - fMRI\""
   ]
  },
  {
   "cell_type": "markdown",
   "id": "284dfd20",
   "metadata": {},
   "source": [
    "## Changing case with string methods\n",
    "Use `.title()` for Title Case, `.upper()` for uppercase, and `.lower()` for lowercase. These are helpful for normalizing user input or presenting labels consistently (e.g., brain region names). String methods return **new** strings and don’t modify the original value in place."
   ]
  },
  {
   "cell_type": "code",
   "execution_count": 4,
   "id": "dbea1d2d",
   "metadata": {},
   "outputs": [
    {
     "name": "stdout",
     "output_type": "stream",
     "text": [
      "Entorhinal Cortex\n",
      "PREFRONTAL\n",
      "prefrontal\n"
     ]
    }
   ],
   "source": [
    "ec_label = \"entorhinal cortex\"\n",
    "print(ec_label.title())\n",
    "pfc_label = \"prefrontal\"\n",
    "print(pfc_label.upper())     \n",
    "print(pfc_label.lower())"
   ]
  },
  {
   "cell_type": "markdown",
   "id": "1fffb7c7",
   "metadata": {},
   "source": [
    "## Tabs and newlines in output\n",
    "Use escape sequences to organize output: `\\t` inserts a **tab** and `\\n` inserts a **newline**. Combine them to format quick tables or multi‑line readouts (e.g., headers followed by values on the next line)."
   ]
  },
  {
   "cell_type": "code",
   "execution_count": 5,
   "id": "e1a5d676",
   "metadata": {},
   "outputs": [
    {
     "name": "stdout",
     "output_type": "stream",
     "text": [
      "ID\tAge\n",
      "S01\t23\n"
     ]
    }
   ],
   "source": [
    "print(\"ID\\tAge\\nS01\\t23\")"
   ]
  },
  {
   "cell_type": "markdown",
   "id": "704c460a",
   "metadata": {},
   "source": [
    "## Trimming extra whitespace\n",
    "Programs treat `'S01'` and `'  S01  '` as different strings. Clean up leading/trailing spaces with `.lstrip()`, `.rstrip()`, or `.strip()`. If you want to keep the cleaned value, assign it back to a variable."
   ]
  },
  {
   "cell_type": "code",
   "execution_count": 6,
   "id": "a40af1fa",
   "metadata": {},
   "outputs": [
    {
     "name": "stdout",
     "output_type": "stream",
     "text": [
      "S01\n",
      "S01  \n",
      "  S01\n"
     ]
    }
   ],
   "source": [
    "subject_name = \"  S01  \"\n",
    "print(subject_name.strip())\n",
    "print(subject_name.lstrip())\n",
    "print(subject_name.rstrip())"
   ]
  },
  {
   "cell_type": "markdown",
   "id": "47ae4cfb",
   "metadata": {},
   "source": [
    "Use `.removeprefix(\"sub_\")` to drop a known prefix from an identifier like `\"sub_1\"`. To use the remainder numerically (e.g., a subject ID), convert it with `int(...)`. The original string stays unchanged unless you reassign it."
   ]
  },
  {
   "cell_type": "code",
   "execution_count": 7,
   "id": "5ae928fe",
   "metadata": {},
   "outputs": [
    {
     "name": "stdout",
     "output_type": "stream",
     "text": [
      "1\n"
     ]
    }
   ],
   "source": [
    "subject_name = \"sub_1\"\n",
    "subject_num = int(subject_name.removeprefix(\"sub_\"))\n",
    "print(subject_num)"
   ]
  },
  {
   "cell_type": "markdown",
   "id": "2122b3ed",
   "metadata": {},
   "source": [
    "## Working with Numbers\n",
    "\n",
    "Numbers can represent counts or measurements. Python’s core numeric types are:\n",
    "\n",
    "- **Integers (`int`)** - whole numbers, positive or negative, without a decimal point. Useful for counters, loop indices, and sizes.  \n",
    "\n",
    "- **Floats (`float`)** - numbers with a decimal point, also known as floating-point numbers. Floats are used for continuous measurements and values that may have fractional parts (timing, rates, averages).\n",
    "\n",
    "### Arithmetic in Python (with neuroscience-inspired examples)\n",
    "\n",
    "Python supports all the standard arithmetic operators:\n",
    "\n",
    "- `+` **Addition** - combine values  \n",
    "- `-` **Subtraction** - calculate differences  \n",
    "- `*` **Multiplication** - scale one value by another  \n",
    "- `/` **Division** (with `%` remainde) - compute ratios or rates (compute remainders)\n",
    "- `**` **Exponential** - compute exponential (one number elevated by another)"
   ]
  },
  {
   "cell_type": "code",
   "execution_count": 8,
   "id": "e62ba028",
   "metadata": {},
   "outputs": [
    {
     "name": "stdout",
     "output_type": "stream",
     "text": [
      "Total spikes: 97\n",
      "Difference: 7\n"
     ]
    }
   ],
   "source": [
    "spikes_trial1 = 45\n",
    "spikes_trial2 = 52\n",
    "total_spikes = spikes_trial1 + spikes_trial2\n",
    "diff_spikes = spikes_trial2 - spikes_trial1\n",
    "print(\"Total spikes:\", total_spikes)\n",
    "print(\"Difference:\", diff_spikes)"
   ]
  },
  {
   "cell_type": "code",
   "execution_count": null,
   "id": "d4dd19d5",
   "metadata": {},
   "outputs": [],
   "source": [
    "neurons = 100\n",
    "trials = 20\n",
    "recordings = neurons * trials\n",
    "print(\"Total recordings:\", recordings)"
   ]
  },
  {
   "cell_type": "code",
   "execution_count": null,
   "id": "aec039ac",
   "metadata": {},
   "outputs": [],
   "source": [
    "rt_ms = 320\n",
    "rt_s = rt_ms / 1000\n",
    "print(\"Reaction time (s):\", rt_s)\n"
   ]
  },
  {
   "cell_type": "code",
   "execution_count": null,
   "id": "b52d0da6",
   "metadata": {},
   "outputs": [],
   "source": [
    "samples = 1050\n",
    "window = 200\n",
    "windows = samples // window    # full 200-sample windows\n",
    "remainder = samples % window   # leftover samples\n",
    "print(\"Windows:\", windows, \"| Remainder:\", remainder)"
   ]
  },
  {
   "cell_type": "code",
   "execution_count": null,
   "id": "5a220651",
   "metadata": {},
   "outputs": [],
   "source": [
    "arena_size_cm = 10\n",
    "bin_size = 2    # cm\n",
    "grid_dim = arena_size_cm // bin_size   # 10 cm / 2 cm = 5 bins per axis\n",
    "n_bins = grid_dim ** 2                 # 25 bins total\n",
    "print(\"Number of bins in grid:\", n_bins)"
   ]
  },
  {
   "cell_type": "markdown",
   "id": "284348e6",
   "metadata": {},
   "source": [
    "# Lists \n",
    "A list in Python is an **ordered collection of items**. This means the order in which you put items into a list is maintained, and you can access items based on their position (or index). Lists are also very flexible:\n",
    "\n",
    "*   They can hold items of **different data types** within the same list (though typically lists often hold items of the same type, like a list of numbers or a list of strings).\n",
    "*   They are **mutable**, meaning you can change the contents of a list after it's been created – you can add, remove, or modify items.\n",
    "\n",
    "To define a list in Python you use the `[]` operator\n",
    "\n",
    "Here are some examples of how lists can be used to represent data:\n",
    "\n",
    "*   **Spike Times:** A list of timestamps (in milliseconds or seconds) when a neuron fired.\n",
    "    `spike_times = [10.5, 15.2, 22.1, 30.0, 35.8]`\n",
    "*   **Neuron IDs:** A list of unique identifiers for a group of neurons.\n",
    "    `neuron_ids = [101, 105, 112, 203]`\n",
    "*   **Experimental Conditions:** A sequence representing the order of different conditions presented in an experiment.\n",
    "    `experimental_conditions = ['stim_A', 'stim_B', 'baseline', 'stim_A']`\n",
    "*   **Firing Rates across Trials:** A list where each element is the firing rate recorded during a specific trial.\n",
    "    `firing_rates_per_trial = [55.6, 62.1, 48.9, 70.5]`\n",
    "\n",
    "Understanding how to work with lists is crucial for handling and analyzing sequential and grouped data in neuroscience. We'll now explore some basic operations you can perform on lists."
   ]
  },
  {
   "cell_type": "code",
   "execution_count": null,
   "id": "55e01577",
   "metadata": {},
   "outputs": [],
   "source": [
    "# A list of integers indicating neuron IDs in a recording session.\n",
    "neuron_ids = [101, 105, 112, 203]\n",
    "print(neuron_ids)"
   ]
  },
  {
   "cell_type": "code",
   "execution_count": null,
   "id": "f5d9008e",
   "metadata": {},
   "outputs": [],
   "source": [
    "# A list of timestamps (in milliseconds or seconds) when a neuron fired.\n",
    "spike_times = [10.5, 15.2, 22.1, 30.0, 35.8]\n",
    "print(spike_times)"
   ]
  },
  {
   "cell_type": "code",
   "execution_count": null,
   "id": "d54131a1",
   "metadata": {},
   "outputs": [],
   "source": [
    "# A sequence representing the order of different conditions presented in an experiment.\n",
    "experimental_conditions = ['baseline', 'fixation_time', 'condition_A', 'condition_B']\n",
    "print(experimental_conditions)"
   ]
  },
  {
   "cell_type": "code",
   "execution_count": 1,
   "id": "169ed740",
   "metadata": {},
   "outputs": [
    {
     "name": "stdout",
     "output_type": "stream",
     "text": [
      "[101, 'condition_A', 15.2, True]\n"
     ]
    }
   ],
   "source": [
    "# In Python lists are not fixed type, so you can mix types, but it's not recommended.\n",
    "mixed_list = [101, 'condition_A', 15.2, True]\n",
    "print(mixed_list)"
   ]
  },
  {
   "cell_type": "markdown",
   "id": "3d9b578d",
   "metadata": {},
   "source": [
    "## Accessing List Elements\n",
    "\n",
    "Since lists are ordered collections, each item in a list has a specific position or **index**. In Python, indexing is **zero-based**, meaning the first element is at index `0`, the second at index `1`, and so on.\n",
    "\n",
    "You can access individual elements by placing the index in square brackets `[]` after the list's name.\n",
    "\n",
    "Python also supports **negative indexing**. Negative indices count from the end of the list:\n",
    "\n",
    "*   `[-1]` refers to the last element.\n",
    "*   `[-2]` refers to the second-to-last element, and so on.\n",
    "\n",
    "Slicing lets you extract, copy, or modify **runs of items** in a sequence. The general form is:\n",
    "\n",
    "```\n",
    "seq[start:end:step]\n",
    "```\n",
    "\n",
    "- **`start`**: index to begin at (inclusive). Defaults to `0`.\n",
    "- **`end`**: index to stop before (exclusive). Defaults to lenght of the list.\n",
    "- **`step`**: stride between elements (default `1`). Can be negative."
   ]
  },
  {
   "cell_type": "code",
   "execution_count": null,
   "id": "f05a74cf",
   "metadata": {},
   "outputs": [
    {
     "name": "stdout",
     "output_type": "stream",
     "text": [
      "101\n",
      "112\n",
      "512\n",
      "302\n",
      "[101, 105, 112]\n"
     ]
    },
    {
     "data": {
      "text/plain": [
       "[512, 410, 302, 245, 203, 112, 105, 101]"
      ]
     },
     "execution_count": 25,
     "metadata": {},
     "output_type": "execute_result"
    }
   ],
   "source": [
    "neuron_ids = [101, 105, 112, 203, 245, 302, 410, 512]\n",
    "\n",
    "print(neuron_ids[0])    # First element (index 0)\n",
    "print(neuron_ids[2])    # Third element (index 2)   \n",
    "print(neuron_ids[-1])   # Last element (index -1)\n",
    "print(neuron_ids[-3])   # Third-to-last element (index -3)\n",
    "\n",
    "# Slicing\n",
    "print(neuron_ids[2:5])  # start at 2, stop before 5\n",
    "print(neuron_ids[:3])   # from beginning\n",
    "print(neuron_ids[4:])   # to the end\n",
    "print(neuron_ids[::2])  # every 2nd element\n",
    "print(neuron_ids[::-1]) # reversed\n"
   ]
  },
  {
   "cell_type": "markdown",
   "id": "b97e8712",
   "metadata": {},
   "source": [
    "## Modifying a list\n",
    "\n",
    "Lists are mutable, which means you can change their contents after they have been created.\n",
    "\n",
    "You can change the value of an item in a list by referring to its index and assigning a new value. This is similar to accessing elements, but instead of just retrieving the value, you are overwriting it."
   ]
  },
  {
   "cell_type": "code",
   "execution_count": 6,
   "id": "5c8ae469",
   "metadata": {},
   "outputs": [
    {
     "name": "stdout",
     "output_type": "stream",
     "text": [
      "[10.5, 15.2, 25.0, 30.0, 35.8]\n"
     ]
    }
   ],
   "source": [
    "spike_times = [10.5, 15.2, 22.1, 30.0, 35.8]\n",
    "third_element = spike_times[2]\n",
    "third_element = 25.0\n",
    "spike_times[2] = third_element # can also be done in one step: spike_times[2] = 25.0\n",
    "print(spike_times)"
   ]
  },
  {
   "cell_type": "markdown",
   "id": "a471b08a",
   "metadata": {},
   "source": [
    "### Adding elements\n",
    "\n",
    "You can add new elements to a list using several methods:\n",
    "\n",
    "*   **`append()`:** This method adds an item to the *end* of the list. It's the simplest way to add a single item.\n",
    "*   **`insert()`:** This method allows you to add an item at any specific position in the list. You provide the index where you want to insert the item, followed by the item itself. The existing items at that index and beyond are shifted to the right."
   ]
  },
  {
   "cell_type": "code",
   "execution_count": 7,
   "id": "081bc7d5",
   "metadata": {},
   "outputs": [
    {
     "name": "stdout",
     "output_type": "stream",
     "text": [
      "[10.5, 15.2, 20.0, 25.0, 30.0, 35.8, 40.1]\n"
     ]
    }
   ],
   "source": [
    "spike_times.append(40.1)\n",
    "spike_times.insert(2, 20.0) # Insert 20.0 at index 2\n",
    "print(spike_times)\n"
   ]
  },
  {
   "cell_type": "markdown",
   "id": "835593c6",
   "metadata": {},
   "source": [
    "## Removing elements\n",
    "\n",
    "You can remove elements from a list in several ways:\n",
    "\n",
    "*   **`del` statement:** If you know the index of the item you want to remove, you can use the `del` statement.\n",
    "*   **`pop()` method:** This method removes the item at a specific index and returns the value of that item. If you don't specify an index, `pop()` removes and returns the *last* item in the list. This is useful when you want to remove an item and also use its value.\n",
    "*   **`remove()` method:** If you know the *value* of the item you want to remove but not its index, you can use the `remove()` method. This method removes the *first* occurrence of the specified value."
   ]
  },
  {
   "cell_type": "code",
   "execution_count": null,
   "id": "e8a15f30",
   "metadata": {},
   "outputs": [],
   "source": [
    "del spike_times[1] # Remove the element at index 1 (15.2)\n",
    "print(spike_times)\n",
    "\n",
    "last_spike = spike_times.pop() # Removes and returns the last element (40.1)\n",
    "print(\"Popped last spike:\", last_spike)\n",
    "first_spike = spike_times.pop(0) # Removes and returns the first element (10.5)\n",
    "print(\"Popped first spike:\", first_spike)\n",
    "\n",
    "# removing previously inserted element\n",
    "spike_times.remove(20.0) # Removes the first occurrence of the value 20"
   ]
  },
  {
   "cell_type": "markdown",
   "id": "3176a977",
   "metadata": {},
   "source": [
    "## Organising lists\n",
    "\n",
    "You can rearrange the elements of a list using sorting methods.\n",
    "\n",
    "The `.sort()` method changes the order of the list *permanently*.\n",
    "It sorts the list in ascending order by default. If you want to sort in descending order, you can pass the argument `reverse=True` inside the parentheses.\n",
    "This method modifies the original list and does not return a new list."
   ]
  },
  {
   "cell_type": "code",
   "execution_count": 9,
   "id": "805874ab",
   "metadata": {},
   "outputs": [
    {
     "name": "stdout",
     "output_type": "stream",
     "text": [
      "[101, 203, 205, 302]\n",
      "[302, 205, 203, 101]\n"
     ]
    }
   ],
   "source": [
    "neuron_ids = [101, 205, 302, 203]\n",
    "neuron_ids.sort()\n",
    "print(neuron_ids)\n",
    "neuron_ids.sort(reverse=True) \n",
    "print(neuron_ids)"
   ]
  },
  {
   "cell_type": "markdown",
   "id": "b198d2a4",
   "metadata": {},
   "source": [
    "If you require to this operation temporarily, you can then use `sorted()`. \n",
    "The `sorted()` function is different from the `.sort()` method because it does *not* change the original list.\n",
    "Instead, it returns a *new* list containing the elements of the original list in sorted order. Like `.sort()`, it sorts in ascending order by default, and you can pass `reverse=True` for descending order.\n",
    "Use `sorted()` when you want to display a list in sorted order without affecting the original order."
   ]
  },
  {
   "cell_type": "code",
   "execution_count": 11,
   "id": "bc810139",
   "metadata": {},
   "outputs": [
    {
     "name": "stdout",
     "output_type": "stream",
     "text": [
      "Original list: [101, 205, 302, 203]\n",
      "Sorted list: [101, 203, 205, 302]\n"
     ]
    }
   ],
   "source": [
    "neuron_ids = [101, 205, 302, 203]\n",
    "sorted_neurons = sorted(neuron_ids)\n",
    "print(\"Original list:\", neuron_ids)\n",
    "print(\"Sorted list:\", sorted_neurons)"
   ]
  },
  {
   "cell_type": "markdown",
   "id": "ac505361",
   "metadata": {},
   "source": [
    "The `.reverse()` method permanently reverses the *original* order of the elements in a list.\n",
    "It doesn't sort the list in alphabetical or numerical order; it simply flips the sequence of items."
   ]
  },
  {
   "cell_type": "code",
   "execution_count": null,
   "id": "8b8eafec",
   "metadata": {},
   "outputs": [],
   "source": [
    "neuron_ids = [101, 205, 302, 203]\n",
    "neuron_ids.reverse()\n",
    "print(neuron_ids)"
   ]
  },
  {
   "cell_type": "markdown",
   "id": "6ee7d1c2",
   "metadata": {},
   "source": [
    "## Checking the lenght of a list\n",
    "\n",
    "To check the lenght of a list you can simply use the `len()` function"
   ]
  },
  {
   "cell_type": "code",
   "execution_count": 13,
   "id": "7be7ed7a",
   "metadata": {},
   "outputs": [
    {
     "name": "stdout",
     "output_type": "stream",
     "text": [
      "Number of neurons: 4\n"
     ]
    }
   ],
   "source": [
    "neuron_ids = [101, 205, 302, 203]\n",
    "print(f\"Number of neurons: {len(neuron_ids)}\")"
   ]
  },
  {
   "cell_type": "markdown",
   "id": "c7c930e9",
   "metadata": {},
   "source": [
    "# Numpy arrays\n",
    "\n",
    "While standard Python lists are versatile for storing collections of items, they are not optimized for numerical operations, especially when dealing with large datasets. \n",
    "For efficient numerical computation in Python, the **NumPy** library comes really handy.\n",
    "\n",
    "## Introducing NumPy Arrays\n",
    "\n",
    "At the core of NumPy is the **ndarray** (n-dimensional array) object.\n",
    "NumPy arrays are similar to Python lists in that they can hold collections of items, but they have crucial differences:\n",
    "\n",
    "*   **Homogeneous Data Type:** Unlike Python lists, all elements in a NumPy array must be of the *same* data type (e.g., all integers, all floats).\n",
    "\n",
    "*   **Optimized for Numerical Operations:** NumPy provides a wide range of mathematical functions and operations that are highly optimized and executed much faster than equivalent operations on standard Python lists, particularly for large datasets.\n",
    "\n",
    "*   **N-Dimensional:** NumPy arrays can have any number of dimensions, making them suitable for representing various types of data:\n",
    "    *   **1D arrays (vectors):** Use for ordered sequences such as time series, binned spike counts over time, a list of trial onsets.\n",
    "    *   **2D arrays (matrices):** Ideal for representing data from multiple over time, connectivity matrices (neuron x neuron), or trials x time data.\n",
    "    *   **Higher-dimensional arrays:** Use when each row is an observation and each column is a variable or time bin; e.g., trials × time spike raster, channels × time LFP/EEG, ROI × time BOLD signals, or neuron × neuron connectivity (square).\n",
    "\n"
   ]
  },
  {
   "cell_type": "code",
   "execution_count": 20,
   "id": "28880b22",
   "metadata": {},
   "outputs": [
    {
     "name": "stdout",
     "output_type": "stream",
     "text": [
      "1D NumPy Array (Membrane Potential Trace):\n",
      "[-68.5 -68.2 -67.9 -67.  -65.5 -63.1 -60.8 -58.5 -55.  -54.8 -55.1 -58.\n",
      " -62.5]\n",
      "------------------------------\n",
      "2D NumPy Array (Membrane Potential Matrix - Trials x Potentials):\n",
      "[[45.2 58.1 39.5 62.8 50.1]\n",
      " [50.9 63.7 42.1 68.5 55.3]\n",
      " [48.1 60.5 40.8 65.3 52.9]]\n"
     ]
    }
   ],
   "source": [
    "import numpy as np\n",
    "\n",
    "# 1d array\n",
    "membrane_potential_trace = np.array([-68.5, -68.2, -67.9, -67.0, -65.5, -63.1, -60.8, -58.5, -55.0, -54.8, -55.1, -58.0, -62.5])\n",
    "print(\"1D NumPy Array (Membrane Potential Trace):\")\n",
    "print(membrane_potential_trace)\n",
    "print(\"-\" * 30)\n",
    "\n",
    "# 2d array over multiple trials\n",
    "membrane_potential_trials = np.array([\n",
    "    [45.2, 58.1, 39.5, 62.8, 50.1],  # Trial 1 rates\n",
    "    [50.9, 63.7, 42.1, 68.5, 55.3],  # Trial 2 rates\n",
    "    [48.1, 60.5, 40.8, 65.3, 52.9]   # Trial 3 rates\n",
    "])\n",
    "print(\"2D NumPy Array (Membrane Potential Matrix - Trials x Potentials):\")\n",
    "print(membrane_potential_trials)\n"
   ]
  },
  {
   "cell_type": "markdown",
   "id": "0a040da5",
   "metadata": {},
   "source": [
    "## Accessing Numpy arrays\n",
    "\n",
    "Just like with Python lists, we can access individual elements or subsets of elements within NumPy arrays using **indexing** and **slicing**.\n",
    "\n",
    "For 2D arrays (matrices), you need to specify both the **row index** and the **column index**. \n",
    "You can do this by separating the indices with a comma inside the square brackets: `[row_index, column_index]`. This enables you to also do **slicing**.\n",
    "\n",
    "`Lists` enables you to create 2D arrays, using `[][]`, however, NumPy's indexing and slicing capabilities are more powerful and flexible, especially for multi-dimensional arrays.\n"
   ]
  },
  {
   "cell_type": "code",
   "execution_count": 33,
   "id": "30fef4f7",
   "metadata": {},
   "outputs": [
    {
     "name": "stdout",
     "output_type": "stream",
     "text": [
      "Original NumPy Array (Firing Rates):\n",
      "[[55.2 60.1 48.5 70.3 58.9]\n",
      " [60.5 65.8 52.1 75.9 62.3]\n",
      " [58.1 63.5 50.4 72.1 60.8]\n",
      " [62.3 67.1 55.  78.5 65.1]\n",
      " [57.5 62.9 49.8 71.  59.5]\n",
      " [61.8 66.5 53.5 77.8 64. ]\n",
      " [59.  64.2 51.1 73.5 61.5]\n",
      " [63.1 68.  56.2 79.1 66.3]\n",
      " [56.8 61.5 47.9 69.5 57. ]\n",
      " [64.5 69.2 57.  80.  67.5]]\n",
      "----------------------------------------\n",
      "Trial 7 Data (Firing Rates):\n",
      "[59.  64.2 51.1 73.5 61.5]\n",
      "----------------------------------------\n"
     ]
    }
   ],
   "source": [
    "firing_rates_np = np.array([\n",
    "    [55.2, 60.1, 48.5, 70.3, 58.9],  # Trial 1\n",
    "    [60.5, 65.8, 52.1, 75.9, 62.3],  # Trial 2\n",
    "    [58.1, 63.5, 50.4, 72.1, 60.8],  # Trial 3\n",
    "    [62.3, 67.1, 55.0, 78.5, 65.1],  # Trial 4\n",
    "    [57.5, 62.9, 49.8, 71.0, 59.5],  # Trial 5\n",
    "    [61.8, 66.5, 53.5, 77.8, 64.0],  # Trial 6\n",
    "    [59.0, 64.2, 51.1, 73.5, 61.5],  # Trial 7\n",
    "    [63.1, 68.0, 56.2, 79.1, 66.3],  # Trial 8\n",
    "    [56.8, 61.5, 47.9, 69.5, 57.0],  # Trial 9\n",
    "    [64.5, 69.2, 57.0, 80.0, 67.5]   # Trial 10\n",
    "])\n",
    "\n",
    "print(\"Original NumPy Array (Firing Rates):\")\n",
    "print(firing_rates_np)\n",
    "print(\"-\" * 40)\n",
    "\n",
    "np_trial7_data = firing_rates_np[6, :]\n",
    "print(\"Trial 7 Data (Firing Rates):\")\n",
    "print(np_trial7_data)\n",
    "print(\"-\" * 40)\n"
   ]
  },
  {
   "cell_type": "markdown",
   "id": "ed6dda59",
   "metadata": {},
   "source": [
    "To get a column, here is where \n",
    "\n",
    "For 2D arrays (matrices), you need to specify both the **row index** and the **column index**. \n",
    "You can do this by separating the indices with a comma inside the square brackets: `[row_index, column_index]`. This enables you to also do **slicing**."
   ]
  },
  {
   "cell_type": "code",
   "execution_count": null,
   "id": "67a406f6",
   "metadata": {},
   "outputs": [],
   "source": [
    "\n",
    "np_neuron4_data = firing_rates_np[:, 3] # NOTE For a list, we need a loop or \"list comprehension\" to get a column (we are going to see an example later)\n",
    "print(\"Neuron 4 Data (Firing Rates):\")\n",
    "print(np_neuron4_data)\n",
    "print(\"-\" * 40)\n",
    "\n",
    "# Select trials where the firing rate of Neuron 1 (index 0) is above 60 Hz\n",
    "condition = firing_rates_np[:, :] > 60\n",
    "print(\"Boolean condition (Neuron 1 > 60 Hz):\")\n",
    "print(condition)\n",
    "print(\"-\" * 40)"
   ]
  }
 ],
 "metadata": {
  "kernelspec": {
   "display_name": "ICN_Programming_Course-E5uewI15",
   "language": "python",
   "name": "python3"
  },
  "language_info": {
   "codemirror_mode": {
    "name": "ipython",
    "version": 3
   },
   "file_extension": ".py",
   "mimetype": "text/x-python",
   "name": "python",
   "nbconvert_exporter": "python",
   "pygments_lexer": "ipython3",
   "version": "3.10.11"
  }
 },
 "nbformat": 4,
 "nbformat_minor": 5
}
