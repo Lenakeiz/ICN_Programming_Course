{
 "cells": [
  {
   "cell_type": "markdown",
   "id": "6a546f79",
   "metadata": {},
   "source": [
    "# How to run this notebook & scripts\n",
    "\n",
    "## In Jupyter Notebooks\n",
    "> **Before you start (VS Code): Select a Python kernel/interpreter**\n",
    "- Run a cell with **⇧+Enter** (or use the **Run** button in the toolbar).\n",
    "- Execution is **top-to-bottom**: if a cell depends on variables defined above, run the earlier cells first.\n",
    "- If you see errors like `NameError: name 'x' is not defined`, it often means a required cell wasn’t run yet.\n",
    "- To restart a stuck session: **Kernel → Restart** (then re-run cells in order).\n",
    "\n",
    "## Our first Python Program (`hello_world.py`)\n",
    "\n",
    "1. **Create a file** named `hello_world.py` in your project folder.\n",
    "2. **Add the code** below to the file:\n",
    "   ```python\n",
    "   print(\"Hello Python world!\")\n",
    "   ```\n",
    "3. **Run it**  \n",
    "   - **VS Code**: *Run → Run Without Debugging* (or press `Ctrl+F5`/`⇧F5` depending on your setup).  \n",
    "   - **Terminal**:  \n",
    "     ```cmd\n",
    "     python hello_world.py\n",
    "     ```"
   ]
  },
  {
   "cell_type": "markdown",
   "id": "0bbfe082",
   "metadata": {},
   "source": [
    "## Variables & reassignment\n",
    "`print(...)` tells Python to display whatever is inside the parentheses. When you bind text to a variable (for example, `welcome_message`) and later **reassign** it, Python will print the variable’s **current** value. Start simple: define a variable, print it, change it, and print again.  \n",
    "*Tip:* If you see a `NameError`, a name is misspelled or used before it’s defined—check the line number in the traceback."
   ]
  },
  {
   "cell_type": "code",
   "execution_count": 1,
   "id": "cb165981",
   "metadata": {},
   "outputs": [
    {
     "name": "stdout",
     "output_type": "stream",
     "text": [
      "Welcome to the ICN programming course\n",
      "Welcome to the ICN programming course, again!\n"
     ]
    }
   ],
   "source": [
    "welcome_message = \"Welcome to the ICN programming course\"\n",
    "print(welcome_message)\n",
    "welcome_message = \"Welcome to the ICN programming course, again!\"\n",
    "print(welcome_message)"
   ]
  },
  {
   "cell_type": "markdown",
   "id": "6f79a7d5",
   "metadata": {},
   "source": [
    "## f-strings (inserting values into text)\n",
    "**f-strings** let you place variable values directly inside a string: put `f` before the opening quote and wrap names in `{}`. Python replaces each name with its value when the string is displayed. You can also call methods inside the braces for nicer formatting, e.g., `{region.title()}`."
   ]
  },
  {
   "cell_type": "code",
   "execution_count": 2,
   "id": "c62c0ee8",
   "metadata": {},
   "outputs": [
    {
     "name": "stdout",
     "output_type": "stream",
     "text": [
      "Subject 12: region = Hippocampus\n"
     ]
    }
   ],
   "source": [
    "region = \"hippocampus\"; subj = 12\n",
    "print(f\"Subject {subj}: region = {region.title()}\")"
   ]
  },
  {
   "cell_type": "markdown",
   "id": "a6944a09",
   "metadata": {},
   "source": [
    "## Concatenation (`+`)\n",
    "You can build messages by **concatenating** strings with `+` (for example, `task + \" - \" + modality`). As messages grow or need formatting, **f-strings** are clearer and less error‑prone because they interpolate values directly and read like the final output."
   ]
  },
  {
   "cell_type": "code",
   "execution_count": 3,
   "id": "242620a9",
   "metadata": {},
   "outputs": [],
   "source": [
    "#concatenation\n",
    "task, modality = \"n-back\", \"fMRI\"\n",
    "label = task + \" - \" + modality  # \"n-back - fMRI\""
   ]
  },
  {
   "cell_type": "markdown",
   "id": "284dfd20",
   "metadata": {},
   "source": [
    "## Changing case with string methods\n",
    "Use `.title()` for Title Case, `.upper()` for uppercase, and `.lower()` for lowercase. These are helpful for normalizing user input or presenting labels consistently (e.g., brain region names). String methods return **new** strings and don’t modify the original value in place."
   ]
  },
  {
   "cell_type": "code",
   "execution_count": 4,
   "id": "dbea1d2d",
   "metadata": {},
   "outputs": [
    {
     "name": "stdout",
     "output_type": "stream",
     "text": [
      "Entorhinal Cortex\n",
      "PREFRONTAL\n",
      "prefrontal\n"
     ]
    }
   ],
   "source": [
    "ec_label = \"entorhinal cortex\"\n",
    "print(ec_label.title())\n",
    "pfc_label = \"prefrontal\"\n",
    "print(pfc_label.upper())     \n",
    "print(pfc_label.lower())"
   ]
  },
  {
   "cell_type": "markdown",
   "id": "1fffb7c7",
   "metadata": {},
   "source": [
    "## Tabs and newlines in output\n",
    "Use escape sequences to organize output: `\\t` inserts a **tab** and `\\n` inserts a **newline**. Combine them to format quick tables or multi‑line readouts (e.g., headers followed by values on the next line)."
   ]
  },
  {
   "cell_type": "code",
   "execution_count": 5,
   "id": "e1a5d676",
   "metadata": {},
   "outputs": [
    {
     "name": "stdout",
     "output_type": "stream",
     "text": [
      "ID\tAge\n",
      "S01\t23\n"
     ]
    }
   ],
   "source": [
    "print(\"ID\\tAge\\nS01\\t23\")"
   ]
  },
  {
   "cell_type": "markdown",
   "id": "704c460a",
   "metadata": {},
   "source": [
    "## Trimming extra whitespace\n",
    "Programs treat `'S01'` and `'  S01  '` as different strings. Clean up leading/trailing spaces with `.lstrip()`, `.rstrip()`, or `.strip()`. If you want to keep the cleaned value, assign it back to a variable."
   ]
  },
  {
   "cell_type": "code",
   "execution_count": 6,
   "id": "a40af1fa",
   "metadata": {},
   "outputs": [
    {
     "name": "stdout",
     "output_type": "stream",
     "text": [
      "S01\n",
      "S01  \n",
      "  S01\n"
     ]
    }
   ],
   "source": [
    "subject_name = \"  S01  \"\n",
    "print(subject_name.strip())\n",
    "print(subject_name.lstrip())\n",
    "print(subject_name.rstrip())"
   ]
  },
  {
   "cell_type": "markdown",
   "id": "47ae4cfb",
   "metadata": {},
   "source": [
    "Use `.removeprefix(\"sub_\")` to drop a known prefix from an identifier like `\"sub_1\"`. To use the remainder numerically (e.g., a subject ID), convert it with `int(...)`. The original string stays unchanged unless you reassign it."
   ]
  },
  {
   "cell_type": "code",
   "execution_count": 7,
   "id": "5ae928fe",
   "metadata": {},
   "outputs": [
    {
     "name": "stdout",
     "output_type": "stream",
     "text": [
      "1\n"
     ]
    }
   ],
   "source": [
    "subject_name = \"sub_1\"\n",
    "subject_num = int(subject_name.removeprefix(\"sub_\"))\n",
    "print(subject_num)"
   ]
  },
  {
   "cell_type": "markdown",
   "id": "2122b3ed",
   "metadata": {},
   "source": [
    "## Working with Numbers\n",
    "\n",
    "Numbers can represent counts or measurements. Python’s core numeric types are:\n",
    "\n",
    "- **Integers (`int`)** - whole numbers, positive or negative, without a decimal point. Useful for counters, loop indices, and sizes.  \n",
    "\n",
    "- **Floats (`float`)** - numbers with a decimal point, also known as floating-point numbers. Floats are used for continuous measurements and values that may have fractional parts (timing, rates, averages).\n",
    "\n",
    "### Arithmetic in Python (with neuroscience-inspired examples)\n",
    "\n",
    "Python supports all the standard arithmetic operators:\n",
    "\n",
    "- `+` **Addition** - combine values  \n",
    "- `-` **Subtraction** - calculate differences  \n",
    "- `*` **Multiplication** - scale one value by another  \n",
    "- `/` **Division** (with `%` remainde) - compute ratios or rates (compute remainders)\n",
    "- `**` **Exponential** - compute exponential (one number elevated by another)"
   ]
  },
  {
   "cell_type": "code",
   "execution_count": 8,
   "id": "e62ba028",
   "metadata": {},
   "outputs": [
    {
     "name": "stdout",
     "output_type": "stream",
     "text": [
      "Total spikes: 97\n",
      "Difference: 7\n"
     ]
    }
   ],
   "source": [
    "spikes_trial1 = 45\n",
    "spikes_trial2 = 52\n",
    "total_spikes = spikes_trial1 + spikes_trial2\n",
    "diff_spikes = spikes_trial2 - spikes_trial1\n",
    "print(\"Total spikes:\", total_spikes)\n",
    "print(\"Difference:\", diff_spikes)"
   ]
  },
  {
   "cell_type": "code",
   "execution_count": null,
   "id": "d4dd19d5",
   "metadata": {},
   "outputs": [],
   "source": [
    "neurons = 100\n",
    "trials = 20\n",
    "recordings = neurons * trials\n",
    "print(\"Total recordings:\", recordings)"
   ]
  },
  {
   "cell_type": "code",
   "execution_count": null,
   "id": "aec039ac",
   "metadata": {},
   "outputs": [],
   "source": [
    "rt_ms = 320\n",
    "rt_s = rt_ms / 1000\n",
    "print(\"Reaction time (s):\", rt_s)\n"
   ]
  },
  {
   "cell_type": "code",
   "execution_count": null,
   "id": "b52d0da6",
   "metadata": {},
   "outputs": [],
   "source": [
    "samples = 1050\n",
    "window = 200\n",
    "windows = samples // window    # full 200-sample windows\n",
    "remainder = samples % window   # leftover samples\n",
    "print(\"Windows:\", windows, \"| Remainder:\", remainder)"
   ]
  },
  {
   "cell_type": "code",
   "execution_count": null,
   "id": "5a220651",
   "metadata": {},
   "outputs": [],
   "source": [
    "arena_size_cm = 10\n",
    "bin_size = 2    # cm\n",
    "grid_dim = arena_size_cm // bin_size   # 10 cm / 2 cm = 5 bins per axis\n",
    "n_bins = grid_dim ** 2                 # 25 bins total\n",
    "print(\"Number of bins in grid:\", n_bins)"
   ]
  }
 ],
 "metadata": {
  "kernelspec": {
   "display_name": "Python 3",
   "language": "python",
   "name": "python3"
  },
  "language_info": {
   "codemirror_mode": {
    "name": "ipython",
    "version": 3
   },
   "file_extension": ".py",
   "mimetype": "text/x-python",
   "name": "python",
   "nbconvert_exporter": "python",
   "pygments_lexer": "ipython3",
   "version": "3.10.11"
  }
 },
 "nbformat": 4,
 "nbformat_minor": 5
}
