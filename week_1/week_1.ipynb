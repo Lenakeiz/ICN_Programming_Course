{
 "cells": [
  {
   "cell_type": "markdown",
   "id": "6a546f79",
   "metadata": {},
   "source": [
    "# How to run this notebook & scripts\n",
    "\n",
    "## In Jupyter Notebooks\n",
    "> **Before you start (VS Code): Select a Python kernel/interpreter**\n",
    "- Run a cell with **⇧+Enter** (or use the **Run** button in the toolbar).\n",
    "- Execution is **top-to-bottom**: if a cell depends on variables defined above, run the earlier cells first.\n",
    "- If you see errors like `NameError: name 'x' is not defined`, it often means a required cell wasn’t run yet.\n",
    "- To restart a stuck session: **Kernel → Restart** (then re-run cells in order).\n",
    "\n",
    "## Our first Python Program (`hello_world.py`)\n",
    "\n",
    "1. **Create a file** named `hello_world.py` in your project folder.\n",
    "2. **Add the code** below to the file:\n",
    "   ```python\n",
    "   print(\"Hello Python world!\")\n",
    "   ```\n",
    "3. **Run it**  \n",
    "   - **VS Code**: *Run → Run Without Debugging* (or press `Ctrl+F5`/`⇧F5` depending on your setup).  \n",
    "   - **Terminal**:  \n",
    "     ```cmd\n",
    "     python hello_world.py\n",
    "     ```"
   ]
  },
  {
   "cell_type": "markdown",
   "id": "0bbfe082",
   "metadata": {},
   "source": [
    "## Variables & reassignment\n",
    "`print(...)` tells Python to display whatever is inside the parentheses. When you bind text to a variable (for example, `welcome_message`) and later **reassign** it, Python will print the variable’s **current** value. Start simple: define a variable, print it, change it, and print again.  \n",
    "*Tip:* If you see a `NameError`, a name is misspelled or used before it’s defined—check the line number in the traceback."
   ]
  },
  {
   "cell_type": "code",
   "execution_count": 1,
   "id": "cb165981",
   "metadata": {},
   "outputs": [
    {
     "name": "stdout",
     "output_type": "stream",
     "text": [
      "Welcome to the ICN programming course\n",
      "Welcome to the ICN programming course, again!\n"
     ]
    }
   ],
   "source": [
    "welcome_message = \"Welcome to the ICN programming course\"\n",
    "print(welcome_message)\n",
    "welcome_message = \"Welcome to the ICN programming course, again!\"\n",
    "print(welcome_message)"
   ]
  },
  {
   "cell_type": "markdown",
   "id": "91e13626",
   "metadata": {},
   "source": []
  }
 ],
 "metadata": {
  "kernelspec": {
   "display_name": "ICN_Programming_Course-E5uewI15",
   "language": "python",
   "name": "python3"
  },
  "language_info": {
   "codemirror_mode": {
    "name": "ipython",
    "version": 3
   },
   "file_extension": ".py",
   "mimetype": "text/x-python",
   "name": "python",
   "nbconvert_exporter": "python",
   "pygments_lexer": "ipython3",
   "version": "3.10.11"
  }
 },
 "nbformat": 4,
 "nbformat_minor": 5
}
