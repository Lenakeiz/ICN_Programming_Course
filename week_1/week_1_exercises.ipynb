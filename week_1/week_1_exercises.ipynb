{
 "cells": [
  {
   "cell_type": "markdown",
   "id": "f599ca62",
   "metadata": {},
   "source": [
    "# ICN Programming Course\n",
    "\n",
    "<p align=\"center\">\n",
    "    <img width=\"500\" alt=\"image\" src=\"https://github.com/Lenakeiz/ICN_Programming_Course/blob/main/Images/cog_neuro_logo_blue_png_0.png?raw=true\">\n",
    "</p>\n",
    "\n",
    "---"
   ]
  },
  {
   "cell_type": "markdown",
   "id": "8b8b6d3d",
   "metadata": {},
   "source": [
    "# **WEEK 1** - Exercises\n",
    "\n",
    "Write your code on the code block after each description and try solving them on your own."
   ]
  },
  {
   "cell_type": "markdown",
   "id": "0dbc7de3",
   "metadata": {},
   "source": [
    "## [1] Variables and Arithmetic\n",
    "Generate three numeric variables `a`, `b`, and `c` with values of 2, 3 and 4, respectively.\n",
    "\n",
    "Then compute the following:\n",
    "\n",
    "$$x = \\frac{a+c}{b}$$\n",
    "$$y = \\frac{b\\,(a+\\sqrt{c})}{a}$$\n",
    "$$z = \\frac{x}{a\\,b}$$\n",
    "\n",
    "> **Tip:** you can import the `math` python library for not basic arithmetic operations. "
   ]
  },
  {
   "cell_type": "code",
   "execution_count": null,
   "id": "b8a31617",
   "metadata": {},
   "outputs": [],
   "source": [
    "# Write your code here"
   ]
  },
  {
   "cell_type": "markdown",
   "id": "717bc125",
   "metadata": {},
   "source": [
    "## [2] Two 3×3 Matrices, Element‑wise and Matrix Product\n",
    "Generate two 3×3 matrices `mat1` and `mat2` (arbitrary integers). Compute their element‑wise product and matrix product, storing the results in `product1` and `product2`. "
   ]
  },
  {
   "cell_type": "code",
   "execution_count": null,
   "id": "82415545",
   "metadata": {},
   "outputs": [],
   "source": [
    "# Write your code here"
   ]
  },
  {
   "cell_type": "markdown",
   "id": "ec5a4e66",
   "metadata": {},
   "source": [
    "## [3] Generate the following sequences with specific steps\n",
    "- From 60 to 3600 in steps of 60\n",
    "- From 10 down to 1 in steps of −1\n",
    "- From 1 to 365 in steps of 7\n",
    "- From 365 to 3650 in steps of 365\n",
    "\n",
    "> **Tip:** you should know how to do this in `numpy`,  but you can try also standard python with the use of `range` which works the same as **slicing**"
   ]
  },
  {
   "cell_type": "code",
   "execution_count": null,
   "id": "81fdd25f",
   "metadata": {},
   "outputs": [],
   "source": [
    "# write your code here"
   ]
  },
  {
   "cell_type": "markdown",
   "id": "8f496846",
   "metadata": {},
   "source": [
    "## [4] Modify Matrix Entries\n",
    "- Change the first row of `mat1` so all entries are 5.\n",
    "- Change the first column of `mat2` to the numbers 1, 2, 3.\n",
    "- Change the entry in the third row, third column of `mat2` to a `null` value `nan`.\n",
    "\n",
    "> **Tip:** `nan` stands for _\"not a number\"_ and is the overall way to get an empty values in data variables. \n",
    "You can use `np.nan`"
   ]
  },
  {
   "cell_type": "code",
   "execution_count": null,
   "id": "ab69d90f",
   "metadata": {},
   "outputs": [],
   "source": [
    "# write your code here"
   ]
  },
  {
   "cell_type": "markdown",
   "id": "deb58c36",
   "metadata": {},
   "source": [
    "## [5] Python list\n",
    "- Create a one‑column collection with your name, age, and place of birth as three separate entries. \n",
    "- Do the same, but in a row"
   ]
  },
  {
   "cell_type": "code",
   "execution_count": null,
   "id": "11ea3491",
   "metadata": {},
   "outputs": [],
   "source": [
    "# write your code here"
   ]
  },
  {
   "cell_type": "markdown",
   "id": "8d19a983",
   "metadata": {},
   "source": [
    "## [6] Means and Standard Deviation\n",
    "- Compute the mean of each **row** and **column** in `mat1` → `row_mean`, `col_mean`.\n",
    "- Compute the standard deviation of **all** entries in `mat1`.\n",
    "- Compute the mean of **all** entries in `mat2`, **ignoring** the `NaN` values.\n",
    "\n",
    "> **Tip:** you can use the `axis` optional variable when calling the numpy functions like `np.mean(axis=1)`.\n",
    "Check the numpy documentation to see what corresponds to row or columns."
   ]
  },
  {
   "cell_type": "code",
   "execution_count": null,
   "id": "6bd63946",
   "metadata": {},
   "outputs": [],
   "source": [
    "# write your code here"
   ]
  },
  {
   "cell_type": "markdown",
   "id": "392e4115",
   "metadata": {},
   "source": [
    "# Example solutions:\n",
    "\n",
    "---\n",
    "\n",
    "---\n",
    "\n",
    "---"
   ]
  },
  {
   "cell_type": "code",
   "execution_count": null,
   "id": "f1ac3ceb",
   "metadata": {},
   "outputs": [],
   "source": [
    "# Example solution 1\n",
    "\n",
    "import math\n",
    "\n",
    "# Given\n",
    "a, b, c = 2, 3, 4\n",
    "\n",
    "# Computations\n",
    "x = (a + c) / b\n",
    "y = (b * (a + math.sqrt(c))) / a\n",
    "z = x / (a * b)\n",
    "\n",
    "print(f\"a={a}, b={b}, c={c}\")\n",
    "print(f\"x = (a+c)/b = {x}\")\n",
    "print(f\"y = (b*(a + sqrt(c)))/a = {y}\")\n",
    "print(f\"z = x/(a*b) = {z}\")"
   ]
  },
  {
   "cell_type": "code",
   "execution_count": null,
   "id": "fc808d61",
   "metadata": {},
   "outputs": [],
   "source": [
    "# Example solution 2\n",
    "\n",
    "import numpy as np\n",
    "\n",
    "# Example 3x3 integer matrices\n",
    "mat1 = np.array([[1, 2, 3],\n",
    "                 [4, 5, 6],\n",
    "                 [7, 8, 9]])\n",
    "\n",
    "mat2 = np.array([[9, 8, 7],\n",
    "                 [6, 5, 4],\n",
    "                 [3, 2, 1]])\n",
    "\n",
    "# Element-wise product\n",
    "product1 = mat1 * mat2\n",
    "\n",
    "# Matrix product\n",
    "product2 = np.dot(mat1,mat2)  # or np.matmul(mat1, mat2)\n",
    "\n",
    "print(\"mat1 =\\n\", mat1)\n",
    "print(\"mat2 =\\n\", mat2)\n",
    "print(\"product1 (element-wise) =\\n\", product1)\n",
    "print(\"product2 (matrix product) =\\n\", product2)"
   ]
  },
  {
   "cell_type": "code",
   "execution_count": null,
   "id": "0caac90d",
   "metadata": {},
   "outputs": [],
   "source": [
    "# Example solution 3\n",
    "\n",
    "import numpy as np\n",
    "\n",
    "s1 = np.linspace(60, 3600, 60)\n",
    "s2 = np.linspace(10, 1, 10)\n",
    "s3 = np.linspace(1, 365, 53)\n",
    "s4 = np.linspace(365, 3650, 10)\n",
    "\n",
    "print(\"s1 (60..3600 step 60): length =\", len(s1), \"; first 10 ->\", s1[:10], \"; last 5 ->\", s1[-5:])\n",
    "print(\"s2 (10..1 step -1):\", s2)\n",
    "print(\"s3 (1..365 step 7): length =\", len(s3), \"; first 10 ->\", s3[:10], \"; last 5 ->\", s3[-5:])\n",
    "print(\"s4 (365..3650 step 365):\", s4)\n",
    "print(\"-\" * 40)\n",
    "\n",
    "# Creating the same sequences without using \n",
    "s1 = list(range(60, 3600 + 60, 60))\n",
    "s2 = list(range(10, 0, -1))\n",
    "s3 = list(range(1, 365 + 1, 7))\n",
    "s4 = list(range(365, 3650 + 365, 365))\n",
    "\n",
    "print(\"s1 (60..3600 step 60): length =\", len(s1), \"; first 10 ->\", s1[:10], \"; last 5 ->\", s1[-5:])\n",
    "print(\"s2 (10..1 step -1):\", s2)\n",
    "print(\"s3 (1..365 step 7): length =\", len(s3), \"; first 10 ->\", s3[:10], \"; last 5 ->\", s3[-5:])\n",
    "print(\"s4 (365..3650 step 365):\", s4)"
   ]
  },
  {
   "cell_type": "code",
   "execution_count": null,
   "id": "4041c33b",
   "metadata": {},
   "outputs": [],
   "source": [
    "# Example solution 4\n",
    "\n",
    "import numpy as np\n",
    "\n",
    "# Recreate example matrices (so this cell is self-contained)\n",
    "mat1 = np.array([[1, 2, 3],\n",
    "                 [4, 5, 6],\n",
    "                 [7, 8, 9]], dtype=float)\n",
    "\n",
    "mat2 = np.array([[9, 8, 7],\n",
    "                 [6, 5, 4],\n",
    "                 [3, 2, 1]], dtype=float)\n",
    "\n",
    "# Changes\n",
    "mat1[0, :] = 5\n",
    "mat2[:, 0] = [1, 2, 3]\n",
    "mat2[2, 2] = np.nan\n",
    "\n",
    "print(\"mat1 after change first row to 5s =\\n\", mat1)\n",
    "print(\"mat2 after column/entry changes =\\n\", mat2)"
   ]
  },
  {
   "cell_type": "code",
   "execution_count": null,
   "id": "a22e16f2",
   "metadata": {},
   "outputs": [],
   "source": [
    "# Example solution 5\n",
    "\n",
    "name = \"Alex Example\"\n",
    "age = 29\n",
    "place_of_birth = \"Bristol\"\n",
    "\n",
    "# One-column collection (like a MATLAB 'cell array' first column)\n",
    "column_list = [[name], [age], [place_of_birth]]  # 3x1 nested list\n",
    "column_row = [name, age, place_of_birth]\n",
    "\n",
    "# 'Structure' analogue: a dict\n",
    "myData = {\n",
    "    \"name\": name,\n",
    "    \"age\": age,\n",
    "    \"place_of_birth\": place_of_birth\n",
    "}\n",
    "\n",
    "print(\"info column (3x1):\", column_list)\n",
    "print(\"info row (1x3):\", column_row)"
   ]
  },
  {
   "cell_type": "code",
   "execution_count": null,
   "id": "cffbb613",
   "metadata": {},
   "outputs": [],
   "source": [
    "\n",
    "\n",
    "import numpy as np\n",
    "\n",
    "# Define matrices (with the same shapes as before)\n",
    "mat1 = np.array([[5, 5, 5],   # first row set to 5s (as in exercise 4 result)\n",
    "                 [4, 5, 6],\n",
    "                 [7, 8, 9]], dtype=float)\n",
    "\n",
    "mat2 = np.array([[1, 8, 7],\n",
    "                 [2, 5, 4],\n",
    "                 [3, 2, np.nan]], dtype=float)  # (3,3) as NaN\n",
    "\n",
    "# Row and column means for mat1\n",
    "row_mean = mat1.mean(axis=1)\n",
    "col_mean = mat1.mean(axis=0)\n",
    "\n",
    "# Std of all entries in mat1 (population std, ddof=0)\n",
    "std_all = mat1.std()\n",
    "\n",
    "# Mean of all entries in mat2, ignoring NaN\n",
    "mean_mat2_ignore_nan = np.nanmean(mat2)\n",
    "\n",
    "print(\"mat1 =\\n\", mat1)\n",
    "print(\"row_mean =\", row_mean)\n",
    "print(\"col_mean =\", col_mean)\n",
    "print(\"std (all entries in mat1) =\", std_all)\n",
    "print(\"\\nmat2 =\\n\", mat2)\n",
    "print(\"mean(mat2) ignoring NaN =\", mean_mat2_ignore_nan)"
   ]
  }
 ],
 "metadata": {
  "kernelspec": {
   "display_name": "ICN_Programming_Course-C5TDmbmv",
   "language": "python",
   "name": "python3"
  },
  "language_info": {
   "codemirror_mode": {
    "name": "ipython",
    "version": 3
   },
   "file_extension": ".py",
   "mimetype": "text/x-python",
   "name": "python",
   "nbconvert_exporter": "python",
   "pygments_lexer": "ipython3",
   "version": "3.10.11"
  }
 },
 "nbformat": 4,
 "nbformat_minor": 5
}
