{
 "cells": [
  {
   "cell_type": "markdown",
   "id": "06b9b53a",
   "metadata": {},
   "source": [
    "# ICN Programming Course\n",
    "\n",
    "<p align=\"center\">\n",
    "    <img width=\"500\" alt=\"image\" src=\"https://github.com/Lenakeiz/ICN_Programming_Course/blob/main/Images/cog_neuro_logo_blue_png_0.png?raw=true\">\n",
    "</p>\n",
    "\n",
    "---"
   ]
  },
  {
   "cell_type": "markdown",
   "id": "d37c5dae",
   "metadata": {},
   "source": [
    "# **WEEK 3** - Intro to object oriented programming - functions and classes"
   ]
  },
  {
   "cell_type": "markdown",
   "id": "354973af",
   "metadata": {},
   "source": [
    "## Why Organize Code with Functions and Classes?\n",
    "\n",
    "As your programs become more complex, you'll find yourself writing the same or similar code multiple times.\n",
    "This leads to code that is hard to read, debug, and maintain.\n",
    "Functions and classes provide powerful ways to organize your code, making it:\n",
    "\n",
    "*   **More Readable:** Breaking down code into smaller, named blocks makes it easier to understand the overall logic.\n",
    "*   **More Reusable:** You can call functions and create objects from classes multiple times without rewriting the same code.\n",
    "*   **Easier to Debug:** If there's an error, you can often isolate it to a specific function or class.\n",
    "*   **More Maintainable:** Changes or updates can be made in one place (within a function or class definition) without affecting other parts of the program."
   ]
  },
  {
   "cell_type": "markdown",
   "id": "b105018b",
   "metadata": {},
   "source": [
    "## Introduction to Object-Oriented Programming (OOP)\n",
    "\n",
    "Object-Oriented Programming (OOP) is a programming paradigm that uses \"objects\" to design applications and computer programs.\n",
    "These objects are instances of \"classes,\" which serve as blueprints. OOP is based on several key concepts:\n",
    "\n",
    "<p align=\"center\">\n",
    "    <img width=\"500\" alt=\"image\" src=\"https://github.com/Lenakeiz/ICN_Programming_Course/blob/main/week_4/images/oop.png?raw=true\">\n",
    "</p>\n",
    "\n",
    "\n",
    "*   **Classes:** User-defined data types that act as blueprints for creating objects. They define a set of attributes (data) and methods (functions) that the objects created from the class will have.\n",
    "    *   **Objects:** Instances of a class. When you create an object from a class, it has its own set of attributes and can perform the actions defined by the class's methods.\n",
    "*   **Encapsulation:** Bundling data (attributes) and the methods that operate on the data within a single unit (the class). This hides the internal state of an object and requires all interaction to be done through the object's methods.\n",
    "*   **Abstraction:** Showing only the essential attributes and hiding unnecessary details. This simplifies the complexity of the object.\n",
    "*   **Polymorphism:** The ability of objects of different classes to respond to the same method call in their own way."
   ]
  }
 ],
 "metadata": {
  "language_info": {
   "name": "python"
  }
 },
 "nbformat": 4,
 "nbformat_minor": 5
}
