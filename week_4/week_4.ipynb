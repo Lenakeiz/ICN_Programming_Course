{
 "cells": [
  {
   "cell_type": "markdown",
   "id": "06b9b53a",
   "metadata": {},
   "source": [
    "# ICN Programming Course\n",
    "\n",
    "<p align=\"center\">\n",
    "    <img width=\"500\" alt=\"image\" src=\"https://github.com/Lenakeiz/ICN_Programming_Course/blob/main/Images/cog_neuro_logo_blue_png_0.png?raw=true\">\n",
    "</p>\n",
    "\n",
    "---"
   ]
  },
  {
   "cell_type": "markdown",
   "id": "d37c5dae",
   "metadata": {},
   "source": [
    "# **WEEK 3** - Intro to object oriented programming - functions and classes"
   ]
  },
  {
   "cell_type": "markdown",
   "id": "354973af",
   "metadata": {},
   "source": [
    "## Why Organize Code with Functions and Classes?\n",
    "\n",
    "As your programs become more complex, you'll find yourself writing the same or similar code multiple times.\n",
    "This leads to code that is hard to read, debug, and maintain.\n",
    "Functions and classes provide powerful ways to organize your code, making it:\n",
    "\n",
    "*   **More Readable:** Breaking down code into smaller, named blocks makes it easier to understand the overall logic.\n",
    "*   **More Reusable:** You can call functions and create objects from classes multiple times without rewriting the same code.\n",
    "*   **Easier to Debug:** If there's an error, you can often isolate it to a specific function or class.\n",
    "*   **More Maintainable:** Changes or updates can be made in one place (within a function or class definition) without affecting other parts of the program.\n",
    "\n",
    "<p align=\"center\">\n",
    "    <img width=\"600\" alt=\"image\" src=\"https://github.com/Lenakeiz/ICN_Programming_Course/blob/main/week_4/images/debugging.png?raw=true\">\n",
    "</p>"
   ]
  },
  {
   "cell_type": "markdown",
   "id": "b105018b",
   "metadata": {},
   "source": [
    "## Introduction to Object-Oriented Programming (OOP)\n",
    "\n",
    "Object-Oriented Programming (OOP) is a programming paradigm that uses \"objects\" to design applications and computer programs.\n",
    "These objects are instances of \"classes,\" which serve as blueprints. OOP is based on several key concepts:\n",
    "\n",
    "<p align=\"center\">\n",
    "    <img width=\"600\" alt=\"image\" src=\"https://github.com/Lenakeiz/ICN_Programming_Course/blob/main/week_4/images/oop.png?raw=true\">\n",
    "</p>\n",
    "\n",
    "*   **Classes:** User-defined data types that act as blueprints for creating objects. They define a set of attributes (data) and methods (functions) that the objects created from the class will have.\n",
    "    *   **Objects:** Instances of a class. When you create an object from a class, it has its own set of attributes and can perform the actions defined by the class's methods.\n",
    "*   **Encapsulation:** Bundling data (attributes) and the methods that operate on the data within a single unit (the class). This hides the internal state of an object and requires all interaction to be done through the object's methods.\n",
    "*   **Abstraction:** Showing only the essential attributes and hiding unnecessary details. This simplifies the complexity of the object.\n",
    "*   **Polymorphism:** The ability of objects of different classes to respond to the same method call in their own way."
   ]
  },
  {
   "cell_type": "markdown",
   "id": "97222222",
   "metadata": {},
   "source": [
    "## Functions\n",
    "Functions are named blocks of code that perform a specific task. \n",
    "They allow you to break down your program into smaller, manageable parts, making your code easier to understand, debug, and reuse.\n",
    "\n",
    "Think of a function as a recipe: you give it some ingredients (inputs), it performs a set of steps (the code inside the function), and it produces a result (output).\n",
    "\n",
    "Without functions, you’d copy‑paste the same logic again and again. Functions help you:\n",
    "- Avoid repetition (Don't Repeat Yourself).\n",
    "- Give code clear names.\n",
    "- Test small pieces in isolation.\n",
    "\n",
    "To define a function using the `def` keyword, followed by the function name, parentheses `()`, and a colon `:`. The code that the function executes is indented below the definition line."
   ]
  },
  {
   "cell_type": "code",
   "execution_count": 1,
   "id": "1b29980b",
   "metadata": {},
   "outputs": [
    {
     "name": "stdout",
     "output_type": "stream",
     "text": [
      "Hello, welcome to lesson four!\n"
     ]
    }
   ],
   "source": [
    "# A simple function that prints a greeting\n",
    "def greet():\n",
    "  print(\"Hello, welcome to lesson four!\")\n",
    "\n",
    "# Calling the function\n",
    "greet()"
   ]
  },
  {
   "cell_type": "markdown",
   "id": "ac7c37f4",
   "metadata": {},
   "source": [
    "### Passing Information to a Function (Parameters and Arguments)\n",
    "A function can take **inputs**.\n",
    "\n",
    "- In the **function definition**, the names inside the parentheses are **parameters** (placeholders).\n",
    "- When you **call** the function, the values you pass are **arguments**.\n",
    "- By adding parameters to a function, you require matching arguments when calling it (unless a **default** is provided)."
   ]
  },
  {
   "cell_type": "code",
   "execution_count": null,
   "id": "7fa66947",
   "metadata": {},
   "outputs": [
    {
     "name": "stdout",
     "output_type": "stream",
     "text": [
      "Hello, Andrea, welcome to lesson four!\n"
     ]
    },
    {
     "ename": "TypeError",
     "evalue": "greet() missing 1 required positional argument: 'name'",
     "output_type": "error",
     "traceback": [
      "\u001b[1;31m---------------------------------------------------------------------------\u001b[0m",
      "\u001b[1;31mTypeError\u001b[0m                                 Traceback (most recent call last)",
      "Cell \u001b[1;32mIn[3], line 7\u001b[0m\n\u001b[0;32m      5\u001b[0m \u001b[38;5;66;03m# Calling the function with a name\u001b[39;00m\n\u001b[0;32m      6\u001b[0m greet(\u001b[38;5;124m\"\u001b[39m\u001b[38;5;124mAndrea\u001b[39m\u001b[38;5;124m\"\u001b[39m)\n\u001b[1;32m----> 7\u001b[0m \u001b[43mgreet\u001b[49m\u001b[43m(\u001b[49m\u001b[43m)\u001b[49m\n",
      "\u001b[1;31mTypeError\u001b[0m: greet() missing 1 required positional argument: 'name'"
     ]
    }
   ],
   "source": [
    "# Let s modify our greet function to accept a name as a parameter\n",
    "def greet(name):\n",
    "  print(f\"Hello, {name}, welcome to lesson four!\")\n",
    "\n",
    "# Calling the function with a name\n",
    "greet(\"Andrea\")"
   ]
  },
  {
   "cell_type": "markdown",
   "id": "189343b6",
   "metadata": {},
   "source": [
    "Similar to any variables, functions can be reused, once defined in subsequent cell blocks. "
   ]
  },
  {
   "cell_type": "markdown",
   "id": "4dca2e23",
   "metadata": {},
   "source": []
  }
 ],
 "metadata": {
  "kernelspec": {
   "display_name": "ICN_Programming_Course-E5uewI15",
   "language": "python",
   "name": "python3"
  },
  "language_info": {
   "codemirror_mode": {
    "name": "ipython",
    "version": 3
   },
   "file_extension": ".py",
   "mimetype": "text/x-python",
   "name": "python",
   "nbconvert_exporter": "python",
   "pygments_lexer": "ipython3",
   "version": "3.10.11"
  }
 },
 "nbformat": 4,
 "nbformat_minor": 5
}
