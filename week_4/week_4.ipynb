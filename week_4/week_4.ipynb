{
 "cells": [
  {
   "cell_type": "markdown",
   "id": "06b9b53a",
   "metadata": {},
   "source": [
    "# ICN Programming Course\n",
    "\n",
    "<p align=\"center\">\n",
    "    <img width=\"500\" alt=\"image\" src=\"https://github.com/Lenakeiz/ICN_Programming_Course/blob/main/Images/cog_neuro_logo_blue_png_0.png?raw=true\">\n",
    "</p>\n",
    "\n",
    "---"
   ]
  },
  {
   "cell_type": "markdown",
   "id": "d37c5dae",
   "metadata": {},
   "source": [
    "# **WEEK 4** - Intro to object oriented programming - functions and classes"
   ]
  },
  {
   "cell_type": "markdown",
   "id": "354973af",
   "metadata": {},
   "source": [
    "## Why Organize Code with Functions and Classes?\n",
    "\n",
    "As your programs become more complex, you'll find yourself writing the same or similar code multiple times.\n",
    "This leads to code that is hard to read, debug, and maintain.\n",
    "Functions and classes provide powerful ways to organize your code, making it:\n",
    "\n",
    "*   **More Readable:** Breaking down code into smaller, named blocks makes it easier to understand the overall logic.\n",
    "*   **More Reusable:** You can call functions and create objects from classes multiple times without rewriting the same code.\n",
    "*   **Easier to Debug:** If there's an error, you can often isolate it to a specific function or class.\n",
    "*   **More Maintainable:** Changes or updates can be made in one place (within a function or class definition) without affecting other parts of the program.\n",
    "\n",
    "<p align=\"center\">\n",
    "    <img width=\"600\" alt=\"image\" src=\"https://github.com/Lenakeiz/ICN_Programming_Course/blob/main/week_4/images/debugging.png?raw=true\">\n",
    "</p>"
   ]
  },
  {
   "cell_type": "markdown",
   "id": "b105018b",
   "metadata": {},
   "source": [
    "## Introduction to Object-Oriented Programming (OOP)\n",
    "\n",
    "Object-Oriented Programming (OOP) is a programming paradigm that uses \"objects\" to design applications and computer programs.\n",
    "These objects are instances of \"classes,\" which serve as blueprints. OOP is based on several key concepts:\n",
    "\n",
    "<p align=\"center\">\n",
    "    <img width=\"600\" alt=\"image\" src=\"https://github.com/Lenakeiz/ICN_Programming_Course/blob/main/week_4/images/oop.png?raw=true\">\n",
    "</p>\n",
    "\n",
    "*   **Classes:** User-defined data types that act as blueprints for creating objects. They define a set of attributes (data) and methods (functions) that the objects created from the class will have.\n",
    "    *   **Objects:** Instances of a class. When you create an object from a class, it has its own set of attributes and can perform the actions defined by the class's methods.\n",
    "*   **Encapsulation:** Bundling data (attributes) and the methods that operate on the data within a single unit (the class). This hides the internal state of an object and requires all interaction to be done through the object's methods.\n",
    "*   **Abstraction:** Showing only the essential attributes and hiding unnecessary details. This simplifies the complexity of the object.\n",
    "*   **Polymorphism:** The ability of objects of different classes to respond to the same method call in their own way."
   ]
  },
  {
   "cell_type": "markdown",
   "id": "97222222",
   "metadata": {},
   "source": [
    "## Functions\n",
    "Functions are named blocks of code that perform a specific task. \n",
    "They allow you to break down your program into smaller, manageable parts, making your code easier to understand, debug, and reuse.\n",
    "\n",
    "Think of a function as a recipe: you give it some ingredients (inputs), it performs a set of steps (the code inside the function), and it produces a result (output).\n",
    "\n",
    "Without functions, you’d copy‑paste the same logic again and again. Functions help you:\n",
    "- Avoid repetition (Don't Repeat Yourself).\n",
    "- Give code clear names.\n",
    "- Test small pieces in isolation.\n",
    "\n",
    "To define a function using the `def` keyword, followed by the function name, parentheses `()`, and a colon `:`. The code that the function executes is indented below the definition line."
   ]
  },
  {
   "cell_type": "code",
   "execution_count": 1,
   "id": "1b29980b",
   "metadata": {},
   "outputs": [
    {
     "name": "stdout",
     "output_type": "stream",
     "text": [
      "Hello, welcome to lesson four!\n"
     ]
    }
   ],
   "source": [
    "# A simple function that prints a greeting\n",
    "def greet():\n",
    "  print(\"Hello, welcome to lesson four!\")\n",
    "\n",
    "# Calling the function\n",
    "greet()"
   ]
  },
  {
   "cell_type": "markdown",
   "id": "ac7c37f4",
   "metadata": {},
   "source": [
    "### Passing Information to a Function (Parameters and Arguments)\n",
    "A function can take **inputs**.\n",
    "\n",
    "- In the **function definition**, the names inside the parentheses are **parameters** (placeholders).\n",
    "- When you **call** the function, the values you pass are **arguments**.\n",
    "- By adding parameters to a function, you require matching arguments when calling it (unless a **default** is provided).\n",
    "\n",
    "Similar to any variables, functions can be reused, once defined in subsequent cell blocks. "
   ]
  },
  {
   "cell_type": "code",
   "execution_count": 5,
   "id": "7fa66947",
   "metadata": {},
   "outputs": [
    {
     "name": "stdout",
     "output_type": "stream",
     "text": [
      "Hello, Mario, welcome to lesson four!\n",
      "Hello, Luigi, welcome to lesson four!\n"
     ]
    }
   ],
   "source": [
    "# Let s modify our greet function to accept a name as a parameter\n",
    "def greet(name):\n",
    "  print(f\"Hello, {name}, welcome to lesson four!\")\n",
    "\n",
    "# Calling the function with a name\n",
    "greet(\"Mario\")\n",
    "greet(\"Luigi\")"
   ]
  },
  {
   "cell_type": "markdown",
   "id": "9fb1dfe2",
   "metadata": {},
   "source": [
    "If a function has **parameters without defaults**, you **must** pass arguments for them when calling the function.  \n",
    "Otherwise, Python raises a `TypeError` indicating which argument is missing."
   ]
  },
  {
   "cell_type": "code",
   "execution_count": 6,
   "id": "dacd7077",
   "metadata": {},
   "outputs": [
    {
     "ename": "TypeError",
     "evalue": "greet() missing 1 required positional argument: 'name'",
     "output_type": "error",
     "traceback": [
      "\u001b[1;31m---------------------------------------------------------------------------\u001b[0m",
      "\u001b[1;31mTypeError\u001b[0m                                 Traceback (most recent call last)",
      "Cell \u001b[1;32mIn[6], line 1\u001b[0m\n\u001b[1;32m----> 1\u001b[0m \u001b[43mgreet\u001b[49m\u001b[43m(\u001b[49m\u001b[43m)\u001b[49m\n",
      "\u001b[1;31mTypeError\u001b[0m: greet() missing 1 required positional argument: 'name'"
     ]
    }
   ],
   "source": [
    "greet()"
   ]
  },
  {
   "cell_type": "markdown",
   "id": "64d894a1",
   "metadata": {},
   "source": [
    "### Positional arguments\n",
    "\n",
    "When you pass arguments to a function, Python matches the arguments to the parameters based on their position.\n",
    "\n",
    "This means the **order** in which you provide the arguments **matters**.\n",
    "\n",
    "If you provide arguments in the wrong order, the function might produce incorrect results or raise an error, especially if the parameters have different data types or meanings.\n",
    "\n",
    "Consider computing a neuron's **firing rate**:  \n",
    "$$\n",
    "\\text{rate (Hz)} = \\frac{\\text{spike\\_count}}{\\text{bin\\_width\\_s}}\n",
    "$$\n",
    "\n",
    "Swapping the order of `spike_count` and `bin_width_s` changes the meaning and the result."
   ]
  },
  {
   "cell_type": "code",
   "execution_count": 10,
   "id": "4953da0f",
   "metadata": {},
   "outputs": [
    {
     "name": "stdout",
     "output_type": "stream",
     "text": [
      "The average firing rate is: 25.0 Hz\n",
      "The average firing rate is: 0.04 Hz\n"
     ]
    }
   ],
   "source": [
    "# Function to calculate average firing rate\n",
    "def calculate_firing_rate(num_spikes, time_window_seconds):\n",
    "  firing_rate = num_spikes / time_window_seconds\n",
    "  print(f\"The average firing rate is: {firing_rate} Hz\")\n",
    "\n",
    "# Calling the function with arguments\n",
    "\n",
    "num_spikes = 50\n",
    "time_s = 2\n",
    "\n",
    "calculate_firing_rate(num_spikes, time_s)\n",
    "calculate_firing_rate(time_s, num_spikes) "
   ]
  },
  {
   "cell_type": "markdown",
   "id": "6f2c83c5",
   "metadata": {},
   "source": [
    "### Keyword arguments\n",
    "\n",
    "To avoid issues with order, you can use **keyword arguments**, where you explicitly name the parameter you are assigning a value to.\n",
    "This makes the function call more readable and the order doesn't matter."
   ]
  },
  {
   "cell_type": "code",
   "execution_count": 11,
   "id": "5125b018",
   "metadata": {},
   "outputs": [
    {
     "name": "stdout",
     "output_type": "stream",
     "text": [
      "The average firing rate is: 25.0 Hz\n",
      "The average firing rate is: 25.0 Hz\n"
     ]
    }
   ],
   "source": [
    "calculate_firing_rate(num_spikes=50, time_window_seconds=2)\n",
    "calculate_firing_rate(time_window_seconds=2, num_spikes=50) # Different order, same result"
   ]
  },
  {
   "cell_type": "markdown",
   "id": "43417856",
   "metadata": {},
   "source": [
    "### Dafault arguments\n",
    "\n",
    "You can assign default values to parameters in a function definition.\n",
    "\n",
    "If an argument is not provided for a parameter with a default value when the function is called, the default value is used.\n",
    "This makes the function more flexible and allows for shorter function calls when the default value is appropriate.\n",
    "\n",
    "Default parameters are defined in the function signature using the assignment operator `=`.\n",
    "\n",
    "> **Warning:** default should be defined after positional parameters"
   ]
  },
  {
   "cell_type": "code",
   "execution_count": 14,
   "id": "f792e874",
   "metadata": {},
   "outputs": [
    {
     "name": "stdout",
     "output_type": "stream",
     "text": [
      "Simulated firing rate with stimulus intensity 5 and duration 10: 12.5 Hz (baseline: 10 Hz)\n",
      "Simulated firing rate with stimulus intensity 5 and duration 10: 22.5 Hz (baseline: 20 Hz)\n"
     ]
    }
   ],
   "source": [
    "# Function to simulate neuron activity with a default baseline firing rate\n",
    "def simulate_neuron_activity(stimulus_intensity, duration, baseline_firing_rate=10):\n",
    "  simulated_rate = baseline_firing_rate + (stimulus_intensity * 0.5) # Simple simulation\n",
    "  print(f\"Simulated firing rate with stimulus intensity {stimulus_intensity} and duration {duration}: {simulated_rate} Hz (baseline: {baseline_firing_rate} Hz)\")\n",
    "\n",
    "# Calling the function without providing the default parameter (uses default baseline_firing_rate=10)\n",
    "simulate_neuron_activity(5, 10)\n",
    "\n",
    "# Calling the function providing all parameters, including the baseline_firing_rate\n",
    "simulate_neuron_activity(5, 10, 20)"
   ]
  },
  {
   "cell_type": "markdown",
   "id": "956a6a85",
   "metadata": {},
   "source": [
    "Because Python is flexible with how you pass arguments, you can often combine positional arguments, keyword arguments, and default parameters, leading to several ways to call the same function."
   ]
  },
  {
   "cell_type": "code",
   "execution_count": 1,
   "id": "68a145cc",
   "metadata": {},
   "outputs": [
    {
     "name": "stdout",
     "output_type": "stream",
     "text": [
      "Configuring experiment: Visual Response\n",
      "Subject ID: SubjectA\n",
      "Number of trials: 15\n",
      "Stimulus type: auditory\n",
      "Total experiment duration: 75 seconds\n",
      "--------------------\n",
      "Configuring experiment: Auditory Processing\n",
      "Subject ID: SubjectB\n",
      "Number of trials: 20\n",
      "Stimulus type: auditory\n",
      "Total experiment duration: 100 seconds\n",
      "--------------------\n",
      "Configuring experiment: Neural Encoding\n",
      "Subject ID: SubjectC\n",
      "Number of trials: 25\n",
      "Stimulus type: visual\n",
      "Total experiment duration: 125 seconds\n",
      "--------------------\n",
      "Configuring experiment: Sensory Integration\n",
      "Subject ID: SubjectD\n",
      "Number of trials: 10\n",
      "Stimulus type: visual\n",
      "Total experiment duration: 50 seconds\n",
      "--------------------\n",
      "Configuring experiment: Motor Learning\n",
      "Subject ID: SubjectE\n",
      "Number of trials: 10\n",
      "Stimulus type: kinesthetic\n",
      "Total experiment duration: 50 seconds\n",
      "--------------------\n"
     ]
    }
   ],
   "source": [
    "# Function with a mix of positional, keyword, and default parameters\n",
    "def configure_experiment(experiment_name, subject_id, trials=10, stimulus_type=\"visual\"):\n",
    "  \"\"\"Configures an experiment with various settings.\"\"\"\n",
    "  duration_per_trial = 5  # in seconds\n",
    "  print(f\"Configuring experiment: {experiment_name}\")\n",
    "  print(f\"Subject ID: {subject_id}\")\n",
    "  print(f\"Number of trials: {trials}\")\n",
    "  print(f\"Stimulus type: {stimulus_type}\")\n",
    "  print(f\"Total experiment duration: {trials * duration_per_trial} seconds\")\n",
    "  print(\"-\" * 20)\n",
    "\n",
    "# 1. Using only positional arguments (order matters!)\n",
    "configure_experiment(\"Visual Response\", \"SubjectA\", 15, \"auditory\")\n",
    "\n",
    "# 2. Using a mix of positional and keyword arguments (positional first)\n",
    "configure_experiment(\"Auditory Processing\", \"SubjectB\", trials=20, stimulus_type=\"auditory\")\n",
    "\n",
    "# 3. Using keyword arguments for all parameters (order doesn't matter)\n",
    "configure_experiment(experiment_name=\"Neural Encoding\", subject_id=\"SubjectC\", trials=25, stimulus_type=\"visual\")\n",
    "\n",
    "# 4. Using default values for some parameters\n",
    "configure_experiment(\"Sensory Integration\", \"SubjectD\") # uses default trials=10, stimulus_type=\"visual\"\n",
    "\n",
    "# 5. Using default values and keyword arguments for others\n",
    "configure_experiment(\"Motor Learning\", \"SubjectE\", stimulus_type=\"kinesthetic\") # uses default trials=10"
   ]
  },
  {
   "cell_type": "markdown",
   "id": "fe6dd674",
   "metadata": {},
   "source": [
    "While using positional arguments can be concise for simple functions, for more complex functions with multiple parameters of varying data types, it's easy to make a mistake and pass arguments in the wrong order.\n",
    "\n",
    "This can lead to a `TypeError` when Python tries to assign a value to a parameter that expects a different data type.\n",
    "\n",
    "Using keyword arguments is generally recommended for clarity and to prevent such errors in more involved functions."
   ]
  },
  {
   "cell_type": "code",
   "execution_count": 4,
   "id": "f9317806",
   "metadata": {},
   "outputs": [
    {
     "ename": "TypeError",
     "evalue": "configure_experiment() missing 1 required positional argument: 'subject_id'",
     "output_type": "error",
     "traceback": [
      "\u001b[1;31m---------------------------------------------------------------------------\u001b[0m",
      "\u001b[1;31mTypeError\u001b[0m                                 Traceback (most recent call last)",
      "Cell \u001b[1;32mIn[4], line 3\u001b[0m\n\u001b[0;32m      1\u001b[0m \u001b[38;5;66;03m# This call will likely cause a TypeError because the order of arguments is incorrect,\u001b[39;00m\n\u001b[0;32m      2\u001b[0m \u001b[38;5;66;03m# and \"SubjectZ\" (a string) is being passed to the 'trials' parameter (which expects an integer).\u001b[39;00m\n\u001b[1;32m----> 3\u001b[0m \u001b[43mconfigure_experiment\u001b[49m\u001b[43m(\u001b[49m\u001b[38;5;124;43m\"\u001b[39;49m\u001b[38;5;124;43mComplex Study\u001b[39;49m\u001b[38;5;124;43m\"\u001b[39;49m\u001b[43m)\u001b[49m\n",
      "\u001b[1;31mTypeError\u001b[0m: configure_experiment() missing 1 required positional argument: 'subject_id'"
     ]
    }
   ],
   "source": [
    "# This call will likely cause a TypeError because the order of arguments is incorrect,\n",
    "# and \"SubjectZ\" (a string) is being passed to the 'trials' parameter (which expects an integer).\n",
    "configure_experiment(\"Complex Study\")"
   ]
  },
  {
   "cell_type": "markdown",
   "id": "9cf0e548",
   "metadata": {},
   "source": [
    "### Return Values\n",
    "\n",
    "A function doesn’t always have to display its output directly.\n",
    "Instead, it can process some data and then return a value or set of values.\n",
    "\n",
    "The value the function returns is called a **return value**.\n",
    "\n",
    "The `return` statement takes a value from inside a function and sends it back to the line that called the function."
   ]
  },
  {
   "cell_type": "code",
   "execution_count": 6,
   "id": "7a8631fd",
   "metadata": {},
   "outputs": [
    {
     "name": "stdout",
     "output_type": "stream",
     "text": [
      "From 'subject_01', extracted number: 1\n",
      "From 'participant_15', extracted number: 15\n",
      "From 'experiment_A', extracted number: None\n"
     ]
    }
   ],
   "source": [
    "def extract_subject_number(subject_id_string):\n",
    "  # Extracts the numeric part from a subject ids saved in the format \"subject_xyz\".\n",
    "\n",
    "  parts = subject_id_string.split('_')\n",
    "  if len(parts) > 1 and parts[-1].isdigit():\n",
    "    return int(parts[-1])\n",
    "  else:\n",
    "    return None # Return None if the expected format is not found\n",
    "  \n",
    "subject1 = \"subject_01\"\n",
    "number1 = extract_subject_number(subject1)\n",
    "print(f\"From '{subject1}', extracted number: {number1}\")\n",
    "\n",
    "subject2 = \"participant_15\"\n",
    "number2 = extract_subject_number(subject2)\n",
    "print(f\"From '{subject2}', extracted number: {number2}\")\n",
    "\n",
    "subject3 = \"experiment_A\"\n",
    "number3 = extract_subject_number(subject3)\n",
    "print(f\"From '{subject3}', extracted number: {number3}\")"
   ]
  },
  {
   "cell_type": "markdown",
   "id": "b39fbcbb",
   "metadata": {},
   "source": [
    "### Returning multiple values\n",
    "\n",
    "If a function needs to return multiple pieces of related information, returning a dictionary is a good approach.\n",
    "\n",
    "This allows you to bundle the information together and access individual values using descriptive keys."
   ]
  },
  {
   "cell_type": "code",
   "execution_count": 8,
   "id": "94a0e134",
   "metadata": {},
   "outputs": [
    {
     "name": "stdout",
     "output_type": "stream",
     "text": [
      "{'subject_id': 'S01', 'condition': 'placebo', 'rate_hz': 24.0, 'accuracy': 85.0, 'trials': 40}\n"
     ]
    }
   ],
   "source": [
    "def summarize_block(subject_id, spike_count, window_s, n_trials, n_correct, is_drug):\n",
    "    \n",
    "    rate_hz = (spike_count / window_s) if window_s > 0 else 0.0\n",
    "    accuracy = (n_correct / n_trials) * 100.0 if n_trials > 0 else 0.0\n",
    "    condition = \"stimulation\" if is_drug else \"placebo\"\n",
    "\n",
    "    return {\n",
    "        \"subject_id\": subject_id,\n",
    "        \"condition\": condition,\n",
    "        \"rate_hz\": rate_hz,\n",
    "        \"accuracy\": accuracy,\n",
    "        \"trials\": n_trials\n",
    "    }\n",
    "\n",
    "# Example usage (only simple values passed in)\n",
    "result = summarize_block(\n",
    "    subject_id=\"S01\",\n",
    "    spike_count=48,\n",
    "    window_s=2.0,\n",
    "    n_trials=40,\n",
    "    n_correct=34,\n",
    "    is_drug=False\n",
    ")\n",
    "\n",
    "print(result)"
   ]
  },
  {
   "cell_type": "markdown",
   "id": "39e9fa00",
   "metadata": {},
   "source": [
    "### Modifying mutable objects\n",
    "\n",
    "When you pass a mutable object (like a NumPy array, list, or dictionary) to a function, the function receives a **reference to the original object**.\n",
    "\n",
    "This means that any in-place modifications made to the object within the function will be reflected in the original object outside the function."
   ]
  },
  {
   "cell_type": "code",
   "execution_count": 11,
   "id": "627549c9",
   "metadata": {},
   "outputs": [
    {
     "name": "stdout",
     "output_type": "stream",
     "text": [
      "Original array: [10. 25.  5. 30. 15.]\n",
      "Normalized array: [0.33333333 0.83333333 0.16666667 1.         0.5       ]\n"
     ]
    }
   ],
   "source": [
    "import numpy as np\n",
    "\n",
    "def normalize_data(data_array):\n",
    "  # Normalizes a NumPy array in place by dividing each element by the maximum value in the array.\n",
    "  max_value = np.max(data_array)\n",
    "  if max_value > 0:\n",
    "    data_array /= max_value # Modifies the array in place\n",
    "\n",
    "my_data = np.array([10.0, 25.0, 5.0, 30.0, 15.0])\n",
    "print(f\"Original array: {my_data}\")\n",
    "\n",
    "normalize_data(my_data)\n",
    "\n",
    "print(f\"Normalized array: {my_data}\")"
   ]
  },
  {
   "cell_type": "markdown",
   "id": "eb40fb38",
   "metadata": {},
   "source": [
    "In NumPy, many operations can happen **in place**, which changes the original array.  \n",
    "To avoid this, work on a **copy** using `np.copy(arr)` or `arr.copy()` and return the new array.\n",
    "\n",
    "If using a list you can create a **shallow** copy of the array when calling the function using the `[]` operator"
   ]
  },
  {
   "cell_type": "code",
   "execution_count": null,
   "id": "0c39bd61",
   "metadata": {},
   "outputs": [
    {
     "name": "stdout",
     "output_type": "stream",
     "text": [
      "Normalized array: [0.33333333 0.83333333 0.16666667 1.         0.5       ]\n",
      "Original array: [10. 25.  5. 30. 15.]\n"
     ]
    }
   ],
   "source": [
    "def normalize_data(data_array):\n",
    "  # create a local copy\n",
    "  local_copy = data_array.copy()\n",
    "  max_value = np.max(local_copy)\n",
    "  if max_value > 0:\n",
    "    local_copy /= max_value # Modifies the array in place\n",
    "\n",
    "  return local_copy\n",
    "\n",
    "my_data = np.array([10.0, 25.0, 5.0, 30.0, 15.0])\n",
    "\n",
    "modified_data = normalize_data(my_data)\n",
    "\n",
    "print(f\"Normalized array: {modified_data}\")\n",
    "print(f\"Original array: {my_data}\")\n",
    "\n"
   ]
  },
  {
   "cell_type": "code",
   "execution_count": 20,
   "id": "769cef40",
   "metadata": {},
   "outputs": [
    {
     "name": "stdout",
     "output_type": "stream",
     "text": [
      "Normalized array: [0.33333333 0.83333333 0.16666667 1.         0.5       ]\n",
      "Original array: [10.0, 25.0, 5.0, 30.0, 15.0]\n"
     ]
    }
   ],
   "source": [
    "# list version\n",
    "\n",
    "def normalize_data(data_array):\n",
    "  # create a local copy\n",
    "  max_value = np.max(data_array)\n",
    "  if max_value > 0:\n",
    "    data_array /= max_value # Modifies the array in place\n",
    "\n",
    "  return data_array\n",
    "\n",
    "my_data = [10.0, 25.0, 5.0, 30.0, 15.0]\n",
    "\n",
    "modified_data = normalize_data(my_data[:]) # create a shallow copy using the [] operator\n",
    "\n",
    "print(f\"Normalized array: {modified_data}\")\n",
    "print(f\"Original array: {my_data}\")"
   ]
  },
  {
   "cell_type": "markdown",
   "id": "9d91d44a",
   "metadata": {},
   "source": [
    "In addition to normal (fixed) parameters, Python functions can accept an **arbitrary number of arguments**.\n",
    "\n",
    "This is useful when you don’t know in advance how many inputs a caller will provide.\n",
    "- **Passing an arbitrary number of arguments** (`*args`)\n",
    "- **Mixing positional and arbitrary arguments**\n",
    "- **Using arbitrary keyword arguments** (`**kwargs`)\n",
    "\n",
    "These patterns let you write flexible functions without overloading them with many optional parameters.\n",
    "\n",
    "> **Note:** Most of the functions you are going to look at from different packages/modules are built using these special parameters\n",
    "\n",
    "---\n",
    "\n",
    "### 1) `*args`: arbitrary **positional** arguments\n",
    "\n",
    "`*args` gathers any extra **positional** arguments into an _immutable_ **list**. In Python this is referred as **tuple**."
   ]
  },
  {
   "cell_type": "code",
   "execution_count": null,
   "id": "105518f1",
   "metadata": {},
   "outputs": [
    {
     "name": "stdout",
     "output_type": "stream",
     "text": [
      "  events: fixation_on, cue_on, target_on, response\n",
      "  events: fixation_on, timeout\n",
      "  events: \n",
      "args is a: <class 'tuple'>\n",
      "0: 10 (type: int)\n",
      "1: 3.5 (type: float)\n",
      "2: 'hippocampus' (type: str)\n",
      "3: True (type: bool)\n",
      "4: None (type: NoneType)\n"
     ]
    }
   ],
   "source": [
    "def log_trial(*events):\n",
    "    if events is not None: # Check if any events were provided, can also be simple `if events:`\n",
    "        print(\"  events:\", \", \".join(events))\n",
    "    else:\n",
    "        print(\"  events: (none)\")\n",
    "\n",
    "# Calls with different numbers of positional arguments\n",
    "log_trial(\"fixation_on\", \"cue_on\", \"target_on\", \"response\")\n",
    "log_trial(\"fixation_on\", \"timeout\")\n",
    "log_trial()  # still valid; *events can be empty\n"
   ]
  },
  {
   "cell_type": "code",
   "execution_count": 31,
   "id": "cd7420bf",
   "metadata": {},
   "outputs": [
    {
     "name": "stdout",
     "output_type": "stream",
     "text": [
      "args is a: <class 'tuple'>\n",
      "0: 10 (type: int)\n",
      "1: 3.5 (type: float)\n",
      "2: 'subject_01' (type: str)\n",
      "3: True (type: bool)\n",
      "4: None (type: NoneType)\n"
     ]
    }
   ],
   "source": [
    "# A list in Python does not have a defined type\n",
    "def inspect_args(*args):\n",
    "    print(\"args is a:\", type(args))\n",
    "    for i, val in enumerate(args):\n",
    "        print(f\"{i}: {val!r} (type: {type(val).__name__})\")\n",
    "\n",
    "inspect_args(10, 3.5, \"subject_01\", True, None)"
   ]
  },
  {
   "cell_type": "markdown",
   "id": "ab2cab70",
   "metadata": {},
   "source": [
    "### 2) mixing positional paramters with `*args`\n",
    "\n",
    "You can have one or more normal positional parameters, then `*args` to collect the rest."
   ]
  },
  {
   "cell_type": "code",
   "execution_count": 28,
   "id": "0e2a53c8",
   "metadata": {},
   "outputs": [
    {
     "name": "stdout",
     "output_type": "stream",
     "text": [
      "Trial 1\n",
      "  events: fixation_on, cue_on, target_on, response\n",
      "Trial 2\n",
      "  events: fixation_on, timeout\n",
      "Trial 3\n",
      "  events: (none)\n"
     ]
    }
   ],
   "source": [
    "def log_trial(trial_id, *events):\n",
    "    print(f\"Trial {trial_id}\")\n",
    "    if events:\n",
    "        print(\"  events:\", \", \".join(events))\n",
    "    else:\n",
    "        print(\"  events: (none)\")\n",
    "\n",
    "log_trial(1, \"fixation_on\", \"cue_on\", \"target_on\", \"response\")\n",
    "log_trial(2, \"fixation_on\", \"timeout\")\n",
    "log_trial(3)  # still valid; *events can be empty"
   ]
  },
  {
   "cell_type": "markdown",
   "id": "1603ed83",
   "metadata": {},
   "source": [
    "### 3) `**kwargs`: arbitrary keyword arguments\n",
    "\n",
    "`**kwargs` gathers any extra named arguments into a dictionary."
   ]
  },
  {
   "cell_type": "code",
   "execution_count": 32,
   "id": "691da768",
   "metadata": {},
   "outputs": [
    {
     "name": "stdout",
     "output_type": "stream",
     "text": [
      "{'subject_id': 'S032', 'age': 32, 'group': 'control', 'site': 'UCL', 'consent': True, 'handness': 'right', 'experiment_date': '2024-06-15'}\n"
     ]
    }
   ],
   "source": [
    "def build_subject_demographics(subject_id, **meta):\n",
    "    profile = {\"subject_id\": subject_id}\n",
    "    profile.update(meta)\n",
    "    return profile\n",
    "\n",
    "p = build_subject_demographics(\"S032\", age=32, group=\"control\", site=\"UCL\", consent=True, handness='right', experiment_date='2024-06-15')\n",
    "print(p)  # {'subject_id': 'S032', 'age': 28, 'group': 'control', 'site': 'UCL', 'consent': True}"
   ]
  },
  {
   "cell_type": "markdown",
   "id": "b23e19b5",
   "metadata": {},
   "source": [
    "## Creating and importing your own modules\n",
    "\n",
    "As the project grows, organizing your code into separate files (modules) might be useful. \n",
    "\n",
    "This keeps your code manageable and promotes reusability. A module is simply a Python file with a `.py` extension.\n",
    "\n",
    "Here's how you can create and use your own module:\n",
    "\n",
    "1.  **Create a `.py` file:** In a real project, you would create a new file (e.g., `my_module.py`) in your project directory.\n",
    "For demonstration purposes in this notebook, we have created an `example_utils` inside a folder to keep things organised.\n",
    "\n",
    "You can import the entire module using the `import` command"
   ]
  },
  {
   "cell_type": "code",
   "execution_count": 1,
   "id": "416756c3",
   "metadata": {},
   "outputs": [
    {
     "name": "stdout",
     "output_type": "stream",
     "text": [
      "{'subject_id': 'S045', 'age': 45, 'group': 'treatment', 'site': 'MIT', 'consent': True, 'handness': 'left', 'experiment_date': '2024-06-20'}\n"
     ]
    }
   ],
   "source": [
    "import utils.example_utils\n",
    "\n",
    "p = utils.example_utils.build_subject_demographics_module(\"S045\", age=45, group=\"treatment\", site=\"MIT\", consent=True, handness='left', experiment_date='2024-06-20')\n",
    "print(p)"
   ]
  },
  {
   "cell_type": "markdown",
   "id": "bd9e90ce",
   "metadata": {},
   "source": [
    "However if you only need specific functions from a module, you can import them directly using the `from ... import ...` syntax.\n",
    "\n",
    "This allows you to use the function names directly without the module prefix."
   ]
  },
  {
   "cell_type": "code",
   "execution_count": 1,
   "id": "48351f39",
   "metadata": {},
   "outputs": [
    {
     "name": "stdout",
     "output_type": "stream",
     "text": [
      "Result of add_numbers: 12\n"
     ]
    }
   ],
   "source": [
    "from utils.example_utils import add_numbers\n",
    "\n",
    "result = add_numbers(5, 7)\n",
    "print(f\"Result of add_numbers: {result}\")"
   ]
  },
  {
   "cell_type": "markdown",
   "id": "05acefec",
   "metadata": {},
   "source": [
    "In both cases, you can also give a module or an imported function a different name (an alias) using the as keyword.\n",
    "\n",
    "This is useful for shortening long module names or avoiding naming conflicts."
   ]
  },
  {
   "cell_type": "code",
   "execution_count": 3,
   "id": "ef604f4d",
   "metadata": {},
   "outputs": [
    {
     "name": "stdout",
     "output_type": "stream",
     "text": [
      "{'subject_id': 'S046', 'age': 46, 'group': 'treatment', 'site': 'MIT', 'consent': True, 'handness': 'left', 'experiment_date': '2024-06-21'}\n"
     ]
    }
   ],
   "source": [
    "import utils.example_utils as proju\n",
    "\n",
    "p = proju.build_subject_demographics_module(\"S046\", age=46, group=\"treatment\", site=\"MIT\", consent=True, handness='left', experiment_date='2024-06-21')\n",
    "print(p)"
   ]
  },
  {
   "cell_type": "code",
   "execution_count": 2,
   "id": "22283196",
   "metadata": {},
   "outputs": [
    {
     "name": "stdout",
     "output_type": "stream",
     "text": [
      "{'subject_id': 'S047', 'age': 47, 'group': 'treatment', 'site': 'MIT', 'consent': True, 'handness': 'right', 'experiment_date': '2024-06-22'}\n"
     ]
    }
   ],
   "source": [
    "from utils.example_utils import build_subject_demographics_module as build_demographics\n",
    "\n",
    "\n",
    "p = build_demographics(\"S047\", age=47, group=\"treatment\", site=\"MIT\", consent=True, handness='right', experiment_date='2024-06-22')\n",
    "print(p)"
   ]
  },
  {
   "cell_type": "markdown",
   "id": "3e1dc9f3",
   "metadata": {},
   "source": [
    "## Object-Oriented Programming (OOP) and Classes\n",
    "\n",
    "OOP is a powerful way to structure your programs by thinking about \"objects\" that have both data (_attributes_) and behaviors (_methods_, which are essentially functions associated with the object).\n",
    "\n",
    "At the heart of OOP are **classes**.\n",
    "\n",
    "A class is a blueprint for creating objects.\n",
    "\n",
    "It defines the characteristics (attributes) and actions (methods) that any object created from that class will have.\n",
    "\n",
    "Here's a breakdown of key OOP concepts related to classes:\n",
    "\n",
    "*   **Classes:** As mentioned, these are the blueprints. They define the structure and behavior of objects.\n",
    "*   **Objects:** These are instances of a class. When you create an object from a class, it's like building a house from a blueprint – each house (object) is unique but follows the same basic design (class).\n",
    "*   **Attributes:** These are the data or properties associated with an object.\n",
    "*   **Methods:** These are the functions defined within a class that describe the actions an object can perform.\n",
    "\n",
    "### Class Definition \n",
    "You define a class using the `class` keyword, followed by the class name and a colon."
   ]
  },
  {
   "cell_type": "code",
   "execution_count": 7,
   "id": "87192f35",
   "metadata": {},
   "outputs": [],
   "source": [
    "class Participant:\n",
    "    def __init__(self, subject_id, group):\n",
    "        self.subject_id = subject_id\n",
    "        self.group = group            "
   ]
  },
  {
   "cell_type": "markdown",
   "id": "90e2632c",
   "metadata": {},
   "source": [
    "### **`__init__()` method**:\n",
    "\n",
    "`__init__()` is a special method called the **constructor**.\n",
    "\n",
    "It's automatically called when you create a new object from a class.\n",
    "\n",
    "Its main purpose is to initialize the object's attributes.\n",
    "\n",
    "The `self` parameter in `__init__` (and other methods) refers to the instance of the class being created or used.\n",
    "\n",
    "> **Note:** if you don’t define one, Python provides a **default constructor** that simply creates an empty object.\n",
    "\n",
    "\n",
    "### **Methods:**\n",
    "\n",
    "If you define a function inside a class and it takes `self` as the first parameter, it becomes an **instance method**. \n",
    "This which allows them to access and modify the object's attributes.\n",
    "\n",
    "When you call a method on an object (e.g., `my_object.my_method()`), Python automatically passes the object itself as the `self` argument."
   ]
  },
  {
   "cell_type": "code",
   "execution_count": null,
   "id": "6a28d205",
   "metadata": {},
   "outputs": [],
   "source": [
    "class Participant:\n",
    "    def __init__(self, subject_id, group):\n",
    "        self.subject_id = subject_id\n",
    "        self.group = group\n",
    "    \n",
    "    def describe(self):\n",
    "        # 'self' is the object that called this method\n",
    "        print(f\"Participant {self.subject_id} is in group {self.group}\")\n"
   ]
  },
  {
   "cell_type": "markdown",
   "id": "4358ed85",
   "metadata": {},
   "source": [
    "Once you have defined a class, you can **make an object from it**.\n",
    "\n",
    "This process is called **instantiating** the class, and the result is an **instance**. \n",
    "\n",
    "After you **create an instance of a class**, you can use it in two main ways:\n",
    "\n",
    "1. **Access its attributes** (the data stored on that object).  \n",
    "2. **Call its methods** (the functions defined inside the class)."
   ]
  },
  {
   "cell_type": "code",
   "execution_count": 9,
   "id": "fa84c561",
   "metadata": {},
   "outputs": [
    {
     "name": "stdout",
     "output_type": "stream",
     "text": [
      "Participant subject_01 is in group control\n",
      "Object id subject_01\n"
     ]
    }
   ],
   "source": [
    "\n",
    "# This will call the __init__ method to create a new Participant object\n",
    "p = Participant(\"subject_01\", \"control\")\n",
    "\n",
    "# Accessing the method of Participant class on our instance\n",
    "p.describe()\n",
    "\n",
    "# Accessing one of the attributes declared in the constructor\n",
    "print(f\"Object id {p.subject_id}\")"
   ]
  },
  {
   "cell_type": "markdown",
   "id": "c29c994a",
   "metadata": {},
   "source": [
    "If you define a function inside a class without self and then call it on an object, Python will still try to pass the object as the first argument. \n",
    "\n",
    "This will raise the `TypeError`."
   ]
  },
  {
   "cell_type": "code",
   "execution_count": 1,
   "id": "663e03d4",
   "metadata": {},
   "outputs": [
    {
     "ename": "TypeError",
     "evalue": "Participant.greet() takes 0 positional arguments but 1 was given",
     "output_type": "error",
     "traceback": [
      "\u001b[1;31m---------------------------------------------------------------------------\u001b[0m",
      "\u001b[1;31mTypeError\u001b[0m                                 Traceback (most recent call last)",
      "Cell \u001b[1;32mIn[1], line 14\u001b[0m\n\u001b[0;32m     11\u001b[0m         \u001b[38;5;28mprint\u001b[39m(\u001b[38;5;124m\"\u001b[39m\u001b[38;5;124mWelcome to our experiment!\u001b[39m\u001b[38;5;124m\"\u001b[39m)\n\u001b[0;32m     13\u001b[0m p \u001b[38;5;241m=\u001b[39m Participant(\u001b[38;5;124m\"\u001b[39m\u001b[38;5;124msubject_01\u001b[39m\u001b[38;5;124m\"\u001b[39m, \u001b[38;5;124m\"\u001b[39m\u001b[38;5;124mcontrol\u001b[39m\u001b[38;5;124m\"\u001b[39m)\n\u001b[1;32m---> 14\u001b[0m \u001b[43mp\u001b[49m\u001b[38;5;241;43m.\u001b[39;49m\u001b[43mgreet\u001b[49m\u001b[43m(\u001b[49m\u001b[43m)\u001b[49m\n",
      "\u001b[1;31mTypeError\u001b[0m: Participant.greet() takes 0 positional arguments but 1 was given"
     ]
    }
   ],
   "source": [
    "class Participant:\n",
    "    def __init__(self, subject_id, group):\n",
    "        self.subject_id = subject_id\n",
    "        self.group = group\n",
    "    \n",
    "    def describe(self):\n",
    "        # 'self' is the object that called this method\n",
    "        print(f\"Participant {self.subject_id} is in group {self.group}\")\n",
    "\n",
    "    def greet():\n",
    "        print(\"Welcome to our experiment!\")\n",
    "\n",
    "p = Participant(\"subject_01\", \"control\")\n",
    "p.greet()\n"
   ]
  },
  {
   "cell_type": "markdown",
   "id": "e6fba0d0",
   "metadata": {},
   "source": [
    "However this is actually a **class method** which belong to the class itself, not to specific instances.\n",
    "\n",
    "They are defined directly within the class but outside of any method.\n",
    "\n",
    "Class attributes are shared among all objects of the class and usually should be marked with the decorator `@staticmethod`"
   ]
  },
  {
   "cell_type": "code",
   "execution_count": null,
   "id": "eac75299",
   "metadata": {},
   "outputs": [
    {
     "name": "stdout",
     "output_type": "stream",
     "text": [
      "Welcome to our experiment!\n",
      "Welcome to our experiment!\n"
     ]
    }
   ],
   "source": [
    "Participant.greet()\n",
    "\n",
    "class Participant:\n",
    "    def __init__(self, subject_id, group):\n",
    "        self.subject_id = subject_id\n",
    "        self.group = group\n",
    "    \n",
    "    def describe(self):\n",
    "        # 'self' is the object that called this method\n",
    "        print(f\"Participant {self.subject_id} is in group {self.group}\")\n",
    "\n",
    "    @staticmethod\n",
    "    def greet():\n",
    "        print(\"Welcome to our experiment!\")"
   ]
  },
  {
   "cell_type": "markdown",
   "id": "d834e047",
   "metadata": {},
   "source": [
    "Similarly as seen with functions you can write classes in a separate `.py` module and import them as necessary\n",
    "\n",
    "1) By importing the whole module\n",
    "2) By importing specific classes from a module\n",
    "3) By importing with an alias"
   ]
  },
  {
   "cell_type": "code",
   "execution_count": null,
   "id": "8f517ced",
   "metadata": {},
   "outputs": [
    {
     "name": "stdout",
     "output_type": "stream",
     "text": [
      "Participant subject_02 is in group Condition_A\n"
     ]
    }
   ],
   "source": [
    "import utils.participant\n",
    "\n",
    "ppt = Participant(\"subject_02\", \"Condition_A\")\n",
    "ppt.describe()"
   ]
  },
  {
   "cell_type": "code",
   "execution_count": 1,
   "id": "3f99d6e1",
   "metadata": {},
   "outputs": [
    {
     "name": "stdout",
     "output_type": "stream",
     "text": [
      "Participant subject_03 is in group Condition_B\n"
     ]
    }
   ],
   "source": [
    "from utils.participant import Participant\n",
    "\n",
    "ppt = Participant(\"subject_03\", \"Condition_B\")\n",
    "ppt.describe()"
   ]
  },
  {
   "cell_type": "code",
   "execution_count": 2,
   "id": "6909672c",
   "metadata": {},
   "outputs": [
    {
     "name": "stdout",
     "output_type": "stream",
     "text": [
      "Participant subject_04 is in group Condition_C\n"
     ]
    }
   ],
   "source": [
    "from utils.participant import Participant as p\n",
    "\n",
    "ppt = p(\"subject_04\", \"Condition_C\")\n",
    "ppt.describe()"
   ]
  }
 ],
 "metadata": {
  "kernelspec": {
   "display_name": "ICN_Programming_Course-C5TDmbmv",
   "language": "python",
   "name": "python3"
  },
  "language_info": {
   "codemirror_mode": {
    "name": "ipython",
    "version": 3
   },
   "file_extension": ".py",
   "mimetype": "text/x-python",
   "name": "python",
   "nbconvert_exporter": "python",
   "pygments_lexer": "ipython3",
   "version": "3.10.11"
  }
 },
 "nbformat": 4,
 "nbformat_minor": 5
}
