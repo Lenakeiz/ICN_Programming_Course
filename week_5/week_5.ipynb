{
 "cells": [
  {
   "cell_type": "markdown",
   "id": "77b18cc0",
   "metadata": {},
   "source": [
    "# ICN Programming Course\n",
    "\n",
    "<p align=\"center\">\n",
    "    <img width=\"500\" alt=\"image\" src=\"https://github.com/Lenakeiz/ICN_Programming_Course/blob/main/Images/cog_neuro_logo_blue_png_0.png?raw=true\">\n",
    "</p>\n",
    "\n",
    "---"
   ]
  },
  {
   "cell_type": "markdown",
   "id": "db3edd25",
   "metadata": {},
   "source": [
    "# **WEEK 5** - Handling files, exception, a working example with simple plotting"
   ]
  },
  {
   "cell_type": "markdown",
   "id": "3258bcc0",
   "metadata": {},
   "source": [
    "## Working with files\n",
    "\n",
    "After conducting your experiments results are typically stored in files. For example:\n",
    "\n",
    " - A text file (.txt) may contain timestamps of neuronal spikes, each recorded on a new line.\n",
    "\n",
    " - A CSV file (.csv) may contain structured data such as subject IDs, ages, conditions, and behavioural accuracy across trials.\n",
    "\n",
    " - Specific formats that depends on the information you have recorded (fMRI, EEG, etc)\n",
    "\n",
    "Being able to read data from files is then the starting step from any analysis pipeline. \n",
    "\n",
    "Similarly when running an experiment you will need to write back data into files for saving your analysis outputs—so that you or other researchers can check, share, and build on your work.\n",
    "\n",
    "### Opening a file\n",
    "\n",
    "The basic way to open a file in Python is using the `open()` function.\n",
    "\n",
    "- The **first argument** is the file name (e.g. `\"example.txt\"`).  \n",
    "  - This can be a **relative path** (just the file name, if the file is in the same folder as your script).  \n",
    "  - Or it can be a **full (absolute) path**, for example:  \n",
    "    - On Windows:  \n",
    "      ```python\n",
    "      file = open(\"C:\\\\Users\\\\Andrea\\\\Documents\\\\data\\\\example.txt\", \"r\")\n",
    "      ```\n",
    "      *(note the double backslashes)*  \n",
    "    - On macOS/Linux:  \n",
    "      ```python\n",
    "      file = open(\"/Users/andrea/Documents/data/example.txt\", \"r\")\n",
    "      ```\n",
    "\n",
    "- The **second argument** is the *mode*, which tells Python what you want to do with the file.  \n",
    "\n",
    "#### Common File Modes\n",
    "\n",
    "| Mode | Meaning | Notes |\n",
    "|------|---------|-------|\n",
    "| `'r'` | Read | Default mode. Opens the file for reading. Fails if the file doesn’t exist. |\n",
    "| `'w'` | Write | Creates a new empty file or overwrites an existing one. |\n",
    "| `'a'` | Append | Opens a file for writing, but adds content to the end (does not erase existing data). |\n",
    "| `'x'` | Create | Creates a new file. Fails if the file already exists. |\n",
    "| `'r+'` | Read and Write | Opens an existing file for both reading and writing. |"
   ]
  },
  {
   "cell_type": "code",
   "execution_count": 1,
   "id": "6dafeed6",
   "metadata": {},
   "outputs": [
    {
     "name": "stdout",
     "output_type": "stream",
     "text": [
      "10 15 20 35 40\n",
      "55 60 75 90 120\n",
      "130 145 160 170 185\n",
      "200 210 225 240 250\n",
      "270 280 300 310 325\n",
      "340 355 370 385 400\n",
      "420 435 450 465 480\n",
      "500 520 540 560 580\n",
      "600 620 640 660 680\n",
      "700 720 740 760 780\n"
     ]
    }
   ],
   "source": [
    "file = open(\"data\\example.txt\", \"r\")  # \"r\" means read mode\n",
    "content = file.read()\n",
    "print(content)\n",
    "file.close()  # Always close the file after use"
   ]
  },
  {
   "cell_type": "markdown",
   "id": "423dbe54",
   "metadata": {},
   "source": [
    "### Using a Context Manager (with)\n",
    "\n",
    "When working with files, it’s important to close them once you are done.\n",
    "\n",
    "Closing a file frees up system resources and ensures that any changes are properly saved.\n",
    "\n",
    "If you forget to close a file, you may run into problems such as:  \n",
    "\n",
    "- **Memory leaks**: the program holds resources longer than needed, although this will not happen when opening files into jupyter notebooks     \n",
    "- **File locks**: some operating systems prevent other programs from accessing a file while it is open \n",
    "\n",
    "To avoid these issues, Python provides a convenient structure called a **context manager**, used with the `with` statement.  \n",
    "\n",
    "When you open a file inside a `with` block:  \n",
    "- The file is automatically **closed** as soon as the block finishes, even if an error occurs inside the block.  \n",
    "- This makes your code shorter, cleaner, and less error-prone compared to manually calling `file.close()`.  \n"
   ]
  },
  {
   "cell_type": "code",
   "execution_count": 2,
   "id": "1f666d3d",
   "metadata": {},
   "outputs": [
    {
     "name": "stdout",
     "output_type": "stream",
     "text": [
      "10 15 20 35 40\n",
      "55 60 75 90 120\n",
      "130 145 160 170 185\n",
      "200 210 225 240 250\n",
      "270 280 300 310 325\n",
      "340 355 370 385 400\n",
      "420 435 450 465 480\n",
      "500 520 540 560 580\n",
      "600 620 640 660 680\n",
      "700 720 740 760 780\n"
     ]
    }
   ],
   "source": [
    "with open(\"data\\example.txt\", \"r\") as file:\n",
    "    content = file.read()\n",
    "    print(content)"
   ]
  },
  {
   "cell_type": "markdown",
   "id": "b6c10bc6",
   "metadata": {},
   "source": [
    "### Creating the path\n",
    "\n",
    "When working with files, it’s important to build paths in a way that works on **any operating system**.  \n",
    "As mentioned, Windows uses backslashes (`\\`) while macOS/Linux use forward slashes (`/`).\n",
    "\n",
    "If you type the path manually, you might get an error depending on which operating system you are running the notebook.  \n",
    "\n",
    "To stay operating system independent, use the `os` library:"
   ]
  },
  {
   "cell_type": "code",
   "execution_count": null,
   "id": "9c7019c4",
   "metadata": {},
   "outputs": [
    {
     "name": "stdout",
     "output_type": "stream",
     "text": [
      "10 15 20 35 40\n",
      "55 60 75 90 120\n",
      "130 145 160 170 185\n",
      "200 210 225 240 250\n",
      "270 280 300 310 325\n",
      "340 355 370 385 400\n",
      "420 435 450 465 480\n",
      "500 520 540 560 580\n",
      "600 620 640 660 680\n",
      "700 720 740 760 780\n"
     ]
    }
   ],
   "source": [
    "import os \n",
    "\n",
    "path = os.path.join(\"data\", \"example.txt\")\n",
    "\n",
    "with open(path, \"r\") as file:    \n",
    "    content = file.read()\n",
    "    print(content)"
   ]
  },
  {
   "cell_type": "markdown",
   "id": "5718ecae",
   "metadata": {},
   "source": [
    "### Reading line by line\n",
    "\n",
    "Sometimes you would have to read a stored data line by line, for preprocessing reasons.\n",
    "Reading line by line lets you parse and clean each row safely before storing it.\n",
    "\n",
    "You can do this with a for loop on your file object."
   ]
  },
  {
   "cell_type": "code",
   "execution_count": null,
   "id": "af35bfa3",
   "metadata": {},
   "outputs": [
    {
     "name": "stdout",
     "output_type": "stream",
     "text": [
      "[ 10  55 130 200 270]\n",
      "[ 15  60 145 210 280]\n",
      "Shapes: (10,) (10,) (10,) (10,) (10,)\n"
     ]
    }
   ],
   "source": [
    "import os \n",
    "import numpy as np\n",
    "\n",
    "file_path = os.path.join(\"data\", \"example.txt\")\n",
    "\n",
    "# Start with empty arrays\n",
    "col1 = np.array([], dtype=int)\n",
    "col2 = np.array([], dtype=int)\n",
    "col3 = np.array([], dtype=int)\n",
    "col4 = np.array([], dtype=int)\n",
    "col5 = np.array([], dtype=int)\n",
    "\n",
    "with open(file_path, \"r\") as f:\n",
    "    for line in f:\n",
    "        # removing leading/trailing whitespace and splitting by spaces\n",
    "        # split() returns a list of strings\n",
    "        parts = line.strip().split()\n",
    "        if not parts:\n",
    "            continue\n",
    "\n",
    "        a, b, c, d, e = (int(x) for x in parts)\n",
    "\n",
    "        # Append each value to the corresponding NumPy array\n",
    "        col1 = np.append(col1, a)\n",
    "        col2 = np.append(col2, b)\n",
    "        col3 = np.append(col3, c)\n",
    "        col4 = np.append(col4, d)\n",
    "        col5 = np.append(col5, e)\n",
    "\n",
    "# Quick check\n",
    "print(col1[:5])  \n",
    "print(col2[:5])\n",
    "print(\"Shapes:\", col1.shape, col2.shape, col3.shape, col4.shape, col5.shape)"
   ]
  },
  {
   "cell_type": "markdown",
   "id": "aea6bd43",
   "metadata": {},
   "source": [
    "## Writing to a file\n",
    "\n",
    "in real experiments you don’t just analyse data once and forget about it.\n",
    "\n",
    "You often need to:\n",
    "- **Save results** so you can reuse them later without re-running the entire analysis.  \n",
    "- **Share data** with collaborators, who sometimes use different programming languages to yours (MATLAB, R, etc).  \n",
    "- **Document your work**: a file output is a permanent record of what your code produced at that time.  \n",
    "- **Feed into pipelines**: later steps in your research may take your processed data as input. \n",
    "\n",
    "<p align=\"center\">\n",
    "    <img width=\"650\" alt=\"image\" src=\"https://github.com/Lenakeiz/ICN_Programming_Course/blob/main/week_5/images/data_files_comics.png?raw=true\">\n",
    "</p>"
   ]
  },
  {
   "cell_type": "markdown",
   "id": "089d9557",
   "metadata": {},
   "source": [
    "Let’s say you’ve got a 2D NumPy array with several rows (trials) and several measuerments for each trial.\n",
    "\n",
    "You can save a text file so that each row becomes one line, and values are separated by spaces."
   ]
  },
  {
   "cell_type": "code",
   "execution_count": 19,
   "id": "3edff0cc",
   "metadata": {},
   "outputs": [
    {
     "name": "stdout",
     "output_type": "stream",
     "text": [
      "[[51 92 14 71 60]\n",
      " [20 82 86 74 74]\n",
      " [87 99 23  2 21]\n",
      " [52  1 87 29 37]\n",
      " [ 1 63 59 20 32]\n",
      " [75 57 21 88 48]\n",
      " [90 58 41 91 59]\n",
      " [79 14 61 61 46]\n",
      " [61 50 54 63  2]\n",
      " [50  6 20 72 38]]\n"
     ]
    }
   ],
   "source": [
    "import numpy as np\n",
    "import random as rnd\n",
    "import os\n",
    "\n",
    "# get 50 random integers between 0 and 100 and put them in a 10x5 array\n",
    "np.random.seed(42)  # for reproducibility\n",
    "data = np.random.randint(0, 100, 50).reshape(10, 5)\n",
    "print(data)\n",
    "\n",
    "filepath = os.path.join(\"data\", \"output.txt\")\n",
    "\n",
    "with open(filepath, \"w\") as f:\n",
    "    # the outer loop returns the entire row as a NumPy array\n",
    "    for row in data:\n",
    "        line = \"\"\n",
    "        for x in row:\n",
    "            line += str(x) + \" \"\n",
    "        line = line.strip()\n",
    "        f.write(line + \"\\n\")\n",
    "\n",
    "\n",
    "# you can also do all of the three things at once for creating each lineuse a comprehension to create each line\n",
    "# 1: loop as a function parameter, which returns the entire row as a NumPy array\n",
    "# 2: you pass to the function as a generator expression that loops over each element in the row\n",
    "# 3: piece together using a single join method call\n",
    "with open(filepath, \"a\") as f:  \n",
    "    for row in data:\n",
    "        line = \" \".join(str(x) for x in row).strip()\n",
    "        f.write(line + \"\\n\")"
   ]
  },
  {
   "cell_type": "markdown",
   "id": "02e3b5f0",
   "metadata": {},
   "source": [
    "## Working with `.csv` files\n",
    "\n",
    "One of the most common file formats for structured data is the **CSV file** (Comma-Separated Values).\n",
    "\n",
    "### Why CSV?\n",
    "\n",
    "- **Human-readable**: you can open a CSV file in a simple text editor and still understand the data, since values are separated by commas.  \n",
    "- **Universal format**: almost every software (Excel, MATLAB, R, SPSS, etc.) can read and export CSV files, which makes them a great choice for collaboration.  \n",
    "- **Simple structure**: each line is one “record” (like one subject, one trial, or one measurement), and each value is separated by a delimiter (commas by default, but you can define custom delimiters).\n",
    "\n",
    "A csv file is usually structured as follows:\n",
    "\n",
    "- The first row is usually a **header** describing the columns. This is optional.\n",
    "- Each following row corresponds to one data entry for the columns described.\n",
    "- Each data entry is separated by a **delimiter** which usually is a comma, but can be changed to be tabs, semicolons, etc\n",
    "\n",
    "In Python you can work with `.csv` files using the `csv` module."
   ]
  },
  {
   "cell_type": "code",
   "execution_count": null,
   "id": "46858d89",
   "metadata": {},
   "outputs": [],
   "source": [
    "import csv\n",
    "import os\n",
    "\n",
    "datafile = os.path.join(\"data\", \"drug_study.csv\")\n",
    "\n",
    "with open(datafile, \"r\") as file:\n",
    "    reader = csv.reader(file)\n",
    "    # the reader object is an iterator, so we can use next() to get the first line\n",
    "    # what happens is that it implements the iterator protocol, which means it has a __next__() method that returns the next item in the sequence\n",
    "    header = next(reader)  \n",
    "    print(\"Header:\", header)\n",
    "    \n",
    "    for row in reader:\n",
    "        print(row)  # each row is a list of values\n"
   ]
  },
  {
   "cell_type": "markdown",
   "id": "33e8c57b",
   "metadata": {},
   "source": [
    "### Reading a csv into as a dictionary\n",
    "\n",
    "Another way to import CSV data in Python is to treat it as **dictionary** data structure.  \n",
    "In fact you can think of:\n",
    "\n",
    "- The **keys** come from the header row (e.g., `id`, `age`, `condition`, `accuracy`).  \n",
    "- The **values** are the data entries for that row.  \n",
    "\n",
    "Using dictionaries can be especially useful when you want to work with **specific columns**.  \n",
    "For example:  \n",
    "- If you want to access only the `accuracy` column for analysis, you can do so directly with `loaded_data[\"accuracy\"]`.  \n",
    "- If your data represents a **time series**, you can easily focus on the column that contains timestamps or signal values, without worrying about the position of that column in the file."
   ]
  },
  {
   "cell_type": "code",
   "execution_count": 21,
   "id": "411b24a0",
   "metadata": {},
   "outputs": [
    {
     "name": "stdout",
     "output_type": "stream",
     "text": [
      "['0.84', '0.8', '0.61', '0.63', '0.93']\n"
     ]
    }
   ],
   "source": [
    "import csv\n",
    "import os\n",
    "\n",
    "datafile = os.path.join(\"data\", \"drug_study.csv\")\n",
    "\n",
    "# define empty dictionary\n",
    "data = {}\n",
    "\n",
    "with open(datafile, \"r\") as file:\n",
    "    reader = csv.DictReader(file)\n",
    "    for row in reader:\n",
    "        for key, value in row.items():\n",
    "            if key not in data:\n",
    "                data[key] = []\n",
    "            data[key].append(value)\n",
    "\n",
    "print(data[\"accuracy\"][:5])  # print first 5 accuracy values\n"
   ]
  },
  {
   "cell_type": "markdown",
   "id": "3145719d",
   "metadata": {},
   "source": [
    "## Exception handling\n",
    "\n",
    "When you run a program, things don’t always go as planned.  \n",
    "- Maybe a file you want to open is not there.  \n",
    "- Maybe a user types letters when your program expects a number.  \n",
    "- Maybe you try to divide by zero.  \n",
    "\n",
    "In all these cases, Python will raise an **exception** indicating that something unexpected happened.  \n",
    "If you don’t handle it, your program will **crash** and stop running.\n",
    "\n",
    "Fortunately, you can handle exceptions as part of your program’s **control flow**.  \n",
    "This is especially useful when the error only occurs in specific cases.\n",
    "\n",
    "For example, imagine you are analysing EEG data from multiple participants and focusing on selected channels.  \n",
    "Some participants might have poor recordings, so those channels contain no values or invalid values.  \n",
    "Trying to process them could raise exceptions, but instead of letting your program crash, you can catch the errors, skip the bad data, and continue processing the valid participants.\n",
    "\n",
    "In python you can handle exection using the `try ...  except ...` statement"
   ]
  },
  {
   "cell_type": "code",
   "execution_count": 22,
   "id": "d0053b3b",
   "metadata": {},
   "outputs": [
    {
     "name": "stdout",
     "output_type": "stream",
     "text": [
      "That was not a number!\n"
     ]
    }
   ],
   "source": [
    "try:\n",
    "    # Code that might cause an error\n",
    "    x = int(\"hello\")  # this will fail\n",
    "except ValueError:\n",
    "    # What to do if that type of error happens\n",
    "    print(\"That was not a number!\")"
   ]
  },
  {
   "cell_type": "code",
   "execution_count": null,
   "id": "45fec60e",
   "metadata": {},
   "outputs": [],
   "source": [
    "try:\n",
    "    result = 10 / 0\n",
    "except ZeroDivisionError:\n",
    "    print(\"You tried to divide by zero — not allowed.\")"
   ]
  },
  {
   "cell_type": "markdown",
   "id": "030b5c8e",
   "metadata": {},
   "source": [
    "Sometimes you may not know exactly what kind of error could occur.  \n",
    "You can use a generic `except` to catch *any* exception:"
   ]
  },
  {
   "cell_type": "code",
   "execution_count": null,
   "id": "d65a63fa",
   "metadata": {},
   "outputs": [
    {
     "name": "stdout",
     "output_type": "stream",
     "text": [
      "Something went wrong: invalid literal for int() with base 10: 'hello'\n"
     ]
    }
   ],
   "source": [
    "try:\n",
    "    x = int(\"hello\") / 0\n",
    "except Exception as e:\n",
    "    print(\"Something went wrong:\", e)"
   ]
  },
  {
   "cell_type": "code",
   "execution_count": 24,
   "id": "5d75ddce",
   "metadata": {},
   "outputs": [
    {
     "name": "stdout",
     "output_type": "stream",
     "text": [
      "Processed: 10\n",
      "Processed: 20\n",
      "Skipping invalid value: hello\n",
      "Processed: 30\n",
      "Skipping invalid value: NaN\n",
      "Processed: 40\n"
     ]
    }
   ],
   "source": [
    "values = [\"10\", \"20\", \"hello\", \"30\", \"NaN\", \"40\"]\n",
    "\n",
    "for v in values:\n",
    "    try:\n",
    "        number = int(v)\n",
    "        print(\"Processed:\", number)\n",
    "    except ValueError:\n",
    "        print(\"Skipping invalid value:\", v)"
   ]
  }
 ],
 "metadata": {
  "kernelspec": {
   "display_name": "ICN_Programming_Course-E5uewI15",
   "language": "python",
   "name": "python3"
  },
  "language_info": {
   "codemirror_mode": {
    "name": "ipython",
    "version": 3
   },
   "file_extension": ".py",
   "mimetype": "text/x-python",
   "name": "python",
   "nbconvert_exporter": "python",
   "pygments_lexer": "ipython3",
   "version": "3.10.11"
  }
 },
 "nbformat": 4,
 "nbformat_minor": 5
}
