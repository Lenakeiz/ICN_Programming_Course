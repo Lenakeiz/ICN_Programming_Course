{
 "cells": [
  {
   "cell_type": "markdown",
   "id": "77b18cc0",
   "metadata": {},
   "source": [
    "# ICN Programming Course\n",
    "\n",
    "<p align=\"center\">\n",
    "    <img width=\"500\" alt=\"image\" src=\"https://github.com/Lenakeiz/ICN_Programming_Course/blob/main/Images/cog_neuro_logo_blue_png_0.png?raw=true\">\n",
    "</p>\n",
    "\n",
    "---"
   ]
  },
  {
   "cell_type": "markdown",
   "id": "db3edd25",
   "metadata": {},
   "source": [
    "# **WEEK 5** - Handling files, exception"
   ]
  },
  {
   "cell_type": "markdown",
   "id": "3258bcc0",
   "metadata": {},
   "source": [
    "## Working with files\n",
    "\n",
    "After conducting your experiments results are typically stored in files. For example:\n",
    "\n",
    " - A text file (.txt) may contain timestamps of neuronal spikes, each recorded on a new line.\n",
    "\n",
    " - A CSV file (.csv) may contain structured data such as subject IDs, ages, conditions, and behavioural accuracy across trials.\n",
    "\n",
    " - Specific formats that depends on the information you have recorded (fMRI, EEG, etc)\n",
    "\n",
    "Being able to read data from files is then the starting step from any analysis pipeline. \n",
    "\n",
    "Similarly when running an experiment you will need to write back data into files for saving your analysis outputs—so that you or other researchers can check, share, and build on your work.\n",
    "\n",
    "### Opening a file\n",
    "\n",
    "The basic way to open a file in Python is using the `open()` function.\n",
    "\n",
    "- The **first argument** is the file name (e.g. `\"example.txt\"`).  \n",
    "  - This can be a **relative path** (just the file name, if the file is in the same folder as your script).  \n",
    "  - Or it can be a **full (absolute) path**, for example:  \n",
    "    - On Windows:  \n",
    "      ```python\n",
    "      file = open(\"C:\\\\Users\\\\Andrea\\\\Documents\\\\data\\\\example.txt\", \"r\")\n",
    "      ```\n",
    "      *(note the double backslashes)*  \n",
    "    - On macOS/Linux:  \n",
    "      ```python\n",
    "      file = open(\"/Users/andrea/Documents/data/example.txt\", \"r\")\n",
    "      ```\n",
    "\n",
    "- The **second argument** is the *mode*, which tells Python what you want to do with the file.  \n",
    "\n",
    "#### Common File Modes\n",
    "\n",
    "| Mode | Meaning | Notes |\n",
    "|------|---------|-------|\n",
    "| `'r'` | Read | Default mode. Opens the file for reading. Fails if the file doesn’t exist. |\n",
    "| `'w'` | Write | Creates a new empty file or overwrites an existing one. |\n",
    "| `'a'` | Append | Opens a file for writing, but adds content to the end (does not erase existing data). |\n",
    "| `'x'` | Create | Creates a new file. Fails if the file already exists. |\n",
    "| `'r+'` | Read and Write | Opens an existing file for both reading and writing. |"
   ]
  },
  {
   "cell_type": "code",
   "execution_count": 1,
   "id": "6dafeed6",
   "metadata": {},
   "outputs": [
    {
     "name": "stdout",
     "output_type": "stream",
     "text": [
      "10 15 20 35 40\n",
      "55 60 75 90 120\n",
      "130 145 160 170 185\n",
      "200 210 225 240 250\n",
      "270 280 300 310 325\n",
      "340 355 370 385 400\n",
      "420 435 450 465 480\n",
      "500 520 540 560 580\n",
      "600 620 640 660 680\n",
      "700 720 740 760 780\n"
     ]
    }
   ],
   "source": [
    "file = open(\"data\\example.txt\", \"r\")  # \"r\" means read mode\n",
    "content = file.read()\n",
    "print(content)\n",
    "file.close()  # Always close the file after use"
   ]
  },
  {
   "cell_type": "markdown",
   "id": "423dbe54",
   "metadata": {},
   "source": [
    "### Using a Context Manager (with)\n",
    "\n",
    "When working with files, it’s important to close them once you are done.\n",
    "\n",
    "Closing a file frees up system resources and ensures that any changes are properly saved.\n",
    "\n",
    "If you forget to close a file, you may run into problems such as:  \n",
    "\n",
    "- **Memory leaks**: the program holds resources longer than needed, although this will not happen when opening files into jupyter notebooks     \n",
    "- **File locks**: some operating systems prevent other programs from accessing a file while it is open \n",
    "\n",
    "To avoid these issues, Python provides a convenient structure called a **context manager**, used with the `with` statement.  \n",
    "\n",
    "When you open a file inside a `with` block:  \n",
    "- The file is automatically **closed** as soon as the block finishes, even if an error occurs inside the block.  \n",
    "- This makes your code shorter, cleaner, and less error-prone compared to manually calling `file.close()`.  \n"
   ]
  },
  {
   "cell_type": "code",
   "execution_count": 2,
   "id": "1f666d3d",
   "metadata": {},
   "outputs": [
    {
     "name": "stdout",
     "output_type": "stream",
     "text": [
      "10 15 20 35 40\n",
      "55 60 75 90 120\n",
      "130 145 160 170 185\n",
      "200 210 225 240 250\n",
      "270 280 300 310 325\n",
      "340 355 370 385 400\n",
      "420 435 450 465 480\n",
      "500 520 540 560 580\n",
      "600 620 640 660 680\n",
      "700 720 740 760 780\n"
     ]
    }
   ],
   "source": [
    "with open(\"data\\example.txt\", \"r\") as file:\n",
    "    content = file.read()\n",
    "    print(content)"
   ]
  },
  {
   "cell_type": "markdown",
   "id": "b6c10bc6",
   "metadata": {},
   "source": [
    "### Creating the path\n",
    "\n",
    "When working with files, it’s important to build paths in a way that works on **any operating system**.  \n",
    "As mentioned, Windows uses backslashes (`\\`) while macOS/Linux use forward slashes (`/`).\n",
    "\n",
    "If you type the path manually, you might get an error depending on which operating system you are running the notebook.  \n",
    "\n",
    "To stay operating system independent, use the `os` library:"
   ]
  },
  {
   "cell_type": "code",
   "execution_count": null,
   "id": "9c7019c4",
   "metadata": {},
   "outputs": [
    {
     "name": "stdout",
     "output_type": "stream",
     "text": [
      "10 15 20 35 40\n",
      "55 60 75 90 120\n",
      "130 145 160 170 185\n",
      "200 210 225 240 250\n",
      "270 280 300 310 325\n",
      "340 355 370 385 400\n",
      "420 435 450 465 480\n",
      "500 520 540 560 580\n",
      "600 620 640 660 680\n",
      "700 720 740 760 780\n"
     ]
    }
   ],
   "source": [
    "import os \n",
    "\n",
    "path = os.path.join(\"data\", \"example.txt\")\n",
    "\n",
    "with open(path, \"r\") as file:    \n",
    "    content = file.read()\n",
    "    print(content)"
   ]
  },
  {
   "cell_type": "markdown",
   "id": "5718ecae",
   "metadata": {},
   "source": [
    "### Reading line by line\n",
    "\n",
    "Sometimes you would have to read a stored data line by line, for preprocessing reasons.\n",
    "Reading line by line lets you parse and clean each row safely before storing it.\n",
    "\n",
    "You can do this with a for loop on your file object."
   ]
  },
  {
   "cell_type": "code",
   "execution_count": null,
   "id": "af35bfa3",
   "metadata": {},
   "outputs": [
    {
     "name": "stdout",
     "output_type": "stream",
     "text": [
      "[ 10  55 130 200 270]\n",
      "[ 15  60 145 210 280]\n",
      "Shapes: (10,) (10,) (10,) (10,) (10,)\n"
     ]
    }
   ],
   "source": [
    "import os \n",
    "import numpy as np\n",
    "\n",
    "file_path = os.path.join(\"data\", \"example.txt\")\n",
    "\n",
    "# Start with empty arrays\n",
    "col1 = np.array([], dtype=int)\n",
    "col2 = np.array([], dtype=int)\n",
    "col3 = np.array([], dtype=int)\n",
    "col4 = np.array([], dtype=int)\n",
    "col5 = np.array([], dtype=int)\n",
    "\n",
    "with open(file_path, \"r\") as f:\n",
    "    for line in f:\n",
    "        # removing leading/trailing whitespace and splitting by spaces\n",
    "        # split() returns a list of strings\n",
    "        parts = line.strip().split()\n",
    "        if not parts:\n",
    "            continue\n",
    "\n",
    "        a, b, c, d, e = (int(x) for x in parts)\n",
    "\n",
    "        # Append each value to the corresponding NumPy array\n",
    "        col1 = np.append(col1, a)\n",
    "        col2 = np.append(col2, b)\n",
    "        col3 = np.append(col3, c)\n",
    "        col4 = np.append(col4, d)\n",
    "        col5 = np.append(col5, e)\n",
    "\n",
    "# Quick check\n",
    "print(col1[:5])  \n",
    "print(col2[:5])\n",
    "print(\"Shapes:\", col1.shape, col2.shape, col3.shape, col4.shape, col5.shape)"
   ]
  },
  {
   "cell_type": "markdown",
   "id": "aea6bd43",
   "metadata": {},
   "source": [
    "## Writing to a file\n",
    "\n",
    "in real experiments you don’t just analyse data once and forget about it.\n",
    "\n",
    "You often need to:\n",
    "- **Save results** so you can reuse them later without re-running the entire analysis.  \n",
    "- **Share data** with collaborators, who sometimes use different programming languages to yours (MATLAB, R, etc).  \n",
    "- **Document your work**: a file output is a permanent record of what your code produced at that time.  \n",
    "- **Feed into pipelines**: later steps in your research may take your processed data as input. \n",
    "\n",
    "<p align=\"center\">\n",
    "    <img width=\"500\" alt=\"image\" src=\"https://github.com/Lenakeiz/ICN_Programming_Course/blob/main/week_5/data_files_comics.png?raw=true\">\n",
    "</p>"
   ]
  }
 ],
 "metadata": {
  "kernelspec": {
   "display_name": "ICN_Programming_Course-E5uewI15",
   "language": "python",
   "name": "python3"
  },
  "language_info": {
   "codemirror_mode": {
    "name": "ipython",
    "version": 3
   },
   "file_extension": ".py",
   "mimetype": "text/x-python",
   "name": "python",
   "nbconvert_exporter": "python",
   "pygments_lexer": "ipython3",
   "version": "3.10.11"
  }
 },
 "nbformat": 4,
 "nbformat_minor": 5
}
