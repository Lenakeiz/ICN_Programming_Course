{
 "cells": [
  {
   "cell_type": "markdown",
   "metadata": {},
   "source": [
    "# ICN Programming Course\n",
    "\n",
    "<p align=\"center\">\n",
    "    <img width=\"500\" alt=\"image\" src=\"https://github.com/Lenakeiz/ICN_Programming_Course/blob/main/Images/cog_neuro_logo_blue_png_0.png?raw=true\">\n",
    "</p>\n",
    "\n",
    "---\n",
    "\n",
    "## Data visualisation and matplotlib\n",
    "\n",
    "Data visualization should be the starting point of every analysis. It's often undervalued, with the belief that statistical analysis alone is sufficient.\n",
    "However, the significance of visualizing data is exemplified by [Anscome's Quartet](https://en.wikipedia.org/wiki/Anscombe%27s_quartet).\n",
    "DCreated by Francis J. Anscombe in 1973, this consists of four datasets.\n",
    "Each dataset yields identical summary statistics (mean, standard deviation, and correlation), suggesting they are similar.\n",
    "Yet, when these datasets are graphically represented, their differences become apparent.\n",
    "The key aspect of Anscombe's Quartet lies not in having four datasets with identical statistical properties, but in how these visually distinct datasets reveal those same properties.\n",
    "\n",
    "Over the years more similar datasets have been created to show the importance of data visualization:\n",
    "one of those is the Datasaurus dataset which urges people to \"never trust summary statistics alone; always visualize your data\", since, while the data exhibits normal seeming statistics, plotting the data reveals a picture of a dinosaur 🦖.\n",
    "Inspired by Anscombe's Quartet, the Datasaurus you can download found in the original publication the [_datasaurus dozen_](https://dl.acm.org/doi/10.1145/3025453.3025912 \n",
    "), _i.e._ 13 datasets (the Datasaurus + $12$ others) having the same summary statistics up to two decimal places.\n",
    "\n",
    "Hence, the golden rule is the following one.\n",
    "> Always find a nice way to visualise your data before going into applying the statistics.\n",
    "\n",
    "\n",
    "<p align=\"center\">\n",
    "    <img width=\"1000\" src=\"https://blog.revolutionanalytics.com/downloads/DataSaurus%20Dozen.gif\">\n",
    "</p>\n",
    "\n",
    "### Pandas plotting\n",
    "\n",
    "Another great thing about pandas is that it integrates with [Matplotlib](https://matplotlib.org/) asd well as [Seaborn](https://seaborn.pydata.org/), two very important  so you get the ability to plot directly off DataFrames and Series.\n",
    "\n",
    "To get started we need to import those libraries (make sure to have them installed first)."
   ]
  },
  {
   "cell_type": "code",
   "execution_count": null,
   "metadata": {},
   "outputs": [],
   "source": [
    "# Import libraries\n",
    "import pandas as pd\n",
    "import numpy as np\n",
    "\n",
    "import matplotlib.pyplot as plt\n",
    "import seaborn as sns\n",
    "\n",
    "# set plot size\n",
    "plt.rcParams['figure.figsize'] = (20, 13)\n",
    "# this is a magic command for Jupyter Notebooks or IPython environments. It sets up the Matplotlib figures to be displayed inline, which means that the plots will be shown directly under the code cell that produced them.\n",
    "%matplotlib inline\n",
    "# set the resolution of the plot - retina means higher pixel density\n",
    "%config InlineBackend.figure_format = \"retina\"\n",
    "\n",
    "# set the style for plotting using seaborn. Changes the global defaults for all plots using the matplotlib rcParams system\n",
    "sns.set_theme()"
   ]
  },
  {
   "cell_type": "markdown",
   "metadata": {},
   "source": [
    "---\n",
    "## Graphical analysis\n",
    "\n",
    "The aim is to start our data analysis using Python data visualization tools.\n",
    "\n",
    "### Matplotlib and Seaborn\n",
    "\n",
    "[Matplotlib](https://matplotlib.org/) is a highly customisable library, and that could come with drawbacks.\n",
    "[Seaborn](https://seaborn.pydata.org/) standardises some graphical aspects and easily integrates with Pandas.\n",
    "\n",
    "When importing seaborn as sns you can also set default options to make the plots more readable.\n",
    "This is effectively using overriding the same rcParams as done throug Matplotlib.\n",
    "It is very simnple to do that by using `sns.set_theme()`.\n",
    "Indeed, once that Seaborn has been imported, we can use the set function to force its default graphical settings.\n",
    "\n",
    "```python\n",
    "import seaborn as sns\n",
    "sns.set_theme()\n",
    "```\n",
    "\n",
    "Tricky question for you:\n",
    "> Why we import Seaborn as `sns`?\n",
    "\n",
    "<details>\n",
    "    <summary><b>HINT</b></summary> \n",
    "    <p align=\"center\">\n",
    "      <a href= \"https://stackoverflow.com/questions/41499857/seaborn-why-import-as-sns\"><img src=\"https://www.thesun.co.uk/wp-content/uploads/2019/06/NINTCHDBPICT000002475114.jpg\" width=\"350\" title=\"Sam Norman Seaborn\"></a>\n",
    "    </p>\n",
    "    Click on the image for a little bit more detailed answer.\n",
    "</details>"
   ]
  },
  {
   "cell_type": "markdown",
   "metadata": {},
   "source": [
    "#### Import data\n",
    "\n",
    "Let's start by import movie dataset and plot the relationship between `ratings` and `revenue`. \n",
    "All we need to do is call `plot()` on df with some info about how to construct the plot."
   ]
  },
  {
   "cell_type": "code",
   "execution_count": null,
   "metadata": {},
   "outputs": [],
   "source": [
    "data_url = 'https://raw.githubusercontent.com/LearnDataSci/articles/master/Python%20Pandas%20Tutorial%20A%20Complete%20Introduction%20for%20Beginners/IMDB-Movie-Data.csv'\n",
    "\n",
    "df = pd.read_csv(data_url)\n",
    "df.head()"
   ]
  },
  {
   "cell_type": "markdown",
   "metadata": {},
   "source": [
    "To plot our output is very easy now that we have imported Matplotlib. In fact we will now have an extension method for the class dataframe called `plot`. The function works as a a wrapper around Matplotlib's plotting functions as it is able to print different `kind` of plots. You can use it on Dataframes or a Series (an individual column of a dataframe)."
   ]
  },
  {
   "cell_type": "code",
   "execution_count": null,
   "metadata": {},
   "outputs": [],
   "source": [
    "df.plot(kind='scatter', x='Rating', y='Revenue (Millions)', \n",
    "    title = \"Revenues vs Rating\", figsize=(20,13));"
   ]
  },
  {
   "cell_type": "markdown",
   "metadata": {},
   "source": [
    "Pandas' `plot` function has many optional arguments.\n",
    "\n",
    "Some of these arguments are linked to Matplotlib properties and not directly available within the function documentation (😠). \n",
    "A complete list of such properties can be found [here](https://matplotlib.org/stable/api/_as_gen/matplotlib.lines.Line2D.html).\n",
    "\n",
    "While some of these properties might be never of use, some of them are quite useful like `marker` and `color` ones."
   ]
  },
  {
   "cell_type": "code",
   "execution_count": null,
   "metadata": {},
   "outputs": [],
   "source": [
    "df.plot(kind='scatter', \n",
    "    x='Rating', \n",
    "    y='Revenue (Millions)', \n",
    "    title = \"Revenues vs Rating\",\n",
    "    marker='x',\n",
    "    color='r',\n",
    "    figsize=(20,13));"
   ]
  },
  {
   "cell_type": "markdown",
   "metadata": {},
   "source": [
    "Since `plot` works on the series or dataframe objects, we can still apply of the pandas functions that return such objects. In particular we can run `queries` and then plot the filtered quantities."
   ]
  },
  {
   "cell_type": "code",
   "execution_count": null,
   "metadata": {},
   "outputs": [],
   "source": [
    "df.query(\"Director == 'Ridley Scott'\").sort_values(by=\"Year\").plot(x=\"Year\",\n",
    "                                            y=\"Rating\",\n",
    "                                            linestyle=\"-.\",\n",
    "                                            title=\"Ridley Scott movies' rating over time\",\n",
    "                                            color='g',\n",
    "                                            figsize=(20,13));"
   ]
  },
  {
   "cell_type": "markdown",
   "metadata": {},
   "source": [
    "This is a nice plot, but sometimes inputs into our datasets might be input manually from the source and so it could be the case that when we search for a string that could be case sensitive.\n",
    "Luckily we can solve the problem by using string functions and doing alternative ways for querying the dataframe.\n",
    "\n",
    "As you will notice the output is the same."
   ]
  },
  {
   "cell_type": "code",
   "execution_count": null,
   "metadata": {},
   "outputs": [],
   "source": [
    "# Try to search for \"ridley scott\", but case-insensitive\n",
    "# Specifying na to be False instead of NaN replaces the null findings with False. \n",
    "# We can then use the filtering series directly on our dataframe.\n",
    "scott_movies = df[df['Director'].str.contains('ridley scott', case=False, na=False)]\n",
    "\n",
    "# Sort the filtered DataFrame by year\n",
    "scott_movies_sorted = scott_movies.sort_values(by=\"Year\")\n",
    "\n",
    "# Plot\n",
    "scott_movies_sorted.plot(x=\"Year\", y=\"Rating\", linestyle=\"-.\", title=\"Movies' rating over time for directors containing 'scott'\", color='g', figsize=(20,13))\n",
    "\n",
    "plt.show()\n"
   ]
  },
  {
   "cell_type": "markdown",
   "metadata": {},
   "source": [
    "### Histograms\n",
    "\n",
    "If we want to plot a simple Histogram based on a single column, we can call plot on the column series."
   ]
  },
  {
   "cell_type": "code",
   "execution_count": null,
   "metadata": {},
   "outputs": [],
   "source": [
    "df['Rating'].plot(kind='hist', title='Rating', figsize=(20,13));"
   ]
  },
  {
   "cell_type": "markdown",
   "metadata": {},
   "source": [
    "We can also make a graphical representation using the interquartile range, the famous __Boxplot__. Let's first recall what `describe` gives us on the ratings column."
   ]
  },
  {
   "cell_type": "code",
   "execution_count": null,
   "metadata": {},
   "outputs": [],
   "source": [
    "df.Rating.describe()"
   ]
  },
  {
   "cell_type": "markdown",
   "metadata": {},
   "source": [
    "Using a Boxplot we can visualize this data."
   ]
  },
  {
   "cell_type": "code",
   "execution_count": null,
   "metadata": {},
   "outputs": [],
   "source": [
    "df['Rating'].plot(kind=\"box\",\n",
    "                figsize=(20,13));"
   ]
  },
  {
   "cell_type": "markdown",
   "metadata": {},
   "source": [
    "To have a brief summary, one can have a look at the picture below.\n",
    "\n",
    "<p align=\"center\">\n",
    "    <img width=\"600\" src=\"https://mathpullzone-8231.kxcdn.com/wp-content/uploads/boxplot-with-outliers.jpg\">\n",
    "</p>\n",
    "\n",
    "By combining categorical and continuous data, we can create a Boxplot of revenue that is grouped by a Rating Category."
   ]
  },
  {
   "cell_type": "code",
   "execution_count": null,
   "metadata": {},
   "outputs": [],
   "source": [
    "# Create rating category column\n",
    "df[\"rating_category\"] = df.Rating.apply(lambda x: 'good' if x>= 8.0 else 'bad')\n",
    "df.head()"
   ]
  },
  {
   "cell_type": "markdown",
   "metadata": {},
   "source": [
    "You can use the pandas boxplot or the seaborn one. They are equivalent.\n",
    "\n",
    "The advantage of seaborn is that the `groupby` is hidden by the boxplot, and the code is slightly more compact."
   ]
  },
  {
   "cell_type": "code",
   "execution_count": null,
   "metadata": {},
   "outputs": [],
   "source": [
    "plt.figure(figsize=(20,13))\n",
    "sns.boxplot(x=df[\"rating_category\"],\n",
    "            y=df['Revenue (Millions)'],\n",
    "            data=df)"
   ]
  },
  {
   "cell_type": "markdown",
   "metadata": {},
   "source": [
    "#### A final suggestion\n",
    "\n",
    "Always label your axis!\n",
    "\n",
    "<p align=\"center\">\n",
    "    <img width=\"689\" src=\"https://raw.githubusercontent.com/qingkaikong/blog/master/2017_12_machine_learning_funny_pictures/figures/figure_20.png\">\n",
    "</p>\n",
    "\n",
    "---\n",
    "\n",
    "#### Exercises\n",
    "\n",
    "1. Write a Pandas code to get those movies whose revenue more than $150$ million, sort them by rating, change good/bad threshold to `7.0` for `rating_category` and build an histogram for each rating category.\n",
    "\n",
    "2. Produce a boxplot for visualising the rating grouped by release year."
   ]
  },
  {
   "cell_type": "code",
   "execution_count": null,
   "metadata": {},
   "outputs": [],
   "source": []
  },
  {
   "cell_type": "code",
   "execution_count": null,
   "metadata": {},
   "outputs": [],
   "source": []
  },
  {
   "cell_type": "markdown",
   "metadata": {},
   "source": [
    "Let s go further by looking at the IMDB movie dataset and let s do more exploratory analysis.\n",
    "We can answers to questions like\n",
    "\n",
    "1. Can we select all movies within a genre (_e.g._ Sci-Fi) and analyze the annual trend in terms of quantity of movies produced, commercial success and appreciation?\n",
    "2. What s the relation between metacritic and rating?"
   ]
  },
  {
   "cell_type": "markdown",
   "metadata": {},
   "source": [
    "#### Using meaningful column names\n",
    "Before proceding on, it is important to rename columns to make them easier to be used for filtering.\n",
    "Let's rename columns."
   ]
  },
  {
   "cell_type": "code",
   "execution_count": null,
   "metadata": {},
   "outputs": [],
   "source": [
    "df = df.rename(columns={\n",
    "    'Runtime (Minutes)': 'Runtime',\n",
    "    'Revenue (Millions)': 'Revenue_millions'\n",
    "})\n",
    "df.columns = [col.lower() for col in df]\n",
    "df.head()"
   ]
  },
  {
   "cell_type": "markdown",
   "metadata": {},
   "source": [
    "#### Users and critics ratings\n",
    "\n",
    "The user rating is store in column `ratings`, while the critic one in `metascore`.\n",
    "In principle we can study the difference between these two.\n",
    "However they are not on the same scale.\n",
    "We have two choices here: \n",
    "1. Rescale one to the other, if we know the conversion rate.\n",
    "2. Rescale both on the interval $\\left[0,1 \\right]$.\n",
    "\n",
    "we are going to the second choice here."
   ]
  },
  {
   "cell_type": "code",
   "execution_count": null,
   "metadata": {},
   "outputs": [],
   "source": [
    "# A compact way to do so is the following\n",
    "df[['rating', 'metascore']] -= df[['rating', 'metascore']].min() # subtract the min, such that the new min is 0\n",
    "df[['rating', 'metascore']] /= df[['rating', 'metascore']].max() # divide by the max, such that the new max is 1\n",
    "df[['rating', 'metascore']].head()"
   ]
  },
  {
   "cell_type": "markdown",
   "metadata": {},
   "source": [
    "We can now evaluate the difference and save it into a new column"
   ]
  },
  {
   "cell_type": "code",
   "execution_count": null,
   "metadata": {},
   "outputs": [],
   "source": [
    "df[\"score_difference\"] = df[\"metascore\"] - df[\"rating\"] # abs here is optional, depending what you wanna see."
   ]
  },
  {
   "cell_type": "markdown",
   "metadata": {},
   "source": [
    "To start with our exploratory analysis, a good strategy might be plotting some of the quantities into account, specifically `rating`, `metascore` and their difference.\n",
    "Recall they are on the same scale, so nothing further to worry about!"
   ]
  },
  {
   "cell_type": "code",
   "execution_count": null,
   "metadata": {},
   "outputs": [],
   "source": [
    "genre = \"Horror\"\n",
    "df[df.genre.str.contains(f\"{genre}\")].plot(kind='bar', \n",
    "                                        x = 'title', \n",
    "                                        y = 'rating', \n",
    "                                        title= f\"{genre} Movies user rating\",\n",
    "                                        figsize=(25,15)); # We plot just one genre for the sake of visualisation clarity."
   ]
  },
  {
   "cell_type": "markdown",
   "metadata": {},
   "source": [
    "And we can do the same for the metascore"
   ]
  },
  {
   "cell_type": "code",
   "execution_count": null,
   "metadata": {},
   "outputs": [],
   "source": [
    "genre = \"Horror\"\n",
    "df[df.genre.str.contains(f\"{genre}\")].plot(kind='bar', \n",
    "                                        x = 'title', \n",
    "                                        y = 'metascore', \n",
    "                                        title= f\"{genre} Movies critics rating\",\n",
    "                                        figsize=(25,15)); # We plot just one genre for the sake of visualisation clarity."
   ]
  },
  {
   "cell_type": "markdown",
   "metadata": {},
   "source": [
    "And finally also our calculated value, the difference approval"
   ]
  },
  {
   "cell_type": "code",
   "execution_count": null,
   "metadata": {},
   "outputs": [],
   "source": [
    "genre = \"Horror\"\n",
    "df[df.genre.str.contains(f\"{genre}\")].plot(kind='bar', \n",
    "                                        x = 'title', \n",
    "                                        y = 'score_difference', \n",
    "                                        title= f\"{genre} Movies score difference between critics and users\",\n",
    "                                        figsize=(25,15)); # We plot just one genre for the sake of visualisation clarity."
   ]
  },
  {
   "cell_type": "markdown",
   "metadata": {},
   "source": [
    "One can immediately see that the critics is on average more strict than the users about movies, with some noteworthy exceptions."
   ]
  },
  {
   "cell_type": "markdown",
   "metadata": {},
   "source": [
    "#### Analysis of the annual trend of a specific genre movie in terms of quantity of films produced, commercial success and appreciation\n",
    "\n",
    "We are going to visualise results for \"Sci-Fi\" movies, however, let's try to keep the genre-choice parametric so that we can easily explore another genre without re-writing any code.\n",
    "\n",
    "_In fact_: [Laziness](https://medium.com/@tsecretdeveloper/a-good-coder-is-a-lazy-coder-a678eb56d373) is a good characteristic of good programmers\n",
    "\n",
    "First of all let's plot the number of movies in the genre over years."
   ]
  },
  {
   "cell_type": "code",
   "execution_count": null,
   "metadata": {},
   "outputs": [],
   "source": [
    "genre_to_select = \"Sci-Fi\"\n",
    "\n",
    "df_genre = df[df[\"genre\"].str.contains(genre_to_select)]\n",
    "df_genre[[\"year\", \"director\"]].groupby(by=[\"year\"]).count().plot(linestyle=\"-.\",\n",
    "                                                                color=\"b\",\n",
    "                                                                figsize=(20, 10),\n",
    "                                                                title=f\"Number of {genre_to_select} movies over time\")\n"
   ]
  },
  {
   "cell_type": "markdown",
   "metadata": {},
   "source": [
    "This is a nice plot, but maybe we can do the same by couting the number of occurences in categorical variables. We can do this by using `coutplot` from Seaborn"
   ]
  },
  {
   "cell_type": "code",
   "execution_count": null,
   "metadata": {},
   "outputs": [],
   "source": [
    "from matplotlib.ticker import MaxNLocator\n",
    "\n",
    "plt.figure(figsize=(20,10))\n",
    "sns.countplot(x = \"year\", hue=\"year\", legend=False, data = df_genre, palette=\"pastel\")\n",
    "plt.gca().yaxis.set_major_locator(MaxNLocator(integer=True))\n",
    "plt.title(f\"Number of {genre_to_select} movies over time\")\n",
    "plt.tight_layout()\n",
    "plt.show()"
   ]
  },
  {
   "cell_type": "markdown",
   "metadata": {},
   "source": [
    "Let s not look at the trend of of `metascore` and `rating` over time for this genre."
   ]
  },
  {
   "cell_type": "code",
   "execution_count": null,
   "metadata": {},
   "outputs": [],
   "source": [
    "df_genre[[\"year\", \"metascore\", \"rating\"]].groupby(\"year\")[[\"metascore\", \"rating\"]].mean().plot(figsize=(20, 10), title=f\"Average ratings over time for {genre_to_select} movies\")"
   ]
  },
  {
   "cell_type": "markdown",
   "metadata": {},
   "source": [
    "It s seems that there may be a correlation between the two scores.\n",
    "Let s try to explore that further.\n",
    "One can use the `corr` method in pandas.\n",
    "By default the pearson correlation index is used, the method can be changed via the method parameter"
   ]
  },
  {
   "cell_type": "code",
   "execution_count": null,
   "metadata": {},
   "outputs": [],
   "source": [
    "grouped_data = df_genre.groupby(\"year\")[[\"metascore\", \"rating\"]].mean()\n",
    "\n",
    "# Calculate the correlation matrix\n",
    "correlation_matrix = grouped_data.corr()\n",
    "correlation_matrix"
   ]
  },
  {
   "cell_type": "markdown",
   "metadata": {},
   "source": []
  },
  {
   "cell_type": "markdown",
   "metadata": {},
   "source": [
    "Let s visualize this correlation by creating a scatter plot between the two variables.\n",
    "This time we are going to work on the dataframe extracted from the genre directly."
   ]
  },
  {
   "cell_type": "code",
   "execution_count": null,
   "metadata": {},
   "outputs": [],
   "source": [
    "plt.figure(figsize=(20, 10))\n",
    "sns.scatterplot(x=\"rating\", y=\"metascore\", data=df_genre)\n",
    "plt.tight_layout()\n",
    "plt.grid()"
   ]
  },
  {
   "cell_type": "markdown",
   "metadata": {},
   "source": [
    "Let s see if other variables are correlated.\n",
    "For this part we are going to use the entire database.\n",
    "For example is the lenght of the movie an indication that it may be more or less appreciated?"
   ]
  },
  {
   "cell_type": "code",
   "execution_count": null,
   "metadata": {},
   "outputs": [],
   "source": [
    "df[[\"runtime\", \"metascore\", \"rating\"]].corr()"
   ]
  },
  {
   "cell_type": "markdown",
   "metadata": {},
   "source": [
    "Does not seem so.\n",
    "One can visualize the correlation coefficients with with an heatmap.\n",
    "Seaborn comes again handy with this."
   ]
  },
  {
   "cell_type": "code",
   "execution_count": null,
   "metadata": {},
   "outputs": [],
   "source": [
    "plt.figure(figsize=(10, 10))\n",
    "sns.heatmap(df[[\"runtime\", \"metascore\", \"rating\"]].corr(), annot=True)\n",
    "plt.tight_layout()"
   ]
  },
  {
   "cell_type": "markdown",
   "metadata": {},
   "source": [
    "Now let s see if the revenue correlates with the level of appreciation of the movue.\n",
    "We can do that by creating a score that takes into account `metacritic` and `rating`"
   ]
  },
  {
   "cell_type": "code",
   "execution_count": null,
   "metadata": {},
   "outputs": [],
   "source": [
    "df[\"mean_score\"] = (df[\"metascore\"] + df[\"rating\"]) / 2 # mean of the two scores\n",
    "df[[\"mean_score\", \"metascore\", \"rating\"]].head()\n",
    "\n",
    "# plotting the correlation between mean score and revenue\n",
    "plt.figure(figsize=(10, 10))\n",
    "sns.heatmap(df[[\"mean_score\", \"revenue_millions\"]].corr(), annot=True)\n",
    "plt.tight_layout()"
   ]
  },
  {
   "cell_type": "markdown",
   "metadata": {},
   "source": [
    "Really not much correlated.\n",
    "This will be also clear when plotting the scatterplot."
   ]
  },
  {
   "cell_type": "code",
   "execution_count": null,
   "metadata": {},
   "outputs": [],
   "source": [
    "plt.figure(figsize=(25, 16))\n",
    "sns.scatterplot(x=\"mean_score\", y=\"revenue_millions\", data=df)\n",
    "plt.tight_layout()\n",
    "plt.grid()"
   ]
  },
  {
   "cell_type": "markdown",
   "metadata": {},
   "source": [
    "There are plenty of movies with low revenue and still very much appreciated.\n",
    "\n",
    "On the other hands, the revenue is correlated with the number of votes the movie got in the IMDB platform."
   ]
  },
  {
   "cell_type": "code",
   "execution_count": null,
   "metadata": {},
   "outputs": [],
   "source": [
    "plt.figure(figsize=(10, 10))\n",
    "sns.heatmap(df[[\"votes\", \"revenue_millions\"]].corr(), annot=True)\n",
    "plt.tight_layout()\n",
    "\n",
    "plt.figure(figsize=(20, 10))\n",
    "sns.scatterplot(x=\"revenue_millions\", y=\"votes\", data=df)\n",
    "plt.tight_layout()\n",
    "plt.grid()\n",
    "plt.show()"
   ]
  },
  {
   "cell_type": "markdown",
   "metadata": {},
   "source": [
    "So far we have tried to look at specific correlation based on assumptions we have on our dataset.\n",
    "Sometimes it can be very convenient to visualise correlation plots between each coupled variables. \n",
    "Wwe can do this in Seaborn by using the powerful `pairplot`.\n",
    "It will take some time "
   ]
  },
  {
   "cell_type": "code",
   "execution_count": null,
   "metadata": {},
   "outputs": [],
   "source": [
    "sns.pairplot(df)"
   ]
  },
  {
   "cell_type": "markdown",
   "metadata": {},
   "source": [
    "Finally we can look the continuos variiables to check their distribution. \n",
    "THis can be done easily by using displot."
   ]
  },
  {
   "cell_type": "code",
   "execution_count": null,
   "metadata": {},
   "outputs": [],
   "source": [
    "# looking at the distribution of revenue\n",
    "sns.set_theme()\n",
    "sns.displot(\n",
    "    data=df, kind=\"hist\", kde=True,\n",
    "    x=\"revenue_millions\",  height=8, aspect=1.5)"
   ]
  },
  {
   "cell_type": "markdown",
   "metadata": {},
   "source": [
    "### Boxplot or Violin plot\n",
    "We can check for distributions and outliers of variables with boxplot and violin plot."
   ]
  },
  {
   "cell_type": "code",
   "execution_count": null,
   "metadata": {},
   "outputs": [],
   "source": [
    "plt.figure(figsize=(10, 7))\n",
    "sns.boxplot(x=\"year\", hue=\"year\", y=\"revenue_millions\", palette=\"pastel\", data=df)\n",
    "plt.tight_layout()\n",
    "\n",
    "plt.figure(figsize=(10, 7))\n",
    "sns.violinplot(x=\"year\", hue=\"year\", y=\"revenue_millions\", palette=\"pastel\", data=df)\n",
    "plt.tight_layout()"
   ]
  },
  {
   "cell_type": "markdown",
   "metadata": {},
   "source": [
    "We can also use the `hue` parameter to add levels of discrimination to other type of plots."
   ]
  },
  {
   "cell_type": "code",
   "execution_count": null,
   "metadata": {},
   "outputs": [],
   "source": [
    "plt.figure(figsize=(15, 10))\n",
    "sns.scatterplot(x=\"rating\", y=\"metascore\", hue=\"year\", data=df, palette=\"pastel\")\n",
    "plt.tight_layout()\n",
    "plt.grid()"
   ]
  },
  {
   "cell_type": "code",
   "execution_count": null,
   "metadata": {},
   "outputs": [],
   "source": [
    "sns.displot(\n",
    "    data=df, kind=\"hist\", kde=True,\n",
    "    x=\"mean_score\", hue=\"year\", palette='pastel', height=10, aspect=1.5)"
   ]
  }
 ],
 "metadata": {
  "interpreter": {
   "hash": "258d6f942e9abff99338ee3ea05bb7abc0fd3eb4d49f988f84979247168b5568"
  },
  "kernelspec": {
   "display_name": "Python 3.8.0 ('lectures')",
   "language": "python",
   "name": "python3"
  },
  "language_info": {
   "codemirror_mode": {
    "name": "ipython",
    "version": 3
   },
   "file_extension": ".py",
   "mimetype": "text/x-python",
   "name": "python",
   "nbconvert_exporter": "python",
   "pygments_lexer": "ipython3",
   "version": "3.10.11"
  },
  "orig_nbformat": 4
 },
 "nbformat": 4,
 "nbformat_minor": 2
}
