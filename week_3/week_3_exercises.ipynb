{
  "cells": [
    {
      "cell_type": "markdown",
      "id": "c1947cbf",
      "metadata": {},
      "source": [
        "# ICN Programming Course\n",
        "\n",
        "<p align=\"center\">\n",
        "    <img width=\"500\" alt=\"image\" src=\"https://github.com/Lenakeiz/ICN_Programming_Course/blob/main/Images/cog_neuro_logo_blue_png_0.png?raw=true\">\n",
        "</p>\n",
        "\n",
        "---"
      ]
    },
    {
      "cell_type": "markdown",
      "id": "4718eaba",
      "metadata": {},
      "source": [
        "# **WEEK 3** - Exercises"
      ]
    },
    {
      "cell_type": "markdown",
      "id": "5dd59d47",
      "metadata": {},
      "source": [
        "##  [1] Frequency bands\n",
        "\n",
        "Create a dictionary called `bands` that maps **frequency band names** to their **numerical ranges**.  \n",
        "Each value should contain the **minimum** and **maximum** frequency for that band.\n",
        "\n",
        "The dictionary should include the following frequency bands:\n",
        "\n",
        "- Delta: 0.5–4 Hz  \n",
        "- Theta: 4–8 Hz  \n",
        "- Alpha: 8–12 Hz  \n",
        "- Beta: 12–30 Hz  \n",
        "- Gamma: 30–100 Hz  "
      ]
    },
    {
      "cell_type": "code",
      "execution_count": null,
      "id": "ffe43576",
      "metadata": {},
      "outputs": [],
      "source": [
        "import numpy as np\n",
        "\n",
        "bands = {\n",
        "    \"Delta\": np.array([0.5, 4]),\n",
        "    \"Theta\": np.array([4, 8]),\n",
        "    \"Alpha\": np.array([8, 12]),\n",
        "    \"Beta\": np.array([12, 30]),\n",
        "    \"Gamma\": np.array([30, 100])\n",
        "}"
      ]
    },
    {
      "cell_type": "markdown",
      "metadata": {},
      "source": [
        "## [2] Classifying EEG firing rate for different trials\n",
        "\n",
        "Using the dictionary you created in _exercise 1_, simulate 10 random firing rates (Hz) recorded across fake trials.  \n",
        "For each firing rate, determine which frequency band it belongs to based on the ranges in your dictionary.  \n",
        "Print the trial number, the firing rate, and the frequency band name in a clear format.\n"
      ]
    },
    {
      "cell_type": "code",
      "execution_count": 2,
      "id": "4a5788d9",
      "metadata": {},
      "outputs": [
        {
          "name": "stdout",
          "output_type": "stream",
          "text": [
            "Trial 1: 28.60 Hz in Beta band\n",
            "Trial 2: 38.96 Hz in Gamma band\n",
            "Trial 3: 39.06 Hz in Gamma band\n",
            "Trial 4: 9.60 Hz in Alpha band\n",
            "Trial 5: 33.49 Hz in Gamma band\n",
            "Trial 6: 22.58 Hz in Beta band\n",
            "Trial 7: 11.66 Hz in Alpha band\n",
            "Trial 8: 23.40 Hz in Beta band\n",
            "Trial 9: 36.50 Hz in Gamma band\n",
            "Trial 10: 7.96 Hz in Theta band\n"
          ]
        }
      ],
      "source": [
        "import numpy as np\n",
        "\n",
        "# Dictionary of frequency bands from Exercise A\n",
        "bands = {\n",
        "    \"Delta\": np.array([0.5, 4]),\n",
        "    \"Theta\": np.array([4, 8]),\n",
        "    \"Alpha\": np.array([8, 12]),\n",
        "    \"Beta\": np.array([12, 30]),\n",
        "    \"Gamma\": np.array([30, 100])\n",
        "}\n",
        "\n",
        "# Generate 10 random firing rates between 0.5 and 40 Hz\n",
        "# Here you could use also for loop and numpy.random.rand(). \n",
        "firing_rates = np.random.uniform(0.5, 40, 10)\n",
        "\n",
        "# Classify each firing rate\n",
        "for i, rate in enumerate(firing_rates, start=1):\n",
        "    for band, limits in bands.items():\n",
        "        if limits[0] <= rate < limits[1]:\n",
        "            print(f\"Trial {i}: {rate:.2f} Hz in {band} band\")\n",
        "            break"
      ]
    },
    {
      "cell_type": "code",
      "execution_count": null,
      "id": "385c3c4d",
      "metadata": {},
      "outputs": [],
      "source": [
        "import numpy as np\n",
        "\n",
        "# Create a NumPy array of firing rates (Hz) for 5 neurons\n",
        "firing_rates = np.array([2.5, 7.1, 4.8, 10.2, 5.0])\n",
        "\n",
        "threshold = 5.0\n",
        "\n",
        "for i, rate in enumerate(firing_rates, start=1):\n",
        "    if rate < threshold:\n",
        "        print(f\"Neuron {i}: {rate} Hz → below threshold\")\n",
        "    else:\n",
        "        print(f\"Neuron {i}: {rate} Hz → above threshold\")"
      ]
    },
    {
      "cell_type": "markdown",
      "metadata": {},
      "source": [
        "## [3] Modifying a dictionary\n",
        "\n",
        "Simulate how the **strength of a synapse** changes according to the following plasticity rules:\n",
        "\n",
        "1.  If the current strength is less than 1.0, increase its strength by 0.5 (representing potentiation).\n",
        "2.  If the current strength is 1.0 or greater but less than 3.0, decrease its strength by 0.2 (representing depression).\n",
        "3.  If the current strength is 3.0 or greater, keep its strength the same (representing a saturated state).\n",
        "\n",
        "- Create a dictionary containing at least **3 synapses** (e.g., `\"Synapse_A\"`, `\"Synapse_B\"`, `\"Synapse_C\"`).  \n",
        "- Assign to each synapse a **random number between 0.1 and 5.0** as its initial strength.  \n",
        "- Apply the rules to update the synaptic strengths.  \n",
        "- Print the dictionary **before and after** the modulation.  \n",
        "\n",
        "**Example:**\n",
        "\n",
        "Initial dictionary: `{'Synapse_X': 0.8, 'Synapse_Y': 2.5, 'Synapse_Z': 4.0}`\n",
        "\n",
        "Expected output after modulation: `{'Synapse_X': 1.3, 'Synapse_Y': 2.3, 'Synapse_Z': 4.0}`"
      ]
    },
    {
      "cell_type": "code",
      "execution_count": 3,
      "metadata": {},
      "outputs": [
        {
          "name": "stdout",
          "output_type": "stream",
          "text": [
            "Initial synapse strengths: {'Synapse_A': 3.6429010900057275, 'Synapse_B': 0.6617563759634592, 'Synapse_C': 0.9480340744718718, 'Synapse_D': 3.751351073060239, 'Synapse_E': 1.9092667826502614}\n",
            "Updated synapse strengths: {'Synapse_A': 3.6429010900057275, 'Synapse_B': 1.161756375963459, 'Synapse_C': 1.4480340744718718, 'Synapse_D': 3.751351073060239, 'Synapse_E': 1.7092667826502614}\n"
          ]
        }
      ],
      "source": [
        "import numpy as np\n",
        "\n",
        "synapse_strengths = {\n",
        "    'Synapse_A': np.random.uniform(0.1, 5.0),\n",
        "    'Synapse_B': np.random.uniform(0.1, 5.0),\n",
        "    'Synapse_C': np.random.uniform(0.1, 5.0),\n",
        "    'Synapse_D': np.random.uniform(0.1, 5.0),\n",
        "    'Synapse_E': np.random.uniform(0.1, 5.0)\n",
        "}\n",
        "\n",
        "print(\"Initial synapse strengths:\", synapse_strengths)\n",
        "\n",
        "for synapse, strength in synapse_strengths.items():\n",
        "    if strength < 1.0:\n",
        "        synapse_strengths[synapse] += 0.5\n",
        "    elif 1.0 <= strength < 3.0:\n",
        "        synapse_strengths[synapse] -= 0.2\n",
        "\n",
        "print(\"Updated synapse strengths:\", synapse_strengths)\n"
      ]
    },
    {
      "cell_type": "markdown",
      "metadata": {},
      "source": [
        "## [4] Typing Time Task\n",
        "\n",
        "In this exercise, you will simulate a **typing reaction time task**.\n",
        "\n",
        "1. Generate a **random string of 10 characters** (letters and digits).  \n",
        "2. Ask the user to **copy the string exactly** using the input field.  \n",
        "3. If the string is copied correctly, measure the **completion time** and store it as a valid trial.  \n",
        "4. If the string is copied incorrectly, ignore the trial and do not store its time.  \n",
        "5. Repeat the process until the user types `\"done\"`.  \n",
        "\n",
        "At the end, compute and print:\n",
        "- The **number of valid trials** (correct copies).  \n",
        "- The **average completion time** (only from valid trials).\n",
        "\n",
        "Suppose you are analysing trial reaction times (in ms). Ask the user to enter reaction times until they type `'done'`. Store valid reaction times in a list. At the end, compute and print:\n",
        "\n",
        "1. The number of trials entered\n",
        "2. The mean reaction time\n",
        "3. How many trials were considered **fast** (< 500 ms) and how many were **slow** (>= 500 ms).\n",
        "\n",
        "> **Hint:** Use a `while` loop with a sentinel value (`'done'`).\n",
        "> **Tip:** import the `string` module to have a ready-made collections of characters `string.ascii_letters` (and digits `string.digits `)\n",
        "> **Tip:** Check the use of `random.choiches`\n",
        "> **Tip:** Use the `time` module to get current time with `time.time()` function"
      ]
    },
    {
      "cell_type": "code",
      "execution_count": 5,
      "metadata": {},
      "outputs": [
        {
          "name": "stdout",
          "output_type": "stream",
          "text": [
            "Typing Reaction Time Task\n",
            "Type the given random string exactly. Type 'done' to finish.\n",
            "\n",
            "1pK4uTSHvi\n",
            "Correct! Reaction time: 10.13 seconds\n",
            "jfOZVcQUU7\n",
            "Correct! Reaction time: 14.94 seconds\n",
            "LQ4iRxCInR\n",
            "\n",
            "--- Results ---\n",
            "Number of valid trials: 2\n",
            "Average reaction time: 12.53 seconds\n"
          ]
        }
      ],
      "source": [
        "import random\n",
        "import string\n",
        "import time\n",
        "import numpy as np\n",
        "\n",
        "valid_times = []\n",
        "\n",
        "print(\"Typing Reaction Time Task\")\n",
        "print(\"Type the given random string exactly. Type 'done' to finish.\\n\")\n",
        "\n",
        "while True:\n",
        "    # Generate random string of 50 characters\n",
        "    target = ''.join(random.choices(string.ascii_letters + string.digits, k=10))\n",
        "    print(target)\n",
        "\n",
        "    # Start timing\n",
        "    start = time.time()\n",
        "    user_input = input(f\"Copy: {target}\\n\")\n",
        "    end = time.time()\n",
        "\n",
        "    # Check for sentinel\n",
        "    if user_input.lower() == \"done\":\n",
        "        break\n",
        "\n",
        "    # Check correctness\n",
        "    if user_input == target:\n",
        "        rt = end - start\n",
        "        valid_times.append(rt)\n",
        "        print(f\"Correct! Reaction time: {rt:.2f} seconds\")\n",
        "    else:\n",
        "        print(f\"Incorrect copy: {target}. Trial not counted.\")\n",
        "\n",
        "# Results\n",
        "print(\"\\n--- Results ---\")\n",
        "print(f\"Number of valid trials: {len(valid_times)}\")\n",
        "\n",
        "if valid_times:\n",
        "    avg_time = np.mean(valid_times)\n",
        "    print(f\"Average reaction time: {avg_time:.2f} seconds\")\n",
        "else:\n",
        "    print(\"No valid trials recorded.\")"
      ]
    },
    {
      "cell_type": "markdown",
      "metadata": {},
      "source": [
        "## [5] A simplified neural network simulation"
      ]
    },
    {
      "cell_type": "markdown",
      "id": "a9e03cbd",
      "metadata": {},
      "source": [
        "Simulate a very small feedforward neural network with a clearly defined structure:\n",
        "\n",
        "- **Input layer**: 2 neurons (`input_1`, `input_2`)  \n",
        "- **Hidden layer**: 2 neurons (`hidden_1`, `hidden_2`)  \n",
        "- **Output layer**: 1 neuron (`output_1`)  \n",
        "\n",
        "The connections between neurons are weighted, and each hidden/output neuron computes a **weighted sum** of the activations from the previous layer.\n",
        "\n",
        "A **threshold activation function** is then applied:\n",
        "- If weighted sum ≥ 0.5 then neuron outputs `1`\n",
        "- If weighted sum < 0.5 then neuron outputs `0`\n",
        "\n",
        "## Network structure ##\n",
        "\n",
        "You will represent the network using a dictionary.  \n",
        "- Keys: neuron names (e.g., `\"input_1\"`, `\"hidden_1\"`, `\"output_1\"`)  \n",
        "- Values:\n",
        "  - For **input neurons**: `None` (they do not have incoming connections).\n",
        "  - For **hidden/output neurons**: another dictionary mapping each **preceding neuron** to its **synaptic weight**.\n",
        "\n",
        "Example structure:\n",
        "```python\n",
        "network = {\n",
        "    'input_1': None, # Input neurons don't have incoming connections\n",
        "    'input_2': None,\n",
        "    'hidden_1': {'input_1': 0.5, 'input_2': 0.9},\n",
        "    'hidden_2': {'input_1': 1.1, 'input_2': 1.3},\n",
        "    'output_1': {'hidden_1': 1.4, 'hidden_2': 0.7}\n",
        "}\n",
        "```\n",
        "\n",
        "**Process:**\n",
        "\n",
        "1.  Get user input for the activation level of each input neuron (assume values between 0 and 1).\n",
        "2.  Calculate the weighted sum of inputs for each hidden layer neuron.\n",
        "3.  Apply a simple threshold activation function: If the weighted sum is greater than or equal to 0.5, the hidden neuron's output is 1; otherwise, it's 0.\n",
        "4.  Calculate the weighted sum of inputs for the output neuron based on the outputs of the hidden layer neurons.\n",
        "5.  Apply the same threshold activation function to the output neuron's weighted sum.\n",
        "6.  Print the final output of the output neuron."
      ]
    },
    {
      "cell_type": "code",
      "execution_count": 11,
      "metadata": {},
      "outputs": [
        {
          "name": "stdout",
          "output_type": "stream",
          "text": [
            "\n",
            "Hidden neuron outputs: {'hidden_1': 1, 'hidden_2': 1}\n",
            "The output neuron's activation is: 1\n"
          ]
        }
      ],
      "source": [
        "network = {\n",
        "    'input_1': None,\n",
        "    'input_2': None,\n",
        "    'hidden_1': {'input_1': 1.3, 'input_2': 0.9},\n",
        "    'hidden_2': {'input_1': 0.4, 'input_2': 0.6},\n",
        "    'output_1': {'hidden_1': 0.7, 'hidden_2': 1.4}\n",
        "}\n",
        "\n",
        "# Get user input for input neuron activations\n",
        "input_activations = {}\n",
        "for neuron_name in network:\n",
        "    if neuron_name.startswith('input_'):\n",
        "        while True:            \n",
        "            activation = float(input(f\"Enter activation for {neuron_name} (0-1): \"))\n",
        "            if 0 <= activation <= 1:\n",
        "                input_activations[neuron_name] = activation\n",
        "                break # Exit the loop if valid input\n",
        "            else:\n",
        "                raise ValueError(\"Activation must be between 0 and 1.\")\n",
        "\n",
        "# Calculate hidden layer outputs\n",
        "hidden_outputs = {}\n",
        "for neuron_name, connections in network.items():\n",
        "    if neuron_name.startswith('hidden_'):\n",
        "        weighted_sum = 0\n",
        "        for connected_neuron, weight in connections.items():\n",
        "            weighted_sum += input_activations[connected_neuron] * weight\n",
        "\n",
        "        # Apply threshold activation\n",
        "        hidden_outputs[neuron_name] = 1 if weighted_sum >= 0.5 else 0\n",
        "\n",
        "# Calculate output neuron output\n",
        "output_sum = 0\n",
        "for connected_neuron, weight in network['output_1'].items():\n",
        "    output_sum += hidden_outputs[connected_neuron] * weight\n",
        "\n",
        "# Apply threshold activation to output neuron\n",
        "final_output = 1 if output_sum >= 0.5 else 0\n",
        "\n",
        "print(\"\\nHidden neuron outputs:\", hidden_outputs)\n",
        "print(\"The output neuron's activation is:\", final_output)\n"
      ]
    }
  ],
  "metadata": {
    "kernelspec": {
      "display_name": "ICN_Programming_Course-E5uewI15",
      "language": "python",
      "name": "python3"
    },
    "language_info": {
      "codemirror_mode": {
        "name": "ipython",
        "version": 3
      },
      "file_extension": ".py",
      "mimetype": "text/x-python",
      "name": "python",
      "nbconvert_exporter": "python",
      "pygments_lexer": "ipython3",
      "version": "3.10.11"
    }
  },
  "nbformat": 4,
  "nbformat_minor": 5
}
