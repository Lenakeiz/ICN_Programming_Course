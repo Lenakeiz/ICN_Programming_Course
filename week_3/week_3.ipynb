{
 "cells": [
  {
   "cell_type": "markdown",
   "id": "029491bb",
   "metadata": {},
   "source": [
    "# ICN Programming Course\n",
    "\n",
    "<p align=\"center\">\n",
    "    <img width=\"500\" alt=\"image\" src=\"https://github.com/Lenakeiz/ICN_Programming_Course/blob/main/Images/cog_neuro_logo_blue_png_0.png?raw=true\">\n",
    "</p>\n",
    "\n",
    "---"
   ]
  },
  {
   "cell_type": "markdown",
   "id": "ff5d9d25",
   "metadata": {},
   "source": [
    "# **WEEK 3** - Numpy mathematical functions, random numbers"
   ]
  }
 ],
 "metadata": {
  "language_info": {
   "name": "python"
  }
 },
 "nbformat": 4,
 "nbformat_minor": 5
}
