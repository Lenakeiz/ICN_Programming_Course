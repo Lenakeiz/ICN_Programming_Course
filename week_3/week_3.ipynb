{
 "cells": [
  {
   "cell_type": "markdown",
   "id": "029491bb",
   "metadata": {},
   "source": [
    "# ICN Programming Course\n",
    "\n",
    "<p align=\"center\">\n",
    "    <img width=\"500\" alt=\"image\" src=\"https://github.com/Lenakeiz/ICN_Programming_Course/blob/main/Images/cog_neuro_logo_blue_png_0.png?raw=true\">\n",
    "</p>\n",
    "\n",
    "---"
   ]
  },
  {
   "cell_type": "markdown",
   "id": "ff5d9d25",
   "metadata": {},
   "source": [
    "# **WEEK 3** - Control Flow, Dictionaries, User Input"
   ]
  },
  {
   "cell_type": "markdown",
   "id": "f04ffdbc",
   "metadata": {},
   "source": [
    "## Control Flow \n",
    "Control flow allows us to direct the execution of our code based on conditions or to repeat actions. This is essential for making decisions and processing collections of data.\n"
   ]
  },
  {
   "cell_type": "markdown",
   "id": "d44e6540",
   "metadata": {},
   "source": [
    "### 1. Conditional Logic (`if`, `elif`, `else`)\n",
    "\n",
    "`if` statements let your program choose different actions based on **conditions** that evaluate to `True` or `False`.\n",
    "You can chain multiple checks with `elif` (else-if), and provide a fallback with `else`.\n",
    "\n",
    "**How it runs**\n",
    "1. Evaluate the `if` condition. If `True`, run its indented block and **skip** the rest.\n",
    "2. Otherwise, evaluate the first `elif`. If `True`, run its block and **skip** the rest.\n",
    "3. Continue through any further `elif`s.\n",
    "4. If none matched and there’s an `else`, run the `else` block.\n",
    "\n",
    "**Common comparisons**\n",
    "- Equality / inequality: `==`, `!=`\n",
    "- Numeric comparisons: `<`, `<=`, `>`, `>=`\n",
    "- Boolean operators: `and`, `or`, `not` *(to combine conditions similar to what we saw earlier with NumPy fancy indexing)*\n",
    "- Aggregating multiple checks: `any()` / `all()` — Use `any()` and `all()` **inside the condition of an `if`/`elif`** to summarise many checks into a single True/False decision.\n",
    "- Membership: `in`, `not in` *(works with strings, lists, etc)*\n",
    "\n",
    "**Truthy / falsy values**\n",
    "- Falsy: `False`, `None`, `0`, `0.0`, `''` (empty string), `[]`\n",
    "- Everything else is truthy.  \n",
    "  This means `if my_list:` runs only when `my_list` is **non-empty**."
   ]
  },
  {
   "cell_type": "code",
   "execution_count": 6,
   "id": "2ac75cf1",
   "metadata": {},
   "outputs": [
    {
     "name": "stdout",
     "output_type": "stream",
     "text": [
      "Neuron is polarized.\n"
     ]
    }
   ],
   "source": [
    "membrane_potential = -60 # mV, change to see different outputs\n",
    "firing_threshold = -55 # mV\n",
    "\n",
    "# Use an if-else structure to simulate the neuron's state based on potential\n",
    "if membrane_potential >= firing_threshold:\n",
    "    print(\"Neuron fires an action potential!\")\n",
    "else:\n",
    "    print(\"Neuron is polarized.\")"
   ]
  },
  {
   "cell_type": "code",
   "execution_count": 9,
   "id": "e31685b8",
   "metadata": {},
   "outputs": [
    {
     "name": "stdout",
     "output_type": "stream",
     "text": [
      "Both neurons were silent in this time bin.\n"
     ]
    }
   ],
   "source": [
    "import numpy as np\n",
    "\n",
    "# Simulate whether two neurons are firing in the same time bin\n",
    "# Draw two uniform random numbers in [0, 1); treat > threshold as a spike\n",
    "u_A = np.random.rand()\n",
    "u_B = np.random.rand()\n",
    "threshold = 0.5  # excitability threshold (probability of firing in this bin)\n",
    "\n",
    "if (u_A > threshold) and (u_B > threshold):\n",
    "    print(\"Both neurons fired in this time bin!\")\n",
    "elif (u_A > threshold) and (u_B <= threshold):\n",
    "    print(\"Neuron A fired; Neuron B was silent.\")\n",
    "elif (u_A <= threshold) and (u_B > threshold):\n",
    "    print(\"Neuron B fired; Neuron A was silent.\")\n",
    "else:\n",
    "    print(\"Both neurons were silent in this time bin.\")"
   ]
  },
  {
   "cell_type": "code",
   "execution_count": 10,
   "id": "16ca1260",
   "metadata": {},
   "outputs": [
    {
     "name": "stdout",
     "output_type": "stream",
     "text": [
      "Skip trial 7\n"
     ]
    }
   ],
   "source": [
    "import numpy as np\n",
    "bad_trials = np.array([3, 7, 12]) \n",
    "trial = 7\n",
    "if trial in bad_trials:\n",
    "    print(f\"Skip trial {trial}\")"
   ]
  },
  {
   "cell_type": "code",
   "execution_count": 11,
   "id": "a37d4453",
   "metadata": {},
   "outputs": [
    {
     "name": "stdout",
     "output_type": "stream",
     "text": [
      "Welcome, student.\n",
      "CSV for a subject file\n",
      "No meaningful input provided\n"
     ]
    }
   ],
   "source": [
    "role = \"Student\"\n",
    "if role.lower() == \"student\":\n",
    "    print(\"Welcome, student.\")\n",
    "\n",
    "filename = \"subject_01_events.csv\"\n",
    "if filename.startswith(\"subject_\") and filename.endswith(\"events.csv\"):\n",
    "    print(\"CSV for a subject file\")\n",
    "\n",
    "user_input = \"   \"\n",
    "if not user_input.strip():\n",
    "    print(\"No meaningful input provided\")"
   ]
  },
  {
   "cell_type": "code",
   "execution_count": 12,
   "id": "a9af8e5f",
   "metadata": {},
   "outputs": [
    {
     "name": "stdout",
     "output_type": "stream",
     "text": [
      "High value detected\n",
      "No negative values\n"
     ]
    }
   ],
   "source": [
    "import numpy as np\n",
    "signal = np.array([0.2, 0.9, 0.4])\n",
    "if np.any(signal > 0.8):\n",
    "    print(\"High value detected\")\n",
    "if np.all(signal >= 0.0):\n",
    "    print(\"No negative values\")"
   ]
  },
  {
   "cell_type": "markdown",
   "id": "353020ba",
   "metadata": {},
   "source": [
    "\n",
    "### 1. Iterating (For Loop)\n",
    "\n",
    "If you want to execute the same piece of code multiple times, you can make use of a `for` loop. \n",
    "This will execute whatever code is held within the `for` block.\n",
    "That is, the loop counter variable ('count' in the example below) is initialised at some value (0 in the example below), and the code within the indented block is then executed 'for' that value, then the loop counter variable moves on to the next value in list of values that have been assigned to it, and the code is executed again, and so on, until the loop counter variable reaches the last value that has been assigned to it (10, in the example below).\n",
    "\n",
    "**In Python specifically:**\n",
    "- Use `range(start, stop, step)` for basic counted loops (note: `stop` is *exclusive*).\n",
    "  - `range(stop)`: 0 up to (but not including) `stop`.\n",
    "  - `range(start, stop)`: `start` up to (but not including) `stop`.\n",
    "- Use `enumerate(sequence, start=0)` when you need both the index *and* the element while iterating. It yields `(index, item)` pairs; set `start` to change the starting index.\n",
    "\n",
    "You can also use `for` loops to iterate over sequences, such as lists or numpy arrays. However depending on the case using fancy indexing (discussed earlier) might be a more efficient solution.\n",
    "\n",
    "There is also an `else` statement for the `for` loop and gets executed only when the loop finish completely its execution.\n"
   ]
  },
  {
   "cell_type": "code",
   "execution_count": 13,
   "id": "4a10d11c",
   "metadata": {},
   "outputs": [
    {
     "name": "stdout",
     "output_type": "stream",
     "text": [
      "1\n",
      "2\n",
      "3\n",
      "4\n",
      "5\n",
      "6\n",
      "7\n",
      "8\n",
      "9\n",
      "10\n"
     ]
    }
   ],
   "source": [
    "number_list = range(1, 11)\n",
    "for number in number_list:\n",
    "    print(number)"
   ]
  },
  {
   "cell_type": "code",
   "execution_count": 17,
   "id": "e6db64be",
   "metadata": {},
   "outputs": [
    {
     "name": "stdout",
     "output_type": "stream",
     "text": [
      "Trial 0: 450 ms\n",
      "Trial 1: 390 ms\n",
      "Trial 2: 510 ms\n",
      "Trial 3: 420 ms\n",
      "Trial 4: 480 ms\n",
      "Trial 5: 530 ms\n"
     ]
    }
   ],
   "source": [
    "import numpy as np\n",
    "\n",
    "reaction_times_per_trial = np.array([450, 390, 510, 420, 480, 530])\n",
    "\n",
    "for i, rt in enumerate(reaction_times_per_trial, start=1):\n",
    "    print(f\"Trial {i}: {rt} ms\")"
   ]
  },
  {
   "cell_type": "code",
   "execution_count": 18,
   "id": "508f5ff7",
   "metadata": {},
   "outputs": [
    {
     "name": "stdout",
     "output_type": "stream",
     "text": [
      "  Trial 1: Condition is 'stim_A'\n",
      "  Trial 2: Condition is 'stim_B'\n",
      "  Trial 3: Condition is 'baseline'\n",
      "  Trial 4: Condition is 'stim_A'\n",
      "  Trial 5: Condition is 'stim_C'\n"
     ]
    }
   ],
   "source": [
    "import numpy as np\n",
    "experimental_conditions = np.array(['stim_A', 'stim_B', 'baseline', 'stim_A', 'stim_C'])\n",
    "\n",
    "# Use enumerate with start=1 to get trial numbers starting from 1\n",
    "for trial_number, condition in enumerate(experimental_conditions, start=1):\n",
    "    print(f\"  Trial {trial_number}: Condition is '{condition}'\")"
   ]
  },
  {
   "cell_type": "markdown",
   "id": "cc07c930",
   "metadata": {},
   "source": [
    "Inside the `for` block you can perform any operations you need — e.g., compute deviations from the mean, apply conditional logic, update running totals, build lists/dictionaries, or print formatted summaries.\n",
    "\n",
    "The loop gives you both the index and the value when using `enumerate`."
   ]
  },
  {
   "cell_type": "code",
   "execution_count": 19,
   "id": "fd181321",
   "metadata": {},
   "outputs": [
    {
     "name": "stdout",
     "output_type": "stream",
     "text": [
      "Mean RT: 463.3 ms\n",
      "Trial 01: 450 ms (Δ from mean: -13.3 ms)\n",
      "Trial 02: 390 ms (Δ from mean: -73.3 ms)\n",
      "Trial 03: 510 ms (Δ from mean: +46.7 ms)\n",
      "Trial 04: 420 ms (Δ from mean: -43.3 ms)\n",
      "Trial 05: 480 ms (Δ from mean: +16.7 ms)\n",
      "Trial 06: 530 ms (Δ from mean: +66.7 ms)\n"
     ]
    }
   ],
   "source": [
    "import numpy as np\n",
    "reaction_times = np.array([450, 390, 510, 420, 480, 530])\n",
    "\n",
    "mean_rt = np.mean(reaction_times)\n",
    "print(f\"Mean RT: {mean_rt:.1f} ms\")\n",
    "\n",
    "for i, rt in enumerate(reaction_times, start=1):\n",
    "    # Inside the loop: do all the per-trial operations you need\n",
    "    diff = rt - mean_rt                 # compute deviation\n",
    "    # (you could also update accumulators, append to lists, etc.)\n",
    "\n",
    "    print(f\"Trial {i:02d}: {rt} ms (Δ from mean: {diff:+.1f} ms)\")"
   ]
  },
  {
   "cell_type": "markdown",
   "id": "2c03b72a",
   "metadata": {},
   "source": [
    "You can nest loops by adding a `for` loop inside another to repeat a set of operations across combinations of values or to access each single element of a matrix.\n",
    "\n",
    "Nested loops let you systematically process **combinations of indices or items**—one dimension varying inside another. They’re useful whenever the task naturally has **two (or more) levels of iteration**, such as rows × columns, subjects × conditions, time × channels, or any pairwise comparisons.\n",
    "\n",
    "**Pros**\n",
    "- _Complete coverage:_ Guarantees every combination is visited exactly once, avoiding missed cases.\n",
    "- _Local context:_ Inside the inner loop you have both indices/items, so you can apply conditional logic, accumulate statistics, or build structures (lists/dicts/arrays) as you go.\n",
    "- _Clarity of intent:_ Mirrors the conceptual structure of the problem (e.g., “for each subject, for each condition…”).\n",
    "\n",
    "**Cons**\n",
    "- _Time complexity:_ Two nested loops are typically $\\mathcal{O}(n \\times m)$; this can be slow for large $n, m$.\n",
    "- _Vectorisation:_ In **NumPy vectorised operations** you can usually achieve the same results but in a faster way."
   ]
  },
  {
   "cell_type": "code",
   "execution_count": 20,
   "id": "eb16107c",
   "metadata": {},
   "outputs": [
    {
     "name": "stdout",
     "output_type": "stream",
     "text": [
      "[[0 0 0 0 0 0 0 0 0 0]\n",
      " [0 0 0 0 0 0 0 0 0 0]\n",
      " [0 0 0 0 0 0 0 0 0 0]\n",
      " [0 0 0 0 0 0 0 0 0 0]\n",
      " [0 0 0 0 0 0 0 0 0 0]\n",
      " [0 0 0 0 0 0 0 0 0 0]\n",
      " [0 0 0 0 0 0 0 0 0 0]\n",
      " [0 0 0 0 0 0 0 0 0 0]\n",
      " [0 0 0 0 0 0 0 0 0 0]\n",
      " [0 0 0 0 0 0 0 0 0 0]]\n",
      "========================================\n",
      "[[  1   2   3   4   5   6   7   8   9  10]\n",
      " [  2   4   6   8  10  12  14  16  18  20]\n",
      " [  3   6   9  12  15  18  21  24  27  30]\n",
      " [  4   8  12  16  20  24  28  32  36  40]\n",
      " [  5  10  15  20  25  30  35  40  45  50]\n",
      " [  6  12  18  24  30  36  42  48  54  60]\n",
      " [  7  14  21  28  35  42  49  56  63  70]\n",
      " [  8  16  24  32  40  48  56  64  72  80]\n",
      " [  9  18  27  36  45  54  63  72  81  90]\n",
      " [ 10  20  30  40  50  60  70  80  90 100]]\n"
     ]
    }
   ],
   "source": [
    "import numpy as np\n",
    "# We compute the product of every pair of integers from 1 to 10 and store the results in a 10×10 matrix.\n",
    "\n",
    "# Pre-allocate a 10x10 integer array\n",
    "products = np.zeros((10, 10), dtype=int)\n",
    "print(products)\n",
    "print(\"=\" * 40)\n",
    "\n",
    "# Fill via nested loops (1..10 inclusive)\n",
    "for i in range(1, 11):\n",
    "    for j in range(1, 11):\n",
    "        products[i - 1, j - 1] = i * j\n",
    "\n",
    "print(products)"
   ]
  },
  {
   "cell_type": "code",
   "execution_count": 21,
   "id": "c6895017",
   "metadata": {},
   "outputs": [
    {
     "name": "stdout",
     "output_type": "stream",
     "text": [
      "\n",
      "--- Analyzing connections to Postsynaptic Neuron 1 ---\n",
      "  Connection from Neuron 1 (Presynaptic) to Neuron 1 (Postsynaptic):\n",
      "    Strength: 0.00\n",
      "  Connection from Neuron 2 (Presynaptic) to Neuron 1 (Postsynaptic):\n",
      "    Strength: 0.80\n",
      "  Connection from Neuron 3 (Presynaptic) to Neuron 1 (Postsynaptic):\n",
      "    Strength: 0.00\n",
      "  Connection from Neuron 4 (Presynaptic) to Neuron 1 (Postsynaptic):\n",
      "    Strength: -0.30\n",
      "  Connection from Neuron 5 (Presynaptic) to Neuron 1 (Postsynaptic):\n",
      "    Strength: 0.00\n",
      "\n",
      "--- Analyzing connections to Postsynaptic Neuron 2 ---\n",
      "  Connection from Neuron 1 (Presynaptic) to Neuron 2 (Postsynaptic):\n",
      "    Strength: 0.50\n",
      "  Connection from Neuron 2 (Presynaptic) to Neuron 2 (Postsynaptic):\n",
      "    Strength: 0.00\n",
      "  Connection from Neuron 3 (Presynaptic) to Neuron 2 (Postsynaptic):\n",
      "    Strength: 0.20\n",
      "  Connection from Neuron 4 (Presynaptic) to Neuron 2 (Postsynaptic):\n",
      "    Strength: 0.00\n",
      "  Connection from Neuron 5 (Presynaptic) to Neuron 2 (Postsynaptic):\n",
      "    Strength: 0.70\n",
      "\n",
      "--- Analyzing connections to Postsynaptic Neuron 3 ---\n",
      "  Connection from Neuron 1 (Presynaptic) to Neuron 3 (Postsynaptic):\n",
      "    Strength: 0.00\n",
      "  Connection from Neuron 2 (Presynaptic) to Neuron 3 (Postsynaptic):\n",
      "    Strength: -0.60\n",
      "  Connection from Neuron 3 (Presynaptic) to Neuron 3 (Postsynaptic):\n",
      "    Strength: 0.00\n",
      "  Connection from Neuron 4 (Presynaptic) to Neuron 3 (Postsynaptic):\n",
      "    Strength: 0.40\n",
      "  Connection from Neuron 5 (Presynaptic) to Neuron 3 (Postsynaptic):\n",
      "    Strength: 0.00\n",
      "\n",
      "--- Analyzing connections to Postsynaptic Neuron 4 ---\n",
      "  Connection from Neuron 1 (Presynaptic) to Neuron 4 (Postsynaptic):\n",
      "    Strength: 0.10\n",
      "  Connection from Neuron 2 (Presynaptic) to Neuron 4 (Postsynaptic):\n",
      "    Strength: 0.00\n",
      "  Connection from Neuron 3 (Presynaptic) to Neuron 4 (Postsynaptic):\n",
      "    Strength: 0.90\n",
      "  Connection from Neuron 4 (Presynaptic) to Neuron 4 (Postsynaptic):\n",
      "    Strength: 0.00\n",
      "  Connection from Neuron 5 (Presynaptic) to Neuron 4 (Postsynaptic):\n",
      "    Strength: -0.20\n",
      "\n",
      "--- Analyzing connections to Postsynaptic Neuron 5 ---\n",
      "  Connection from Neuron 1 (Presynaptic) to Neuron 5 (Postsynaptic):\n",
      "    Strength: 0.00\n",
      "  Connection from Neuron 2 (Presynaptic) to Neuron 5 (Postsynaptic):\n",
      "    Strength: 0.30\n",
      "  Connection from Neuron 3 (Presynaptic) to Neuron 5 (Postsynaptic):\n",
      "    Strength: 0.00\n",
      "  Connection from Neuron 4 (Presynaptic) to Neuron 5 (Postsynaptic):\n",
      "    Strength: 0.50\n",
      "  Connection from Neuron 5 (Presynaptic) to Neuron 5 (Postsynaptic):\n",
      "    Strength: 0.00\n"
     ]
    }
   ],
   "source": [
    "import numpy as np\n",
    "# Simulate a connectivity matrix for a network of 5 neurons\n",
    "# Matrix size is 5x5 (5 postsynaptic neurons x 5 presynaptic neurons)\n",
    "# A non-zero value indicates a connection; the value could represent synaptic weight\n",
    "# For simplicity, let's use values where 0 means no connection, positive means excitatory, negative means inhibitory.\n",
    "connectivity_matrix = np.array([\n",
    "    [0.0, 0.8, 0.0, -0.3, 0.0], \n",
    "    [0.5, 0.0, 0.2, 0.0, 0.7], \n",
    "    [0.0, -0.6, 0.0, 0.4, 0.0], \n",
    "    [0.1, 0.0, 0.9, 0.0, -0.2],  \n",
    "    [0.0, 0.3, 0.0, 0.5, 0.0]\n",
    "])\n",
    "\n",
    "# We are getting the number of postsynaptic (row) neurons in our connectivity matrix. \n",
    "# .shape returns a n-elements array of dimensions of the array: (n_rows, n_cols) for 2D arrays, (n_x, n_y, n_z) for 3D, and so on.\n",
    "num_post_synaptic_neurons = connectivity_matrix.shape[0] # Number of neurons (rows)\n",
    "num_pre_synaptic_neurons = connectivity_matrix.shape[1] # Number of neurons (columns)\n",
    "\n",
    "# Outer loop: Iterate through each postsynaptic neuron (rows)\n",
    "for post_neuron_index in range(num_post_synaptic_neurons):\n",
    "    print(f\"\\n--- Analyzing connections to Postsynaptic Neuron {post_neuron_index + 1} ---\")\n",
    "\n",
    "    # Inner loop: Iterate through each presynaptic neuron (columns)\n",
    "    for pre_neuron_index in range(num_pre_synaptic_neurons):\n",
    "        # Get the connection strength from presynaptic to postsynaptic neuron\n",
    "        connection_strength = connectivity_matrix[post_neuron_index, pre_neuron_index]\n",
    "\n",
    "        # Print details about the connection\n",
    "        print(f\"  Connection from Neuron {pre_neuron_index + 1} (Presynaptic) to Neuron {post_neuron_index + 1} (Postsynaptic):\")\n",
    "        print(f\"    Strength: {connection_strength:.2f}\")"
   ]
  },
  {
   "cell_type": "markdown",
   "id": "1db8fc5f",
   "metadata": {},
   "source": [
    "### 2. List Comprehensions and Generator Expressions\n",
    "_List comprehensions_ and _generator expressions_ offer a concise way to perform operations on collections in Python. \n",
    "\n",
    "A _list comprehension_ is a compact way to create a new list by applying an operation or filter to each item in an existing sequence (like a list or array).\n",
    "\n",
    "A _generator expression_ looks almost identical, but it uses parentheses `()` instead of brackets `[]`"
   ]
  },
  {
   "cell_type": "code",
   "execution_count": 22,
   "id": "7b7fb974",
   "metadata": {},
   "outputs": [
    {
     "name": "stdout",
     "output_type": "stream",
     "text": [
      "[0, 1, 4, 9, 16]\n",
      "<generator object <genexpr> at 0x0000021131C9D380>\n"
     ]
    }
   ],
   "source": [
    "squares_list = [x**2 for x in range(5)]\n",
    "print(squares_list)\n",
    "squares_gen = (x**2 for x in range(5))\n",
    "print(squares_gen)"
   ]
  },
  {
   "cell_type": "markdown",
   "id": "a8563159",
   "metadata": {},
   "source": [
    "The key difference:\n",
    "\n",
    "A list comprehension *builds the entire list* immediately in memory.\n",
    "\n",
    "A generator expression produces *values one at a time*, as you iterate — it doesn’t store them all. It s an object that remembers how each value has been produced, one by one. You can loop through it, but only once!"
   ]
  },
  {
   "cell_type": "code",
   "execution_count": 23,
   "id": "9d31a374",
   "metadata": {},
   "outputs": [
    {
     "name": "stdout",
     "output_type": "stream",
     "text": [
      "[0, 1, 4, 9, 16]\n",
      "0\n",
      "1\n",
      "4\n",
      "9\n",
      "16\n",
      "First loop done.\n"
     ]
    }
   ],
   "source": [
    "squares_list = [x**2 for x in range(5)]\n",
    "print(squares_list)\n",
    "squares_gen = (x**2 for x in range(5))\n",
    "for square in squares_gen:\n",
    "    print(square)\n",
    "print(\"First loop done.\")\n",
    "for square in squares_gen:\n",
    "    print(square)"
   ]
  },
  {
   "cell_type": "code",
   "execution_count": 24,
   "id": "086b26cd",
   "metadata": {},
   "outputs": [
    {
     "name": "stdout",
     "output_type": "stream",
     "text": [
      "Found at least one region of interest\n",
      "Both 'hippocampus' and 'place' are mentioned\n"
     ]
    }
   ],
   "source": [
    "text = \"The hippocampus contains place cells.\"\n",
    "keywords_any = np.array([\"hippocampus\", \"prefrontal cortex\"])\n",
    "if any(k in text.lower() for k in keywords_any):\n",
    "    print(\"Found at least one region of interest\")\n",
    "\n",
    "keywords_all = np.array([\"hippocampus\", \"place\"])\n",
    "if all(k in text.lower() for k in keywords_all):\n",
    "    print(\"Both 'hippocampus' and 'place' are mentioned\")"
   ]
  },
  {
   "cell_type": "markdown",
   "id": "dc873ecd",
   "metadata": {},
   "source": [
    "### 3. Iterating (While Loop)\n",
    "\n",
    "`while` loops are another type of control flow structure used for repeated execution of a block of code.\n",
    "\n",
    "Unlike `for` loops, which typically iterate over a fixed sequence, `while` loops continue to execute as long as a specific condition remains `True`.\n",
    "\n",
    "This is useful when you don't know in advance how many times you need to loop, and the continuation of the loop depends on the state of a variable or condition that changes within the loop.\n",
    "\n",
    "> ⚠️ Watch out for infinite loops ⚠️\n",
    "When using `while` loops, it is crucial to ensure that the condition controlling the loop will eventually become `False`. If the condition *never* becomes `False`, the loop will continue to execute indefinitely, resulting in an **infinite loop**. An infinite loop will cause your program to freeze and become unresponsive, potentially requiring you to interrupt or restart the execution environment \n"
   ]
  },
  {
   "cell_type": "code",
   "execution_count": 25,
   "id": "380509f9",
   "metadata": {},
   "outputs": [
    {
     "name": "stdout",
     "output_type": "stream",
     "text": [
      "Starting membrane potential simulation from -70.0 mV.\n",
      "Firing threshold: -55.0 mV\n",
      "Neuron fired after 15.0 ms at membrane potential -55.0 mV.\n"
     ]
    }
   ],
   "source": [
    "# Simulate a simple neuron model where the membrane potential increases over time until it reaches a firing threshold.\n",
    "\n",
    "# Initial membrane potential (mV)\n",
    "membrane_potential = -70.0\n",
    "# Firing threshold (mV)\n",
    "firing_threshold = -55.0\n",
    "# Input rate in mV per ms (treated as a rate)\n",
    "input_rate_mV_per_ms = 1.0\n",
    "# Simulated time step (ms)\n",
    "dt_ms = 1.0\n",
    "\n",
    "print(f\"Starting membrane potential simulation from {membrane_potential} mV.\")\n",
    "print(f\"Firing threshold: {firing_threshold} mV\")\n",
    "\n",
    "time_elapsed_ms = 0\n",
    "max_steps = 100000  # safety cap to prevent infinite loops\n",
    "\n",
    "while membrane_potential < firing_threshold and time_elapsed_ms < max_steps:\n",
    "    # Update membrane potential based on rate and timestep\n",
    "    membrane_potential += input_rate_mV_per_ms * dt_ms\n",
    "    time_elapsed_ms += dt_ms\n",
    "\n",
    "print (f\"Neuron fired after {time_elapsed_ms} ms at membrane potential {membrane_potential} mV.\")"
   ]
  },
  {
   "cell_type": "markdown",
   "id": "70cd3a28",
   "metadata": {},
   "source": [
    "### Using `break` to finish iterations\n",
    "\n",
    "`break` **immediately exits the nearest (innermost) loop**, skipping any remaining iterations and jumping to the first statement **after** that loop. It’s useful when:\n",
    "- You have found what you were looking for. Save execution time.\n",
    "- You detect an error and must stop the loop.\n",
    "- You enforce a safety cap to prevent infinite/long-running loops.\n",
    "\n",
    "**Notes**\n",
    "- `break` only exits **one** loop level. In nested loops, it leaves the inner loop; the outer loop continues unless you also break there (via a flag, another `break`, or returning from a function).\n",
    "- `continue` is different: it **skips to the next iteration** of the same loop instead of leaving it.\n",
    "- There `for ... else`: the `else` block runs **only if the loop didn’t hit `break`**."
   ]
  },
  {
   "cell_type": "code",
   "execution_count": 28,
   "id": "427ebacb",
   "metadata": {},
   "outputs": [
    {
     "name": "stdout",
     "output_type": "stream",
     "text": [
      "No peaks above threshold in this window.\n"
     ]
    }
   ],
   "source": [
    "import numpy as np\n",
    "\n",
    "eeg_window = np.array([0.12, 0.28, 0.31, 0.95, 0.42, 0.38])\n",
    "threshold = 1.0\n",
    "\n",
    "for i, v in enumerate(eeg_window):\n",
    "    if v > threshold:\n",
    "        print(f\"Peak detected at sample {i}: {v:.2f}\")\n",
    "        break       # stop scanning as soon as we find the first element over threshold\n",
    "else:\n",
    "    print(\"No peaks above threshold in this window.\")"
   ]
  },
  {
   "cell_type": "code",
   "execution_count": 30,
   "id": "a09ac309",
   "metadata": {},
   "outputs": [
    {
     "name": "stdout",
     "output_type": "stream",
     "text": [
      "Safety cap reached; stopping to avoid an endless loop.\n"
     ]
    }
   ],
   "source": [
    "import numpy as np\n",
    "\n",
    "step = 0\n",
    "safety_cap = 100\n",
    "\n",
    "while True:  # open-ended; we'll exit via 'break'\n",
    "    v = np.random.rand()    # new sample in [0, 1)\n",
    "    step += 1\n",
    "\n",
    "    if v > 0.995:\n",
    "        print(f\"High-signal event at step {step} (v={v:.3f}). Stopping.\")\n",
    "        break               # exit as soon as the event occurs\n",
    "\n",
    "    if step >= safety_cap:\n",
    "        print(\"Safety cap reached; stopping to avoid an endless loop.\")\n",
    "        break               # defensive programming"
   ]
  },
  {
   "cell_type": "markdown",
   "id": "a3c4687e",
   "metadata": {},
   "source": [
    "## Indentation in Python: why it matters (a lot)\n",
    "\n",
    "Python uses **indentation to define code blocks** — there are no `{}` braces like in other programming languages like C/C++/C#.\n",
    "The amount and placement of indentation determine **which statements belong to a given block** (e.g., under a `for`, `while`, `if`, etc.). Getting indentation wrong often won’t raise a syntax error; instead, your code may **run but compute the wrong result**. "
   ]
  },
  {
   "cell_type": "code",
   "execution_count": 31,
   "id": "cb6c9d38",
   "metadata": {},
   "outputs": [
    {
     "name": "stdout",
     "output_type": "stream",
     "text": [
      "Wrong average (due to indentation): 15.0\n"
     ]
    }
   ],
   "source": [
    "numbers = [5, 1, 3, 4, 2]\n",
    "\n",
    "total = 0\n",
    "count = 0\n",
    "for num in numbers:\n",
    "    total += num\n",
    "# The following line is incorrectly indented; it runs once after the loop\n",
    "count += 1  \n",
    "\n",
    "average = total / count\n",
    "print(\"Wrong average (due to indentation):\", average)  # 15.0 (incorrect)"
   ]
  },
  {
   "cell_type": "code",
   "execution_count": 32,
   "id": "6870b658",
   "metadata": {},
   "outputs": [
    {
     "name": "stdout",
     "output_type": "stream",
     "text": [
      "Correct average: 3.0\n"
     ]
    }
   ],
   "source": [
    "numbers = [5, 1, 3, 4, 2]\n",
    "\n",
    "total = 0\n",
    "count = 0\n",
    "for num in numbers:\n",
    "    total += num\n",
    "    count += 1  # correctly indented: runs once per element\n",
    "\n",
    "average = total / count\n",
    "print(\"Correct average:\", average)  # 3.0"
   ]
  },
  {
   "cell_type": "code",
   "execution_count": 33,
   "id": "9d7debf6",
   "metadata": {},
   "outputs": [
    {
     "name": "stdout",
     "output_type": "stream",
     "text": [
      "False\n",
      "False\n",
      "False\n",
      "True\n"
     ]
    }
   ],
   "source": [
    "numbers = [5, 1, 3, 4, 2]\n",
    "number_to_find = 4\n",
    "\n",
    "found = False\n",
    "index = None\n",
    "\n",
    "for i, num in enumerate(numbers):\n",
    "    if number_to_find == num:\n",
    "        found = True\n",
    "        index = i\n",
    "        print(\"True\")\n",
    "        break\n",
    "    else:\n",
    "        # Incorrect: this 'else' is tied to each iteration\n",
    "        print(\"False\")"
   ]
  },
  {
   "cell_type": "code",
   "execution_count": 34,
   "id": "a7a26a4d",
   "metadata": {},
   "outputs": [
    {
     "name": "stdout",
     "output_type": "stream",
     "text": [
      "False\n"
     ]
    }
   ],
   "source": [
    "numbers = [5, 1, 3, 4, 2]\n",
    "number_to_find = 6\n",
    "\n",
    "found = False\n",
    "index = None\n",
    "\n",
    "for i, num in enumerate(numbers):\n",
    "    if number_to_find == num:\n",
    "        found = True\n",
    "        index = i\n",
    "        print(\"True\")\n",
    "        break\n",
    "else:\n",
    "    # Incorrect: this 'else' is tied to each iteration\n",
    "    print(\"False\")"
   ]
  },
  {
   "cell_type": "markdown",
   "id": "ecf1c276",
   "metadata": {},
   "source": [
    "## Dictionaries\n",
    "\n",
    "Dictionaries in Python are _unordered collections of items_. Each item is a **key-value** pair, where each unique key maps to a specific value.\n",
    "\n",
    "Think of a dictionary as a real-world dictionary where a word (the key) is used to find its definition (the value).\n",
    "\n",
    "They’re ideal when you need to label data and later retrieve or iterate over those labeled pieces. \n",
    "Unlike lists, which are indexed by numerical position, dictionaries are indexed by their keys, allowing for quick and intuitive data retrieval."
   ]
  },
  {
   "cell_type": "markdown",
   "id": "fb20a6c9",
   "metadata": {},
   "source": [
    "### Creating dictionaries\n",
    "\n",
    "A **dictionary** in Python is created using curly braces `{}` with **key–value pairs** separated by a colon.\n",
    "\n",
    "- Keys must be:\n",
    "  - **Immutable** → value cannot change once created  \n",
    "    (e.g., strings, numbers, tuples of immutables, booleans, `None`)  \n",
    "  - **Hashable** → must have a stable hash value so Python can find it quickly in the dictionary\n",
    "\n",
    "  Valid key examples\n",
    "  - `\"name\"` (string)  \n",
    "  - `1`, `3.14` (numbers)  \n",
    "  - `(1, 2)` (tuple of immutables)  \n",
    "  - `True`, `False` (booleans)  \n",
    "  - `None`  \n",
    "\n",
    "  Invalid key examples\n",
    "  - `[1, 2, 3]` (list)  \n",
    "  - `{\"a\": 1}` (dictionary)\n",
    "\n",
    "- Values can be **any type**: numbers, strings, lists, dictionaries, or even custom objects from clases."
   ]
  },
  {
   "cell_type": "code",
   "execution_count": 36,
   "id": "b682c53b",
   "metadata": {},
   "outputs": [
    {
     "name": "stdout",
     "output_type": "stream",
     "text": [
      "{'id': 1, 'age': 24, 'group': 'placebo', 'overall_accuracy': 0.85}\n",
      "{'Baseline Condition': [15.5, 16.2, 14.9, 15.8], 'Stimulation Condition A': [35.1, 38.5, 37.9, 39.2], 'Drug Treatment A': 'Reduced synaptic plasticity observed'}\n"
     ]
    }
   ],
   "source": [
    "# storing participant info in a dictionary\n",
    "subject = {\n",
    "    \"id\": 1,\n",
    "    \"age\": 24,\n",
    "    \"group\": \"placebo\",\n",
    "    \"overall_accuracy\": 0.85\n",
    "}\n",
    "\n",
    "print(subject)\n",
    "\n",
    "# We can add other list or dictionaries to values in a dictionary\n",
    "# storing experimental results in a dictionary\n",
    "\n",
    "experimental_results = {\n",
    "    'Baseline Condition': [15.5, 16.2, 14.9, 15.8], # Firing rates in Hz\n",
    "    'Stimulation Condition A': [35.1, 38.5, 37.9, 39.2], # Increased firing rates\n",
    "    'Drug Treatment A': 'Reduced synaptic plasticity observed' # Qualitative result\n",
    "}\n",
    "\n",
    "print (experimental_results)"
   ]
  },
  {
   "cell_type": "markdown",
   "id": "520d75f0",
   "metadata": {},
   "source": [
    "### Accessing dictionaries \n",
    "One of the primary uses of dictionaries is to quickly retrieve specific pieces of information using their associated key.\n",
    "You can access the value associated with a key by placing the key inside square brackets `[]` after the dictionary name.\n",
    "\n",
    "> ⚠️ If you try to access a key that does not exist in the dictionary, Python will raise a `KeyError`. This can be avoided using the `get()` function, returning the Python built-in special `None`."
   ]
  },
  {
   "cell_type": "code",
   "execution_count": 39,
   "id": "b362246d",
   "metadata": {},
   "outputs": [
    {
     "name": "stdout",
     "output_type": "stream",
     "text": [
      "Subject age: 24\n",
      "Experimental group: placebo\n",
      "Subject ID: 1\n",
      "Missing field is of type: <class 'NoneType'>\n",
      "Notes field (with default): N/A\n",
      "All firing rates under Stimulation Condition A: [35.1, 38.5, 37.9, 39.2]\n",
      "First firing rate in Stimulation Condition A: 35.1\n"
     ]
    }
   ],
   "source": [
    "# make sure to run the previous code cell\n",
    "print(f\"Subject age: {subject['age']}\")                     # access a single value by key\n",
    "print(f\"Experimental group: {subject['group']}\")            # access another key\n",
    "print(f\"Subject ID: {subject.get('id')}\")       # safe access with .get()\n",
    "\n",
    "# Trying to access a non-existing key\n",
    "result_none = subject.get(\"notes\")\n",
    "print(f\"Missing field is of type: {type(result_none)}\")           # querying the built-in type of None\n",
    "print(f\"Notes field (with default): {subject.get('notes', 'N/A')}\")  # safely returns \"N/A\" instead of error\n",
    "\n",
    "# Accessing list values stored in a dictionary\n",
    "print(f\"All firing rates under Stimulation Condition A: {experimental_results['Stimulation Condition A']}\")\n",
    "print(f\"First firing rate in Stimulation Condition A: {experimental_results['Stimulation Condition A'][0]}\")"
   ]
  },
  {
   "cell_type": "markdown",
   "id": "72c62ff9",
   "metadata": {},
   "source": [
    "### Modifying and removing elements in a dictionary\n",
    "\n",
    "Dictionaries are **mutable**, meaning you can easily add new key-value pairs, change the values associated with existing keys, and remove pairs.\n",
    "\n",
    "_Adding Elements:_\n",
    "To add a new item to a dictionary, you simply assign a value to a new key using the square bracket notation:\n",
    "If the `new_key` already exists, this operation will instead update the value associated with that key.\n",
    "\n",
    "_Modifying Elements:_\n",
    "To change the value associated with an existing key, you use the same square bracket notation and assign a new value.\n",
    "\n",
    "_Removing Elements:_\n",
    "You can remove key-value pairs from a dictionary using the `del` keyword followed by the dictionary name and the key in square brackets.\n",
    "\n",
    "Alternatively, you can use the `.pop()` method, which removes the item with the specified key and returns its value. This can be useful if you need to use the removed value.\n",
    "If the key is not found when using `.pop()`, it will raise a `KeyError` unless a default value is provided as the second argument."
   ]
  },
  {
   "cell_type": "code",
   "execution_count": 41,
   "id": "2d83f870",
   "metadata": {},
   "outputs": [
    {
     "name": "stdout",
     "output_type": "stream",
     "text": [
      "Accuracy in session 1, block 5: 0.92\n",
      "Status of block 10: completed\n",
      "Variable 'block_status' now holds: completed\n",
      "After popping, variable 'block_status' still holds: completed\n",
      "Trying to access removed key 10: Key not found\n",
      "{'id': 1, 'age': 24, 'group': 'placebo', 'overall_accuracy': 0.85, (1, 5): 0.92}\n"
     ]
    }
   ],
   "source": [
    "# Adding key-value pairs to a dictionary\n",
    "subject[(1, 5)] = 0.92\n",
    "print(f\"Accuracy in session 1, block 5: {subject[(1, 5)]}\")\n",
    "\n",
    "subject[10] = \"completed\" \n",
    "print(f\"Status of block 10: {subject[10]}\")\n",
    "\n",
    "block_status = subject[10]\n",
    "print(f\"Variable 'block_status' now holds: {block_status}\")\n",
    "\n",
    "block_status = subject.pop(10)  # removes the key 10 and returns its value\n",
    "print(f\"After popping, variable 'block_status' still holds: {block_status}\")\n",
    "print(f\"Trying to access removed key 10: {subject.get(10, 'Key not found')}\")  # safely returns \"Key not found\"\n",
    "\n",
    "print(subject)"
   ]
  },
  {
   "cell_type": "markdown",
   "id": "8732b112",
   "metadata": {},
   "source": [
    "## Looping through dictionaries\n",
    "\n",
    "Dictionaries provide convenient methods to get views of their contents:\n",
    "\n",
    "*   `.keys()`: Returns a view object that displays a list of all the keys in the dictionary. This view object is dynamic, meaning that if the dictionary changes, the view reflects those changes.\n",
    "*   `.values()`: Returns a view object that displays a list of all the values in the dictionary. Like `.keys()`, this view is dynamic.\n",
    "*   `.items()`: Returns a view object that displays a list of a dictionary's key-value tuple pairs. This view is also dynamic.\n",
    "\n",
    "These methods are useful for iterating through a dictionary's contents or checking for the presence of specific keys or values."
   ]
  },
  {
   "cell_type": "code",
   "execution_count": 42,
   "id": "5c1ce612",
   "metadata": {},
   "outputs": [
    {
     "name": "stdout",
     "output_type": "stream",
     "text": [
      "Keys (field names in the dataset):\n",
      "- id\n",
      "- age\n",
      "- group\n",
      "- overall_accuracy\n",
      "- (1, 5)\n",
      "\n",
      "'A key for age is present in the dictionary.'\n",
      "\n",
      "Values (data entries for this subject):\n",
      "- 1\n",
      "- 24\n",
      "- placebo\n",
      "- 0.85\n",
      "- 0.92\n",
      "\n",
      "'This subject belongs to the placebo group.'\n",
      "\n",
      "Key–Value pairs (labels and their corresponding data):\n",
      "- id: 1\n",
      "- age: 24\n",
      "- group: placebo\n",
      "- overall_accuracy: 0.85\n",
      "- (1, 5): 0.92\n",
      "\n",
      "Check specific conditions during iteration:\n",
      "Accuracy below threshold: 0.85\n"
     ]
    }
   ],
   "source": [
    "# Looping through keys\n",
    "print(\"Keys (field names in the dataset):\")\n",
    "for key in subject.keys():\n",
    "    print(f\"- {key}\")\n",
    "    \n",
    "# We can also check for a specific key\n",
    "if \"age\" in subject.keys():\n",
    "    print(\"\\n'A key for age is present in the dictionary.'\")\n",
    "\n",
    "# Looping through values\n",
    "print(\"\\nValues (data entries for this subject):\")\n",
    "for value in subject.values():\n",
    "    print(f\"- {value}\")\n",
    "\n",
    "# We can also check if a specific value exists\n",
    "if \"placebo\" in subject.values():\n",
    "    print(\"\\n'This subject belongs to the placebo group.'\")\n",
    "\n",
    "# Looping through key-value pairs\n",
    "print(\"\\nKey–Value pairs (labels and their corresponding data):\")\n",
    "for key, value in subject.items():\n",
    "    print(f\"- {key}: {value}\")\n",
    "\n",
    "# We can combine logic while looping\n",
    "print(\"\\nCheck specific conditions during iteration:\")\n",
    "for key, value in subject.items():\n",
    "    if key == \"overall_accuracy\" and value < 0.9:\n",
    "        print(\"Accuracy below threshold:\", value)"
   ]
  },
  {
   "cell_type": "markdown",
   "id": "fb596859",
   "metadata": {},
   "source": [
    "## User input in Python\n",
    "\n",
    "Interacting with user might be necessary, especially when building behavioural experiments.\n",
    "In Python, you can easily get input from the user using the built-in `input()` function. This function pauses the program execution and waits for the user to type something and press Enter.\n",
    "\n",
    "> **Note:** `input()` always returns a **string**. Convert to `int` / `float` as needed."
   ]
  },
  {
   "cell_type": "code",
   "execution_count": 43,
   "id": "8445d9f7",
   "metadata": {},
   "outputs": [
    {
     "name": "stdout",
     "output_type": "stream",
     "text": [
      "Hello, Andrea!\n",
      "You are 32 years old.\n"
     ]
    }
   ],
   "source": [
    "name = input(\"Enter your name: \")\n",
    "print(f\"Hello, {name}!\")\n",
    "\n",
    "raw_age = input(\"Enter your age (integer): \").strip()\n",
    "age = int(raw_age)  # convert the string input to an integer\n",
    "print(f\"You are {age} years old.\")"
   ]
  },
  {
   "cell_type": "markdown",
   "id": "8be622ee",
   "metadata": {},
   "source": [
    "You can also use input inside loops as a **sentinel**."
   ]
  },
  {
   "cell_type": "code",
   "execution_count": 44,
   "id": "63935a41",
   "metadata": {},
   "outputs": [
    {
     "name": "stdout",
     "output_type": "stream",
     "text": [
      "Please answer with 'y' or 'n'.\n",
      "Please answer with 'y' or 'n'.\n",
      "Proceeding...\n"
     ]
    }
   ],
   "source": [
    "while True:\n",
    "    reply = input(\"Proceed with analysis? (y/n): \").strip().lower()\n",
    "    if reply in {\"y\", \"yes\"}:\n",
    "        print(\"Proceeding...\")\n",
    "        break\n",
    "    elif reply in {\"n\", \"no\"}:\n",
    "        print(\"Cancelled.\")\n",
    "        break\n",
    "    else:\n",
    "        print(\"Please answer with 'y' or 'n'.\")"
   ]
  },
  {
   "cell_type": "code",
   "execution_count": 45,
   "id": "78320b48",
   "metadata": {},
   "outputs": [
    {
     "name": "stdout",
     "output_type": "stream",
     "text": [
      "You inserted 3 regions: ['hippocampus' 'prefrontal' 'parietal']\n"
     ]
    }
   ],
   "source": [
    "import numpy as np\n",
    "\n",
    "regions = np.array([], dtype=str)  # start with an empty NumPy array of strings\n",
    "\n",
    "while True:\n",
    "    entry = input(\"Enter as many brain regions you know (type 'done' to finish).\").strip()\n",
    "    if entry.lower() == \"done\":\n",
    "        break\n",
    "    if entry:\n",
    "        # append new entry to the NumPy array\n",
    "        regions = np.append(regions, entry)\n",
    "\n",
    "print(f\"You inserted {regions.size} regions: {regions}\")"
   ]
  }
 ],
 "metadata": {
  "kernelspec": {
   "display_name": "ICN_Programming_Course-E5uewI15",
   "language": "python",
   "name": "python3"
  },
  "language_info": {
   "codemirror_mode": {
    "name": "ipython",
    "version": 3
   },
   "file_extension": ".py",
   "mimetype": "text/x-python",
   "name": "python",
   "nbconvert_exporter": "python",
   "pygments_lexer": "ipython3",
   "version": "3.10.11"
  }
 },
 "nbformat": 4,
 "nbformat_minor": 5
}
