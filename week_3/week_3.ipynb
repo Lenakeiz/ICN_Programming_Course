{
 "cells": [
  {
   "cell_type": "markdown",
   "id": "029491bb",
   "metadata": {},
   "source": [
    "# ICN Programming Course\n",
    "\n",
    "<p align=\"center\">\n",
    "    <img width=\"500\" alt=\"image\" src=\"https://github.com/Lenakeiz/ICN_Programming_Course/blob/main/Images/cog_neuro_logo_blue_png_0.png?raw=true\">\n",
    "</p>\n",
    "\n",
    "---"
   ]
  },
  {
   "cell_type": "markdown",
   "id": "ff5d9d25",
   "metadata": {},
   "source": [
    "# **WEEK 3** - Control Flow, Dictionaries"
   ]
  },
  {
   "cell_type": "markdown",
   "id": "f04ffdbc",
   "metadata": {},
   "source": [
    "## Control Flow \n",
    "Control flow allows us to direct the execution of our code based on conditions or to repeat actions. This is essential for making decisions and processing collections of data.\n",
    "\n",
    "### 1. Iterating\n",
    "\n",
    "If you want to execute the same piece of code multiple times, you can make use of a `for` loop. \n",
    "This will execute whatever code is held within the `for` block.\n",
    "That is, the loop counter variable ('count' in the example below) is initialised at some value (0 in the example below), and the code within the indented block is then executed 'for' that value, then the loop counter variable moves on to the next value in list of values that have been assigned to it, and the code is executed again, and so on, until the loop counter variable reaches the last value that has been assigned to it (10, in the example below).\n",
    "\n",
    "**In Python specifically:**\n",
    "- Use `range(start, stop, step)` for basic counted loops (note: `stop` is *exclusive*).\n",
    "  - `range(stop)`: 0 up to (but not including) `stop`.\n",
    "  - `range(start, stop)`: `start` up to (but not including) `stop`.\n",
    "  - `range(start, stop, step)`: as above, advancing by `step`.\n",
    "- Use `enumerate(sequence, start=0)` when you need both the index *and* the element while iterating. It yields `(index, item)` pairs; set `start` to change the starting index.\n",
    "\n",
    "You can also use `for` loops to iterate over sequences, such as lists or numpy arrays. However depending on the case using fancy indexing (discussed earlier) might be a more efficient solution.\n"
   ]
  },
  {
   "cell_type": "code",
   "execution_count": 1,
   "id": "4a10d11c",
   "metadata": {},
   "outputs": [
    {
     "name": "stdout",
     "output_type": "stream",
     "text": [
      "1\n",
      "2\n",
      "3\n",
      "4\n",
      "5\n",
      "6\n",
      "7\n",
      "8\n",
      "9\n",
      "10\n"
     ]
    }
   ],
   "source": [
    "# Counted loop with range (1 to 10 inclusive)\n",
    "for count in range(1, 11):\n",
    "    print(count)\n"
   ]
  },
  {
   "cell_type": "code",
   "execution_count": 4,
   "id": "e6db64be",
   "metadata": {},
   "outputs": [
    {
     "name": "stdout",
     "output_type": "stream",
     "text": [
      "Trial 1: 450 ms\n",
      "Trial 2: 390 ms\n",
      "Trial 3: 510 ms\n",
      "Trial 4: 420 ms\n",
      "Trial 5: 480 ms\n",
      "Trial 6: 530 ms\n"
     ]
    }
   ],
   "source": [
    "import numpy as np\n",
    "\n",
    "reaction_times_per_trial = np.array([450, 390, 510, 420, 480, 530])\n",
    "\n",
    "for i, rt in enumerate(reaction_times_per_trial, start=1):\n",
    "    print(f\"Trial {i}: {rt} ms\")"
   ]
  },
  {
   "cell_type": "code",
   "execution_count": null,
   "id": "508f5ff7",
   "metadata": {},
   "outputs": [],
   "source": [
    "import numpy as np\n",
    "experimental_conditions = np.array['stim_A', 'stim_B', 'baseline', 'stim_A', 'stim_C']\n",
    "\n",
    "print(\"Processing experimental trials:\")\n",
    "\n",
    "# Use enumerate with start=1 to get trial numbers starting from 1\n",
    "for trial_number, condition in enumerate(experimental_conditions, start=1):\n",
    "    print(f\"  Trial {trial_number}: Condition is '{condition}'\")"
   ]
  },
  {
   "cell_type": "markdown",
   "id": "25e4f115",
   "metadata": {},
   "source": [
    "\n",
    "### 2. Conditional Logic (`if`, `elif`, `else`)\n",
    "\n",
    "`if` statements are used to execute a block of code only if a certain condition is `true`. Optional `elif` (else if) and `else` can control how to handle multiple conditions or a default action.\n",
    "\n",
    "**Common comparisons**\n",
    "- Equality / inequality: `==`, `!=`\n",
    "- Numeric comparisons: `<`, `<=`, `>`, `>=`\n",
    "- Logical operators: `and`, `or`, `not`\n",
    "- Membership: `in`, `not in`\n",
    "\n",
    "### Example 1.1 — Categorising reaction times\n",
    "We’ll label each trial as **fast** or **slow** relative to a cutoff (e.g., 500 ms)."
   ]
  }
 ],
 "metadata": {
  "kernelspec": {
   "display_name": "ICN_Programming_Course-E5uewI15",
   "language": "python",
   "name": "python3"
  },
  "language_info": {
   "codemirror_mode": {
    "name": "ipython",
    "version": 3
   },
   "file_extension": ".py",
   "mimetype": "text/x-python",
   "name": "python",
   "nbconvert_exporter": "python",
   "pygments_lexer": "ipython3",
   "version": "3.10.11"
  }
 },
 "nbformat": 4,
 "nbformat_minor": 5
}
